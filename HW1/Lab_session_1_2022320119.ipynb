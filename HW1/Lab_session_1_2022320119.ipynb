{
  "cells": [
    {
      "cell_type": "markdown",
      "metadata": {
        "id": "m98AiHLQeiS0"
      },
      "source": [
        "# **COSE474-2024F: Deep Learning HW1**\n",
        "### Student Name: 아이샤\n",
        "### Student ID: 2022320119"
      ]
    },
    {
      "cell_type": "markdown",
      "metadata": {
        "id": "qnKwZ3xTeuu_"
      },
      "source": [
        "## 0.1 Installation"
      ]
    },
    {
      "cell_type": "code",
      "execution_count": null,
      "metadata": {
        "colab": {
          "base_uri": "https://localhost:8080/",
          "height": 1000
        },
        "id": "lfxmpxSHdpyF",
        "outputId": "385a69a8-5cd5-4327-ff60-d5eaa275ca86"
      },
      "outputs": [
        {
          "output_type": "stream",
          "name": "stdout",
          "text": [
            "Collecting d2l==1.0.3\n",
            "  Downloading d2l-1.0.3-py3-none-any.whl.metadata (556 bytes)\n",
            "Collecting jupyter==1.0.0 (from d2l==1.0.3)\n",
            "  Downloading jupyter-1.0.0-py2.py3-none-any.whl.metadata (995 bytes)\n",
            "Collecting numpy==1.23.5 (from d2l==1.0.3)\n",
            "  Downloading numpy-1.23.5-cp310-cp310-manylinux_2_17_x86_64.manylinux2014_x86_64.whl.metadata (2.3 kB)\n",
            "Collecting matplotlib==3.7.2 (from d2l==1.0.3)\n",
            "  Downloading matplotlib-3.7.2-cp310-cp310-manylinux_2_17_x86_64.manylinux2014_x86_64.whl.metadata (5.6 kB)\n",
            "Collecting matplotlib-inline==0.1.6 (from d2l==1.0.3)\n",
            "  Downloading matplotlib_inline-0.1.6-py3-none-any.whl.metadata (2.8 kB)\n",
            "Collecting requests==2.31.0 (from d2l==1.0.3)\n",
            "  Downloading requests-2.31.0-py3-none-any.whl.metadata (4.6 kB)\n",
            "Collecting pandas==2.0.3 (from d2l==1.0.3)\n",
            "  Downloading pandas-2.0.3-cp310-cp310-manylinux_2_17_x86_64.manylinux2014_x86_64.whl.metadata (18 kB)\n",
            "Collecting scipy==1.10.1 (from d2l==1.0.3)\n",
            "  Downloading scipy-1.10.1-cp310-cp310-manylinux_2_17_x86_64.manylinux2014_x86_64.whl.metadata (58 kB)\n",
            "\u001b[2K     \u001b[90m━━━━━━━━━━━━━━━━━━━━━━━━━━━━━━━━━━━━━━━━\u001b[0m \u001b[32m58.9/58.9 kB\u001b[0m \u001b[31m2.0 MB/s\u001b[0m eta \u001b[36m0:00:00\u001b[0m\n",
            "\u001b[?25hRequirement already satisfied: notebook in /usr/local/lib/python3.10/dist-packages (from jupyter==1.0.0->d2l==1.0.3) (6.5.5)\n",
            "Collecting qtconsole (from jupyter==1.0.0->d2l==1.0.3)\n",
            "  Downloading qtconsole-5.6.1-py3-none-any.whl.metadata (5.0 kB)\n",
            "Requirement already satisfied: jupyter-console in /usr/local/lib/python3.10/dist-packages (from jupyter==1.0.0->d2l==1.0.3) (6.1.0)\n",
            "Requirement already satisfied: nbconvert in /usr/local/lib/python3.10/dist-packages (from jupyter==1.0.0->d2l==1.0.3) (6.5.4)\n",
            "Requirement already satisfied: ipykernel in /usr/local/lib/python3.10/dist-packages (from jupyter==1.0.0->d2l==1.0.3) (5.5.6)\n",
            "Requirement already satisfied: ipywidgets in /usr/local/lib/python3.10/dist-packages (from jupyter==1.0.0->d2l==1.0.3) (7.7.1)\n",
            "Requirement already satisfied: contourpy>=1.0.1 in /usr/local/lib/python3.10/dist-packages (from matplotlib==3.7.2->d2l==1.0.3) (1.3.0)\n",
            "Requirement already satisfied: cycler>=0.10 in /usr/local/lib/python3.10/dist-packages (from matplotlib==3.7.2->d2l==1.0.3) (0.12.1)\n",
            "Requirement already satisfied: fonttools>=4.22.0 in /usr/local/lib/python3.10/dist-packages (from matplotlib==3.7.2->d2l==1.0.3) (4.54.1)\n",
            "Requirement already satisfied: kiwisolver>=1.0.1 in /usr/local/lib/python3.10/dist-packages (from matplotlib==3.7.2->d2l==1.0.3) (1.4.7)\n",
            "Requirement already satisfied: packaging>=20.0 in /usr/local/lib/python3.10/dist-packages (from matplotlib==3.7.2->d2l==1.0.3) (24.1)\n",
            "Requirement already satisfied: pillow>=6.2.0 in /usr/local/lib/python3.10/dist-packages (from matplotlib==3.7.2->d2l==1.0.3) (10.4.0)\n",
            "Collecting pyparsing<3.1,>=2.3.1 (from matplotlib==3.7.2->d2l==1.0.3)\n",
            "  Downloading pyparsing-3.0.9-py3-none-any.whl.metadata (4.2 kB)\n",
            "Requirement already satisfied: python-dateutil>=2.7 in /usr/local/lib/python3.10/dist-packages (from matplotlib==3.7.2->d2l==1.0.3) (2.8.2)\n",
            "Requirement already satisfied: traitlets in /usr/local/lib/python3.10/dist-packages (from matplotlib-inline==0.1.6->d2l==1.0.3) (5.7.1)\n",
            "Requirement already satisfied: pytz>=2020.1 in /usr/local/lib/python3.10/dist-packages (from pandas==2.0.3->d2l==1.0.3) (2024.2)\n",
            "Requirement already satisfied: tzdata>=2022.1 in /usr/local/lib/python3.10/dist-packages (from pandas==2.0.3->d2l==1.0.3) (2024.2)\n",
            "Requirement already satisfied: charset-normalizer<4,>=2 in /usr/local/lib/python3.10/dist-packages (from requests==2.31.0->d2l==1.0.3) (3.4.0)\n",
            "Requirement already satisfied: idna<4,>=2.5 in /usr/local/lib/python3.10/dist-packages (from requests==2.31.0->d2l==1.0.3) (3.10)\n",
            "Requirement already satisfied: urllib3<3,>=1.21.1 in /usr/local/lib/python3.10/dist-packages (from requests==2.31.0->d2l==1.0.3) (2.2.3)\n",
            "Requirement already satisfied: certifi>=2017.4.17 in /usr/local/lib/python3.10/dist-packages (from requests==2.31.0->d2l==1.0.3) (2024.8.30)\n",
            "Requirement already satisfied: six>=1.5 in /usr/local/lib/python3.10/dist-packages (from python-dateutil>=2.7->matplotlib==3.7.2->d2l==1.0.3) (1.16.0)\n",
            "Requirement already satisfied: ipython-genutils in /usr/local/lib/python3.10/dist-packages (from ipykernel->jupyter==1.0.0->d2l==1.0.3) (0.2.0)\n",
            "Requirement already satisfied: ipython>=5.0.0 in /usr/local/lib/python3.10/dist-packages (from ipykernel->jupyter==1.0.0->d2l==1.0.3) (7.34.0)\n",
            "Requirement already satisfied: jupyter-client in /usr/local/lib/python3.10/dist-packages (from ipykernel->jupyter==1.0.0->d2l==1.0.3) (6.1.12)\n",
            "Requirement already satisfied: tornado>=4.2 in /usr/local/lib/python3.10/dist-packages (from ipykernel->jupyter==1.0.0->d2l==1.0.3) (6.3.3)\n",
            "Requirement already satisfied: widgetsnbextension~=3.6.0 in /usr/local/lib/python3.10/dist-packages (from ipywidgets->jupyter==1.0.0->d2l==1.0.3) (3.6.10)\n",
            "Requirement already satisfied: jupyterlab-widgets>=1.0.0 in /usr/local/lib/python3.10/dist-packages (from ipywidgets->jupyter==1.0.0->d2l==1.0.3) (3.0.13)\n",
            "Requirement already satisfied: prompt-toolkit!=3.0.0,!=3.0.1,<3.1.0,>=2.0.0 in /usr/local/lib/python3.10/dist-packages (from jupyter-console->jupyter==1.0.0->d2l==1.0.3) (3.0.48)\n",
            "Requirement already satisfied: pygments in /usr/local/lib/python3.10/dist-packages (from jupyter-console->jupyter==1.0.0->d2l==1.0.3) (2.18.0)\n",
            "Requirement already satisfied: lxml in /usr/local/lib/python3.10/dist-packages (from nbconvert->jupyter==1.0.0->d2l==1.0.3) (4.9.4)\n",
            "Requirement already satisfied: beautifulsoup4 in /usr/local/lib/python3.10/dist-packages (from nbconvert->jupyter==1.0.0->d2l==1.0.3) (4.12.3)\n",
            "Requirement already satisfied: bleach in /usr/local/lib/python3.10/dist-packages (from nbconvert->jupyter==1.0.0->d2l==1.0.3) (6.1.0)\n",
            "Requirement already satisfied: defusedxml in /usr/local/lib/python3.10/dist-packages (from nbconvert->jupyter==1.0.0->d2l==1.0.3) (0.7.1)\n",
            "Requirement already satisfied: entrypoints>=0.2.2 in /usr/local/lib/python3.10/dist-packages (from nbconvert->jupyter==1.0.0->d2l==1.0.3) (0.4)\n",
            "Requirement already satisfied: jinja2>=3.0 in /usr/local/lib/python3.10/dist-packages (from nbconvert->jupyter==1.0.0->d2l==1.0.3) (3.1.4)\n",
            "Requirement already satisfied: jupyter-core>=4.7 in /usr/local/lib/python3.10/dist-packages (from nbconvert->jupyter==1.0.0->d2l==1.0.3) (5.7.2)\n",
            "Requirement already satisfied: jupyterlab-pygments in /usr/local/lib/python3.10/dist-packages (from nbconvert->jupyter==1.0.0->d2l==1.0.3) (0.3.0)\n",
            "Requirement already satisfied: MarkupSafe>=2.0 in /usr/local/lib/python3.10/dist-packages (from nbconvert->jupyter==1.0.0->d2l==1.0.3) (3.0.2)\n",
            "Requirement already satisfied: mistune<2,>=0.8.1 in /usr/local/lib/python3.10/dist-packages (from nbconvert->jupyter==1.0.0->d2l==1.0.3) (0.8.4)\n",
            "Requirement already satisfied: nbclient>=0.5.0 in /usr/local/lib/python3.10/dist-packages (from nbconvert->jupyter==1.0.0->d2l==1.0.3) (0.10.0)\n",
            "Requirement already satisfied: nbformat>=5.1 in /usr/local/lib/python3.10/dist-packages (from nbconvert->jupyter==1.0.0->d2l==1.0.3) (5.10.4)\n",
            "Requirement already satisfied: pandocfilters>=1.4.1 in /usr/local/lib/python3.10/dist-packages (from nbconvert->jupyter==1.0.0->d2l==1.0.3) (1.5.1)\n",
            "Requirement already satisfied: tinycss2 in /usr/local/lib/python3.10/dist-packages (from nbconvert->jupyter==1.0.0->d2l==1.0.3) (1.3.0)\n",
            "Requirement already satisfied: pyzmq<25,>=17 in /usr/local/lib/python3.10/dist-packages (from notebook->jupyter==1.0.0->d2l==1.0.3) (24.0.1)\n",
            "Requirement already satisfied: argon2-cffi in /usr/local/lib/python3.10/dist-packages (from notebook->jupyter==1.0.0->d2l==1.0.3) (23.1.0)\n",
            "Requirement already satisfied: nest-asyncio>=1.5 in /usr/local/lib/python3.10/dist-packages (from notebook->jupyter==1.0.0->d2l==1.0.3) (1.6.0)\n",
            "Requirement already satisfied: Send2Trash>=1.8.0 in /usr/local/lib/python3.10/dist-packages (from notebook->jupyter==1.0.0->d2l==1.0.3) (1.8.3)\n",
            "Requirement already satisfied: terminado>=0.8.3 in /usr/local/lib/python3.10/dist-packages (from notebook->jupyter==1.0.0->d2l==1.0.3) (0.18.1)\n",
            "Requirement already satisfied: prometheus-client in /usr/local/lib/python3.10/dist-packages (from notebook->jupyter==1.0.0->d2l==1.0.3) (0.21.0)\n",
            "Requirement already satisfied: nbclassic>=0.4.7 in /usr/local/lib/python3.10/dist-packages (from notebook->jupyter==1.0.0->d2l==1.0.3) (1.1.0)\n",
            "Collecting qtpy>=2.4.0 (from qtconsole->jupyter==1.0.0->d2l==1.0.3)\n",
            "  Downloading QtPy-2.4.1-py3-none-any.whl.metadata (12 kB)\n",
            "Requirement already satisfied: setuptools>=18.5 in /usr/local/lib/python3.10/dist-packages (from ipython>=5.0.0->ipykernel->jupyter==1.0.0->d2l==1.0.3) (75.1.0)\n",
            "Collecting jedi>=0.16 (from ipython>=5.0.0->ipykernel->jupyter==1.0.0->d2l==1.0.3)\n",
            "  Downloading jedi-0.19.1-py2.py3-none-any.whl.metadata (22 kB)\n",
            "Requirement already satisfied: decorator in /usr/local/lib/python3.10/dist-packages (from ipython>=5.0.0->ipykernel->jupyter==1.0.0->d2l==1.0.3) (4.4.2)\n",
            "Requirement already satisfied: pickleshare in /usr/local/lib/python3.10/dist-packages (from ipython>=5.0.0->ipykernel->jupyter==1.0.0->d2l==1.0.3) (0.7.5)\n",
            "Requirement already satisfied: backcall in /usr/local/lib/python3.10/dist-packages (from ipython>=5.0.0->ipykernel->jupyter==1.0.0->d2l==1.0.3) (0.2.0)\n",
            "Requirement already satisfied: pexpect>4.3 in /usr/local/lib/python3.10/dist-packages (from ipython>=5.0.0->ipykernel->jupyter==1.0.0->d2l==1.0.3) (4.9.0)\n",
            "Requirement already satisfied: platformdirs>=2.5 in /usr/local/lib/python3.10/dist-packages (from jupyter-core>=4.7->nbconvert->jupyter==1.0.0->d2l==1.0.3) (4.3.6)\n",
            "Requirement already satisfied: notebook-shim>=0.2.3 in /usr/local/lib/python3.10/dist-packages (from nbclassic>=0.4.7->notebook->jupyter==1.0.0->d2l==1.0.3) (0.2.4)\n",
            "Requirement already satisfied: fastjsonschema>=2.15 in /usr/local/lib/python3.10/dist-packages (from nbformat>=5.1->nbconvert->jupyter==1.0.0->d2l==1.0.3) (2.20.0)\n",
            "Requirement already satisfied: jsonschema>=2.6 in /usr/local/lib/python3.10/dist-packages (from nbformat>=5.1->nbconvert->jupyter==1.0.0->d2l==1.0.3) (4.23.0)\n",
            "Requirement already satisfied: wcwidth in /usr/local/lib/python3.10/dist-packages (from prompt-toolkit!=3.0.0,!=3.0.1,<3.1.0,>=2.0.0->jupyter-console->jupyter==1.0.0->d2l==1.0.3) (0.2.13)\n",
            "Requirement already satisfied: ptyprocess in /usr/local/lib/python3.10/dist-packages (from terminado>=0.8.3->notebook->jupyter==1.0.0->d2l==1.0.3) (0.7.0)\n",
            "Requirement already satisfied: argon2-cffi-bindings in /usr/local/lib/python3.10/dist-packages (from argon2-cffi->notebook->jupyter==1.0.0->d2l==1.0.3) (21.2.0)\n",
            "Requirement already satisfied: soupsieve>1.2 in /usr/local/lib/python3.10/dist-packages (from beautifulsoup4->nbconvert->jupyter==1.0.0->d2l==1.0.3) (2.6)\n",
            "Requirement already satisfied: webencodings in /usr/local/lib/python3.10/dist-packages (from bleach->nbconvert->jupyter==1.0.0->d2l==1.0.3) (0.5.1)\n",
            "Requirement already satisfied: parso<0.9.0,>=0.8.3 in /usr/local/lib/python3.10/dist-packages (from jedi>=0.16->ipython>=5.0.0->ipykernel->jupyter==1.0.0->d2l==1.0.3) (0.8.4)\n",
            "Requirement already satisfied: attrs>=22.2.0 in /usr/local/lib/python3.10/dist-packages (from jsonschema>=2.6->nbformat>=5.1->nbconvert->jupyter==1.0.0->d2l==1.0.3) (24.2.0)\n",
            "Requirement already satisfied: jsonschema-specifications>=2023.03.6 in /usr/local/lib/python3.10/dist-packages (from jsonschema>=2.6->nbformat>=5.1->nbconvert->jupyter==1.0.0->d2l==1.0.3) (2024.10.1)\n",
            "Requirement already satisfied: referencing>=0.28.4 in /usr/local/lib/python3.10/dist-packages (from jsonschema>=2.6->nbformat>=5.1->nbconvert->jupyter==1.0.0->d2l==1.0.3) (0.35.1)\n",
            "Requirement already satisfied: rpds-py>=0.7.1 in /usr/local/lib/python3.10/dist-packages (from jsonschema>=2.6->nbformat>=5.1->nbconvert->jupyter==1.0.0->d2l==1.0.3) (0.20.0)\n",
            "Requirement already satisfied: jupyter-server<3,>=1.8 in /usr/local/lib/python3.10/dist-packages (from notebook-shim>=0.2.3->nbclassic>=0.4.7->notebook->jupyter==1.0.0->d2l==1.0.3) (1.24.0)\n",
            "Requirement already satisfied: cffi>=1.0.1 in /usr/local/lib/python3.10/dist-packages (from argon2-cffi-bindings->argon2-cffi->notebook->jupyter==1.0.0->d2l==1.0.3) (1.17.1)\n",
            "Requirement already satisfied: pycparser in /usr/local/lib/python3.10/dist-packages (from cffi>=1.0.1->argon2-cffi-bindings->argon2-cffi->notebook->jupyter==1.0.0->d2l==1.0.3) (2.22)\n",
            "Requirement already satisfied: anyio<4,>=3.1.0 in /usr/local/lib/python3.10/dist-packages (from jupyter-server<3,>=1.8->notebook-shim>=0.2.3->nbclassic>=0.4.7->notebook->jupyter==1.0.0->d2l==1.0.3) (3.7.1)\n",
            "Requirement already satisfied: websocket-client in /usr/local/lib/python3.10/dist-packages (from jupyter-server<3,>=1.8->notebook-shim>=0.2.3->nbclassic>=0.4.7->notebook->jupyter==1.0.0->d2l==1.0.3) (1.8.0)\n",
            "Requirement already satisfied: sniffio>=1.1 in /usr/local/lib/python3.10/dist-packages (from anyio<4,>=3.1.0->jupyter-server<3,>=1.8->notebook-shim>=0.2.3->nbclassic>=0.4.7->notebook->jupyter==1.0.0->d2l==1.0.3) (1.3.1)\n",
            "Requirement already satisfied: exceptiongroup in /usr/local/lib/python3.10/dist-packages (from anyio<4,>=3.1.0->jupyter-server<3,>=1.8->notebook-shim>=0.2.3->nbclassic>=0.4.7->notebook->jupyter==1.0.0->d2l==1.0.3) (1.2.2)\n",
            "Downloading d2l-1.0.3-py3-none-any.whl (111 kB)\n",
            "\u001b[2K   \u001b[90m━━━━━━━━━━━━━━━━━━━━━━━━━━━━━━━━━━━━━━━━\u001b[0m \u001b[32m111.7/111.7 kB\u001b[0m \u001b[31m1.1 MB/s\u001b[0m eta \u001b[36m0:00:00\u001b[0m\n",
            "\u001b[?25hDownloading jupyter-1.0.0-py2.py3-none-any.whl (2.7 kB)\n",
            "Downloading matplotlib-3.7.2-cp310-cp310-manylinux_2_17_x86_64.manylinux2014_x86_64.whl (11.6 MB)\n",
            "\u001b[2K   \u001b[90m━━━━━━━━━━━━━━━━━━━━━━━━━━━━━━━━━━━━━━━━\u001b[0m \u001b[32m11.6/11.6 MB\u001b[0m \u001b[31m21.3 MB/s\u001b[0m eta \u001b[36m0:00:00\u001b[0m\n",
            "\u001b[?25hDownloading matplotlib_inline-0.1.6-py3-none-any.whl (9.4 kB)\n",
            "Downloading numpy-1.23.5-cp310-cp310-manylinux_2_17_x86_64.manylinux2014_x86_64.whl (17.1 MB)\n",
            "\u001b[2K   \u001b[90m━━━━━━━━━━━━━━━━━━━━━━━━━━━━━━━━━━━━━━━━\u001b[0m \u001b[32m17.1/17.1 MB\u001b[0m \u001b[31m24.8 MB/s\u001b[0m eta \u001b[36m0:00:00\u001b[0m\n",
            "\u001b[?25hDownloading pandas-2.0.3-cp310-cp310-manylinux_2_17_x86_64.manylinux2014_x86_64.whl (12.3 MB)\n",
            "\u001b[2K   \u001b[90m━━━━━━━━━━━━━━━━━━━━━━━━━━━━━━━━━━━━━━━━\u001b[0m \u001b[32m12.3/12.3 MB\u001b[0m \u001b[31m24.3 MB/s\u001b[0m eta \u001b[36m0:00:00\u001b[0m\n",
            "\u001b[?25hDownloading requests-2.31.0-py3-none-any.whl (62 kB)\n",
            "\u001b[2K   \u001b[90m━━━━━━━━━━━━━━━━━━━━━━━━━━━━━━━━━━━━━━━━\u001b[0m \u001b[32m62.6/62.6 kB\u001b[0m \u001b[31m3.2 MB/s\u001b[0m eta \u001b[36m0:00:00\u001b[0m\n",
            "\u001b[?25hDownloading scipy-1.10.1-cp310-cp310-manylinux_2_17_x86_64.manylinux2014_x86_64.whl (34.4 MB)\n",
            "\u001b[2K   \u001b[90m━━━━━━━━━━━━━━━━━━━━━━━━━━━━━━━━━━━━━━━━\u001b[0m \u001b[32m34.4/34.4 MB\u001b[0m \u001b[31m11.1 MB/s\u001b[0m eta \u001b[36m0:00:00\u001b[0m\n",
            "\u001b[?25hDownloading pyparsing-3.0.9-py3-none-any.whl (98 kB)\n",
            "\u001b[2K   \u001b[90m━━━━━━━━━━━━━━━━━━━━━━━━━━━━━━━━━━━━━━━━\u001b[0m \u001b[32m98.3/98.3 kB\u001b[0m \u001b[31m4.6 MB/s\u001b[0m eta \u001b[36m0:00:00\u001b[0m\n",
            "\u001b[?25hDownloading qtconsole-5.6.1-py3-none-any.whl (125 kB)\n",
            "\u001b[2K   \u001b[90m━━━━━━━━━━━━━━━━━━━━━━━━━━━━━━━━━━━━━━━━\u001b[0m \u001b[32m125.0/125.0 kB\u001b[0m \u001b[31m5.8 MB/s\u001b[0m eta \u001b[36m0:00:00\u001b[0m\n",
            "\u001b[?25hDownloading QtPy-2.4.1-py3-none-any.whl (93 kB)\n",
            "\u001b[2K   \u001b[90m━━━━━━━━━━━━━━━━━━━━━━━━━━━━━━━━━━━━━━━━\u001b[0m \u001b[32m93.5/93.5 kB\u001b[0m \u001b[31m4.8 MB/s\u001b[0m eta \u001b[36m0:00:00\u001b[0m\n",
            "\u001b[?25hDownloading jedi-0.19.1-py2.py3-none-any.whl (1.6 MB)\n",
            "\u001b[2K   \u001b[90m━━━━━━━━━━━━━━━━━━━━━━━━━━━━━━━━━━━━━━━━\u001b[0m \u001b[32m1.6/1.6 MB\u001b[0m \u001b[31m39.6 MB/s\u001b[0m eta \u001b[36m0:00:00\u001b[0m\n",
            "\u001b[?25hInstalling collected packages: requests, qtpy, pyparsing, numpy, matplotlib-inline, jedi, scipy, pandas, matplotlib, qtconsole, jupyter, d2l\n",
            "  Attempting uninstall: requests\n",
            "    Found existing installation: requests 2.32.3\n",
            "    Uninstalling requests-2.32.3:\n",
            "      Successfully uninstalled requests-2.32.3\n",
            "  Attempting uninstall: pyparsing\n",
            "    Found existing installation: pyparsing 3.2.0\n",
            "    Uninstalling pyparsing-3.2.0:\n",
            "      Successfully uninstalled pyparsing-3.2.0\n",
            "  Attempting uninstall: numpy\n",
            "    Found existing installation: numpy 1.26.4\n",
            "    Uninstalling numpy-1.26.4:\n",
            "      Successfully uninstalled numpy-1.26.4\n",
            "  Attempting uninstall: matplotlib-inline\n",
            "    Found existing installation: matplotlib-inline 0.1.7\n",
            "    Uninstalling matplotlib-inline-0.1.7:\n",
            "      Successfully uninstalled matplotlib-inline-0.1.7\n",
            "  Attempting uninstall: scipy\n",
            "    Found existing installation: scipy 1.13.1\n",
            "    Uninstalling scipy-1.13.1:\n",
            "      Successfully uninstalled scipy-1.13.1\n",
            "  Attempting uninstall: pandas\n",
            "    Found existing installation: pandas 2.2.2\n",
            "    Uninstalling pandas-2.2.2:\n",
            "      Successfully uninstalled pandas-2.2.2\n",
            "  Attempting uninstall: matplotlib\n",
            "    Found existing installation: matplotlib 3.7.1\n",
            "    Uninstalling matplotlib-3.7.1:\n",
            "      Successfully uninstalled matplotlib-3.7.1\n",
            "\u001b[31mERROR: pip's dependency resolver does not currently take into account all the packages that are installed. This behaviour is the source of the following dependency conflicts.\n",
            "albucore 0.0.16 requires numpy>=1.24, but you have numpy 1.23.5 which is incompatible.\n",
            "albumentations 1.4.15 requires numpy>=1.24.4, but you have numpy 1.23.5 which is incompatible.\n",
            "bigframes 1.22.0 requires numpy>=1.24.0, but you have numpy 1.23.5 which is incompatible.\n",
            "chex 0.1.87 requires numpy>=1.24.1, but you have numpy 1.23.5 which is incompatible.\n",
            "google-colab 1.0.0 requires pandas==2.2.2, but you have pandas 2.0.3 which is incompatible.\n",
            "google-colab 1.0.0 requires requests==2.32.3, but you have requests 2.31.0 which is incompatible.\n",
            "jax 0.4.33 requires numpy>=1.24, but you have numpy 1.23.5 which is incompatible.\n",
            "jaxlib 0.4.33 requires numpy>=1.24, but you have numpy 1.23.5 which is incompatible.\n",
            "mizani 0.11.4 requires pandas>=2.1.0, but you have pandas 2.0.3 which is incompatible.\n",
            "plotnine 0.13.6 requires pandas<3.0.0,>=2.1.0, but you have pandas 2.0.3 which is incompatible.\n",
            "xarray 2024.9.0 requires numpy>=1.24, but you have numpy 1.23.5 which is incompatible.\n",
            "xarray 2024.9.0 requires pandas>=2.1, but you have pandas 2.0.3 which is incompatible.\u001b[0m\u001b[31m\n",
            "\u001b[0mSuccessfully installed d2l-1.0.3 jedi-0.19.1 jupyter-1.0.0 matplotlib-3.7.2 matplotlib-inline-0.1.6 numpy-1.23.5 pandas-2.0.3 pyparsing-3.0.9 qtconsole-5.6.1 qtpy-2.4.1 requests-2.31.0 scipy-1.10.1\n"
          ]
        },
        {
          "output_type": "display_data",
          "data": {
            "application/vnd.colab-display-data+json": {
              "pip_warning": {
                "packages": [
                  "matplotlib",
                  "matplotlib_inline",
                  "mpl_toolkits",
                  "numpy"
                ]
              },
              "id": "ea11192d13034db99fd5fb5ed19ed417"
            }
          },
          "metadata": {}
        }
      ],
      "source": [
        "!pip install d2l==1.0.3"
      ]
    },
    {
      "cell_type": "markdown",
      "metadata": {
        "id": "VtfssaITfCSh"
      },
      "source": [
        "## 2.1 Data Manipulation"
      ]
    },
    {
      "cell_type": "markdown",
      "source": [
        "### 2.1 Memo\n",
        "- Tensors provide a variety of functionalities including construction routines; indexing and slicing; basic mathematics operations; broadcasting; memory-efficient assignment; and conversion to and from other Python objects.\n",
        "- For all modern deep learning frameworks, the tensor class (ndarray in MXNet, Tensor in PyTorch and TensorFlow) resembles NumPy’s ndarray."
      ],
      "metadata": {
        "id": "wEfh1fXfS5jZ"
      }
    },
    {
      "cell_type": "code",
      "execution_count": null,
      "metadata": {
        "id": "SPyqIdrueLiT"
      },
      "outputs": [],
      "source": [
        "import torch"
      ]
    },
    {
      "cell_type": "code",
      "execution_count": null,
      "metadata": {
        "colab": {
          "base_uri": "https://localhost:8080/"
        },
        "id": "iCwEHwzu5eUP",
        "outputId": "5d4bd66b-889f-41fa-9916-c1d10524d729"
      },
      "outputs": [
        {
          "output_type": "execute_result",
          "data": {
            "text/plain": [
              "tensor([ 0.,  1.,  2.,  3.,  4.,  5.,  6.,  7.,  8.,  9., 10., 11.])"
            ]
          },
          "metadata": {},
          "execution_count": 3
        }
      ],
      "source": [
        "x = torch.arange(12, dtype=torch.float32)\n",
        "x"
      ]
    },
    {
      "cell_type": "code",
      "execution_count": null,
      "metadata": {
        "colab": {
          "base_uri": "https://localhost:8080/"
        },
        "id": "RVeUQMU75mcj",
        "outputId": "85801366-6507-40ee-8409-5dc6243f65e1"
      },
      "outputs": [
        {
          "output_type": "execute_result",
          "data": {
            "text/plain": [
              "12"
            ]
          },
          "metadata": {},
          "execution_count": 4
        }
      ],
      "source": [
        "x.numel()"
      ]
    },
    {
      "cell_type": "code",
      "source": [
        "x.shape"
      ],
      "metadata": {
        "colab": {
          "base_uri": "https://localhost:8080/"
        },
        "id": "Xr5l0vA16HIv",
        "outputId": "ba0dd4a0-1946-42f2-bfde-bc09f30936e5"
      },
      "execution_count": null,
      "outputs": [
        {
          "output_type": "execute_result",
          "data": {
            "text/plain": [
              "torch.Size([12])"
            ]
          },
          "metadata": {},
          "execution_count": 5
        }
      ]
    },
    {
      "cell_type": "code",
      "source": [
        "X = x.reshape(3, 4)\n",
        "X"
      ],
      "metadata": {
        "colab": {
          "base_uri": "https://localhost:8080/"
        },
        "id": "-RAE2eLw6JZh",
        "outputId": "2cc46968-0f8d-4b01-c352-a0d7cd7b4039"
      },
      "execution_count": null,
      "outputs": [
        {
          "output_type": "execute_result",
          "data": {
            "text/plain": [
              "tensor([[ 0.,  1.,  2.,  3.],\n",
              "        [ 4.,  5.,  6.,  7.],\n",
              "        [ 8.,  9., 10., 11.]])"
            ]
          },
          "metadata": {},
          "execution_count": 6
        }
      ]
    },
    {
      "cell_type": "code",
      "source": [
        "X.shape"
      ],
      "metadata": {
        "colab": {
          "base_uri": "https://localhost:8080/"
        },
        "id": "MfFO31Ci6QdZ",
        "outputId": "d7cdc262-6d5a-47df-cb90-f032ff9e66ba"
      },
      "execution_count": null,
      "outputs": [
        {
          "output_type": "execute_result",
          "data": {
            "text/plain": [
              "torch.Size([3, 4])"
            ]
          },
          "metadata": {},
          "execution_count": 7
        }
      ]
    },
    {
      "cell_type": "code",
      "source": [
        "torch.zeros((2, 3, 4))"
      ],
      "metadata": {
        "colab": {
          "base_uri": "https://localhost:8080/"
        },
        "id": "ZgazB3R76TL5",
        "outputId": "83a9b3c7-252f-42f8-dd7a-c20d7cc0f83e"
      },
      "execution_count": null,
      "outputs": [
        {
          "output_type": "execute_result",
          "data": {
            "text/plain": [
              "tensor([[[0., 0., 0., 0.],\n",
              "         [0., 0., 0., 0.],\n",
              "         [0., 0., 0., 0.]],\n",
              "\n",
              "        [[0., 0., 0., 0.],\n",
              "         [0., 0., 0., 0.],\n",
              "         [0., 0., 0., 0.]]])"
            ]
          },
          "metadata": {},
          "execution_count": 8
        }
      ]
    },
    {
      "cell_type": "code",
      "source": [
        "torch.ones((2, 3, 4))"
      ],
      "metadata": {
        "colab": {
          "base_uri": "https://localhost:8080/"
        },
        "id": "E5smR2H76X1U",
        "outputId": "a8f6394f-5fac-431a-f4c0-1356d768c19e"
      },
      "execution_count": null,
      "outputs": [
        {
          "output_type": "execute_result",
          "data": {
            "text/plain": [
              "tensor([[[1., 1., 1., 1.],\n",
              "         [1., 1., 1., 1.],\n",
              "         [1., 1., 1., 1.]],\n",
              "\n",
              "        [[1., 1., 1., 1.],\n",
              "         [1., 1., 1., 1.],\n",
              "         [1., 1., 1., 1.]]])"
            ]
          },
          "metadata": {},
          "execution_count": 9
        }
      ]
    },
    {
      "cell_type": "code",
      "source": [
        "torch.randn(3, 4)"
      ],
      "metadata": {
        "colab": {
          "base_uri": "https://localhost:8080/"
        },
        "id": "XIkBL7i8Junn",
        "outputId": "20059772-3344-4aaf-a778-493cd537334b"
      },
      "execution_count": null,
      "outputs": [
        {
          "output_type": "execute_result",
          "data": {
            "text/plain": [
              "tensor([[-1.8024, -0.0437,  0.7827, -1.3272],\n",
              "        [-0.3825,  2.3257,  0.2234,  1.3909],\n",
              "        [ 0.4761, -0.8132,  1.8185, -0.4717]])"
            ]
          },
          "metadata": {},
          "execution_count": 10
        }
      ]
    },
    {
      "cell_type": "code",
      "source": [
        "torch.tensor([[2, 1, 4, 3], [1, 2, 3, 4], [4, 3, 2, 1]])"
      ],
      "metadata": {
        "colab": {
          "base_uri": "https://localhost:8080/"
        },
        "id": "QdBuGnXNJ1nS",
        "outputId": "52c85ded-757e-4efb-94c6-1ca92d7843e6"
      },
      "execution_count": null,
      "outputs": [
        {
          "output_type": "execute_result",
          "data": {
            "text/plain": [
              "tensor([[2, 1, 4, 3],\n",
              "        [1, 2, 3, 4],\n",
              "        [4, 3, 2, 1]])"
            ]
          },
          "metadata": {},
          "execution_count": 11
        }
      ]
    },
    {
      "cell_type": "markdown",
      "source": [
        "### 2.1.2 Indexing and Slicing"
      ],
      "metadata": {
        "id": "Mc8URm7wKUWb"
      }
    },
    {
      "cell_type": "code",
      "source": [
        "X[-1], X[1:3]"
      ],
      "metadata": {
        "colab": {
          "base_uri": "https://localhost:8080/"
        },
        "id": "rweJtEDCKcUA",
        "outputId": "59865ec9-c6a4-45a6-c6f4-c318dff1f805"
      },
      "execution_count": null,
      "outputs": [
        {
          "output_type": "execute_result",
          "data": {
            "text/plain": [
              "(tensor([ 8.,  9., 10., 11.]),\n",
              " tensor([[ 4.,  5.,  6.,  7.],\n",
              "         [ 8.,  9., 10., 11.]]))"
            ]
          },
          "metadata": {},
          "execution_count": 12
        }
      ]
    },
    {
      "cell_type": "code",
      "source": [
        "X[1, 2] = 17\n",
        "X"
      ],
      "metadata": {
        "colab": {
          "base_uri": "https://localhost:8080/"
        },
        "id": "ggMTXyWPKiFz",
        "outputId": "3f52c677-24bd-4b11-f179-3ced29c3b8eb"
      },
      "execution_count": null,
      "outputs": [
        {
          "output_type": "execute_result",
          "data": {
            "text/plain": [
              "tensor([[ 0.,  1.,  2.,  3.],\n",
              "        [ 4.,  5., 17.,  7.],\n",
              "        [ 8.,  9., 10., 11.]])"
            ]
          },
          "metadata": {},
          "execution_count": 13
        }
      ]
    },
    {
      "cell_type": "code",
      "source": [
        "X[:2, :] = 12\n",
        "X"
      ],
      "metadata": {
        "colab": {
          "base_uri": "https://localhost:8080/"
        },
        "id": "BUDDrTTlKl00",
        "outputId": "f2870f15-6f2d-43d3-dc42-c95ace7513ba"
      },
      "execution_count": null,
      "outputs": [
        {
          "output_type": "execute_result",
          "data": {
            "text/plain": [
              "tensor([[12., 12., 12., 12.],\n",
              "        [12., 12., 12., 12.],\n",
              "        [ 8.,  9., 10., 11.]])"
            ]
          },
          "metadata": {},
          "execution_count": 14
        }
      ]
    },
    {
      "cell_type": "markdown",
      "source": [
        "### 2.1.3 Operations"
      ],
      "metadata": {
        "id": "5g-MuvUSKm28"
      }
    },
    {
      "cell_type": "code",
      "source": [
        "torch.exp(x)"
      ],
      "metadata": {
        "colab": {
          "base_uri": "https://localhost:8080/"
        },
        "id": "PordzviU2RPj",
        "outputId": "c0aa5633-5d81-472d-b948-d9080948032c"
      },
      "execution_count": null,
      "outputs": [
        {
          "output_type": "execute_result",
          "data": {
            "text/plain": [
              "tensor([162754.7969, 162754.7969, 162754.7969, 162754.7969, 162754.7969,\n",
              "        162754.7969, 162754.7969, 162754.7969,   2980.9580,   8103.0840,\n",
              "         22026.4648,  59874.1406])"
            ]
          },
          "metadata": {},
          "execution_count": 15
        }
      ]
    },
    {
      "cell_type": "code",
      "source": [
        "x = torch.tensor([1.0, 2, 4, 8])\n",
        "y = torch.tensor([2, 2, 2, 2])\n",
        "x + y, x - y, x * y, x / y, x ** y"
      ],
      "metadata": {
        "colab": {
          "base_uri": "https://localhost:8080/"
        },
        "id": "z2p-FiC-Kxfe",
        "outputId": "9877c5f4-b63b-435e-fda3-93f8d599bca6"
      },
      "execution_count": null,
      "outputs": [
        {
          "output_type": "execute_result",
          "data": {
            "text/plain": [
              "(tensor([ 3.,  4.,  6., 10.]),\n",
              " tensor([-1.,  0.,  2.,  6.]),\n",
              " tensor([ 2.,  4.,  8., 16.]),\n",
              " tensor([0.5000, 1.0000, 2.0000, 4.0000]),\n",
              " tensor([ 1.,  4., 16., 64.]))"
            ]
          },
          "metadata": {},
          "execution_count": 16
        }
      ]
    },
    {
      "cell_type": "code",
      "source": [
        "X = torch.arange(12, dtype=torch.float32).reshape((3,4))\n",
        "Y = torch.tensor([[2.0, 1, 4, 3], [1, 2, 3, 4], [4, 3, 2, 1]])\n",
        "torch.cat((X, Y), dim=0), torch.cat((X, Y), dim=1)"
      ],
      "metadata": {
        "colab": {
          "base_uri": "https://localhost:8080/"
        },
        "id": "7jzJVp-dKzY5",
        "outputId": "d80ad185-1c59-4557-cef3-2cbebf58eefa"
      },
      "execution_count": null,
      "outputs": [
        {
          "output_type": "execute_result",
          "data": {
            "text/plain": [
              "(tensor([[ 0.,  1.,  2.,  3.],\n",
              "         [ 4.,  5.,  6.,  7.],\n",
              "         [ 8.,  9., 10., 11.],\n",
              "         [ 2.,  1.,  4.,  3.],\n",
              "         [ 1.,  2.,  3.,  4.],\n",
              "         [ 4.,  3.,  2.,  1.]]),\n",
              " tensor([[ 0.,  1.,  2.,  3.,  2.,  1.,  4.,  3.],\n",
              "         [ 4.,  5.,  6.,  7.,  1.,  2.,  3.,  4.],\n",
              "         [ 8.,  9., 10., 11.,  4.,  3.,  2.,  1.]]))"
            ]
          },
          "metadata": {},
          "execution_count": 17
        }
      ]
    },
    {
      "cell_type": "code",
      "source": [
        "X == Y"
      ],
      "metadata": {
        "colab": {
          "base_uri": "https://localhost:8080/"
        },
        "id": "Ibuqg4emK_oi",
        "outputId": "31b7b48b-0784-4713-8aff-641306c7b9ae"
      },
      "execution_count": null,
      "outputs": [
        {
          "output_type": "execute_result",
          "data": {
            "text/plain": [
              "tensor([[False,  True, False,  True],\n",
              "        [False, False, False, False],\n",
              "        [False, False, False, False]])"
            ]
          },
          "metadata": {},
          "execution_count": 18
        }
      ]
    },
    {
      "cell_type": "code",
      "source": [
        "X.sum()"
      ],
      "metadata": {
        "colab": {
          "base_uri": "https://localhost:8080/"
        },
        "id": "jgrTTgpcLJTz",
        "outputId": "c3d4a3e2-fbba-499e-d4b6-857d94011458"
      },
      "execution_count": null,
      "outputs": [
        {
          "output_type": "execute_result",
          "data": {
            "text/plain": [
              "tensor(66.)"
            ]
          },
          "metadata": {},
          "execution_count": 19
        }
      ]
    },
    {
      "cell_type": "markdown",
      "source": [
        "### 2.1.4 Broadcasting"
      ],
      "metadata": {
        "id": "1INosbH7LP4o"
      }
    },
    {
      "cell_type": "code",
      "source": [
        "a = torch.arange(3).reshape((3, 1))\n",
        "b = torch.arange(2).reshape((1, 2))\n",
        "a, b"
      ],
      "metadata": {
        "colab": {
          "base_uri": "https://localhost:8080/"
        },
        "id": "gHX2AGYuLSeI",
        "outputId": "7ea822f7-3be5-48cb-cbdb-8cbd74d42a58"
      },
      "execution_count": null,
      "outputs": [
        {
          "output_type": "execute_result",
          "data": {
            "text/plain": [
              "(tensor([[0],\n",
              "         [1],\n",
              "         [2]]),\n",
              " tensor([[0, 1]]))"
            ]
          },
          "metadata": {},
          "execution_count": 20
        }
      ]
    },
    {
      "cell_type": "code",
      "source": [
        "a + b"
      ],
      "metadata": {
        "colab": {
          "base_uri": "https://localhost:8080/"
        },
        "id": "sLdi-bFvLXFy",
        "outputId": "ffe20089-a6bb-4e9d-c7fa-94b1e0f18e86"
      },
      "execution_count": null,
      "outputs": [
        {
          "output_type": "execute_result",
          "data": {
            "text/plain": [
              "tensor([[0, 1],\n",
              "        [1, 2],\n",
              "        [2, 3]])"
            ]
          },
          "metadata": {},
          "execution_count": 21
        }
      ]
    },
    {
      "cell_type": "markdown",
      "source": [
        "### 2.1.5 Saving Memory"
      ],
      "metadata": {
        "id": "SZMKpoldLczt"
      }
    },
    {
      "cell_type": "code",
      "source": [
        "before = id(Y)\n",
        "Y = Y + X\n",
        "id(Y) == before"
      ],
      "metadata": {
        "colab": {
          "base_uri": "https://localhost:8080/"
        },
        "id": "koi0PW18LkxS",
        "outputId": "384da83a-cc54-43c5-e20c-da2564140dab"
      },
      "execution_count": null,
      "outputs": [
        {
          "output_type": "execute_result",
          "data": {
            "text/plain": [
              "False"
            ]
          },
          "metadata": {},
          "execution_count": 22
        }
      ]
    },
    {
      "cell_type": "code",
      "source": [
        "Z = torch.zeros_like(Y)\n",
        "print('id(Z):', id(Z))\n",
        "Z[:] = X + Y\n",
        "print('id(Z):', id(Z))"
      ],
      "metadata": {
        "colab": {
          "base_uri": "https://localhost:8080/"
        },
        "id": "EQDzwrheLm4t",
        "outputId": "69a9fa65-d243-4fd2-fc37-f3aa5bd19526"
      },
      "execution_count": null,
      "outputs": [
        {
          "output_type": "stream",
          "name": "stdout",
          "text": [
            "id(Z): 137928069900672\n",
            "id(Z): 137928069900672\n"
          ]
        }
      ]
    },
    {
      "cell_type": "code",
      "source": [
        "before = id(X)\n",
        "X += Y\n",
        "id(X) == before"
      ],
      "metadata": {
        "colab": {
          "base_uri": "https://localhost:8080/"
        },
        "id": "rNE5fue2LrIL",
        "outputId": "01a11ae5-dae7-4c5d-829d-0ebb967fe833"
      },
      "execution_count": null,
      "outputs": [
        {
          "output_type": "execute_result",
          "data": {
            "text/plain": [
              "True"
            ]
          },
          "metadata": {},
          "execution_count": 24
        }
      ]
    },
    {
      "cell_type": "markdown",
      "source": [
        "### 2.1.6 Conversion to Other Python Objects"
      ],
      "metadata": {
        "id": "yJq8PlXSLus1"
      }
    },
    {
      "cell_type": "code",
      "source": [
        "A = X.numpy()\n",
        "B = torch.from_numpy(A)\n",
        "type(A), type(B)"
      ],
      "metadata": {
        "colab": {
          "base_uri": "https://localhost:8080/"
        },
        "id": "n8PcJJNQL1Oq",
        "outputId": "3e937039-60cf-49df-f62f-6b5d1e32873d"
      },
      "execution_count": null,
      "outputs": [
        {
          "output_type": "execute_result",
          "data": {
            "text/plain": [
              "(numpy.ndarray, torch.Tensor)"
            ]
          },
          "metadata": {},
          "execution_count": 25
        }
      ]
    },
    {
      "cell_type": "code",
      "source": [
        "a = torch.tensor([3.5])\n",
        "a, a.item(), float(a), int(a)"
      ],
      "metadata": {
        "colab": {
          "base_uri": "https://localhost:8080/"
        },
        "id": "tXRw8T_0L4Aq",
        "outputId": "4ab6c681-519c-4cbc-8a93-cd27c78e2f99"
      },
      "execution_count": null,
      "outputs": [
        {
          "output_type": "execute_result",
          "data": {
            "text/plain": [
              "(tensor([3.5000]), 3.5, 3.5, 3)"
            ]
          },
          "metadata": {},
          "execution_count": 26
        }
      ]
    },
    {
      "cell_type": "markdown",
      "source": [
        "## 2.2. Data Preprocessing"
      ],
      "metadata": {
        "id": "JzhpKWJaAF8X"
      }
    },
    {
      "cell_type": "markdown",
      "source": [
        "### 2.2 Memo\n",
        "- To apply deep learning, we must extract messy data stored in arbitrary formats, and preprocess it to suit our needs.\n",
        "- Real-world datasets are often plagued by outliers, faulty measurements from sensors, and recording errors, which must be addressed before feeding the data into any model.\n",
        "- Data visualization tools such as seaborn, Bokeh, or matplotlib can help you to manually inspect the data and develop intuitions about the type of problems you may need to address."
      ],
      "metadata": {
        "id": "Sr_2vmphTQwQ"
      }
    },
    {
      "cell_type": "markdown",
      "source": [
        "### 2.2.1 Reading the Dataset"
      ],
      "metadata": {
        "id": "Ve7SwEUkNeIp"
      }
    },
    {
      "cell_type": "code",
      "source": [
        "import os\n",
        "\n",
        "os.makedirs(os.path.join('..', 'data'), exist_ok=True)\n",
        "data_file = os.path.join('..', 'data', 'house_tiny.csv')\n",
        "with open(data_file, 'w') as f:\n",
        "    f.write('''NumRooms,RoofType,Price\n",
        "NA,NA,127500\n",
        "2,NA,106000\n",
        "4,Slate,178100\n",
        "NA,NA,140000''')"
      ],
      "metadata": {
        "id": "wcNL3q9CMiku"
      },
      "execution_count": null,
      "outputs": []
    },
    {
      "cell_type": "code",
      "source": [
        "import pandas as pd\n",
        "\n",
        "data = pd.read_csv(data_file)\n",
        "print(data)"
      ],
      "metadata": {
        "colab": {
          "base_uri": "https://localhost:8080/"
        },
        "id": "tUKAu1usMmaT",
        "outputId": "e1c47d7f-c6b1-4d13-c816-2f62ce79e57a"
      },
      "execution_count": null,
      "outputs": [
        {
          "output_type": "stream",
          "name": "stdout",
          "text": [
            "   NumRooms RoofType   Price\n",
            "0       NaN      NaN  127500\n",
            "1       2.0      NaN  106000\n",
            "2       4.0    Slate  178100\n",
            "3       NaN      NaN  140000\n"
          ]
        }
      ]
    },
    {
      "cell_type": "markdown",
      "source": [
        "### 2.2.2 Data Preparation"
      ],
      "metadata": {
        "id": "hNR6AmBGMrf5"
      }
    },
    {
      "cell_type": "code",
      "source": [
        "inputs, targets = data.iloc[:, 0:2], data.iloc[:, 2]\n",
        "inputs = pd.get_dummies(inputs, dummy_na=True)\n",
        "print(inputs)"
      ],
      "metadata": {
        "colab": {
          "base_uri": "https://localhost:8080/"
        },
        "id": "xQfdwRzjMzO8",
        "outputId": "a5b29ec8-6c01-4527-f052-d1c2c4638fc7"
      },
      "execution_count": null,
      "outputs": [
        {
          "output_type": "stream",
          "name": "stdout",
          "text": [
            "   NumRooms  RoofType_Slate  RoofType_nan\n",
            "0       NaN           False          True\n",
            "1       2.0           False          True\n",
            "2       4.0            True         False\n",
            "3       NaN           False          True\n"
          ]
        }
      ]
    },
    {
      "cell_type": "code",
      "source": [
        "inputs = inputs.fillna(inputs.mean())\n",
        "print(inputs)"
      ],
      "metadata": {
        "colab": {
          "base_uri": "https://localhost:8080/"
        },
        "id": "0DMxKXt1M4Sj",
        "outputId": "2570d492-9736-4e03-d9cf-450ffc72791c"
      },
      "execution_count": null,
      "outputs": [
        {
          "output_type": "stream",
          "name": "stdout",
          "text": [
            "   NumRooms  RoofType_Slate  RoofType_nan\n",
            "0       3.0           False          True\n",
            "1       2.0           False          True\n",
            "2       4.0            True         False\n",
            "3       3.0           False          True\n"
          ]
        }
      ]
    },
    {
      "cell_type": "markdown",
      "source": [
        "### 2.2.3 Conversion to the Tensor Format"
      ],
      "metadata": {
        "id": "2yf0KUl3M7Nf"
      }
    },
    {
      "cell_type": "code",
      "source": [
        "import torch\n",
        "\n",
        "X = torch.tensor(inputs.to_numpy(dtype=float))\n",
        "y = torch.tensor(targets.to_numpy(dtype=float))\n",
        "X, y"
      ],
      "metadata": {
        "colab": {
          "base_uri": "https://localhost:8080/"
        },
        "id": "PWpsGjWaNGS4",
        "outputId": "19ce86f8-e219-42e8-e059-4207ee36dabf"
      },
      "execution_count": null,
      "outputs": [
        {
          "output_type": "execute_result",
          "data": {
            "text/plain": [
              "(tensor([[3., 0., 1.],\n",
              "         [2., 0., 1.],\n",
              "         [4., 1., 0.],\n",
              "         [3., 0., 1.]], dtype=torch.float64),\n",
              " tensor([127500., 106000., 178100., 140000.], dtype=torch.float64))"
            ]
          },
          "metadata": {},
          "execution_count": 31
        }
      ]
    },
    {
      "cell_type": "markdown",
      "source": [
        "##2.3. Linear Algebra"
      ],
      "metadata": {
        "id": "sFTb1iq1ATXa"
      }
    },
    {
      "cell_type": "markdown",
      "source": [
        "### 2.3 Memo\n",
        "- Scalars, vectors, matrices, and tensors are the basic mathematical objects used in linear algebra and have zero, one, two, and an arbitrary number of axes, respectively.\n",
        "- Elementwise products are called Hadamard products. By contrast, dot products, matrix–vector products, and matrix–matrix products are not elementwise operations and in general return objects having shapes that are different from the the operands.\n",
        "- Common vector norms include the\n",
        " and\n",
        " norms, and common matrix norms include the spectral and Frobenius norms."
      ],
      "metadata": {
        "id": "3gFK-Z7l4P3W"
      }
    },
    {
      "cell_type": "code",
      "source": [
        "import torch"
      ],
      "metadata": {
        "id": "o5OiJ092Nm82"
      },
      "execution_count": null,
      "outputs": []
    },
    {
      "cell_type": "markdown",
      "source": [
        "### 2.3.1 Scalars"
      ],
      "metadata": {
        "id": "MoVDMcspNsAR"
      }
    },
    {
      "cell_type": "code",
      "source": [
        "x = torch.tensor(3.0)\n",
        "y = torch.tensor(2.0)\n",
        "\n",
        "x + y, x * y, x / y, x**y"
      ],
      "metadata": {
        "colab": {
          "base_uri": "https://localhost:8080/"
        },
        "id": "b7Y-4eS6N6jk",
        "outputId": "236f2169-b569-439c-dde5-fe405bada15f"
      },
      "execution_count": null,
      "outputs": [
        {
          "output_type": "execute_result",
          "data": {
            "text/plain": [
              "(tensor(5.), tensor(6.), tensor(1.5000), tensor(9.))"
            ]
          },
          "metadata": {},
          "execution_count": 33
        }
      ]
    },
    {
      "cell_type": "markdown",
      "source": [
        "### 2.3.2 Vectors"
      ],
      "metadata": {
        "id": "HJspuZ8qOBb0"
      }
    },
    {
      "cell_type": "code",
      "source": [
        "x = torch.arange(3)\n",
        "x"
      ],
      "metadata": {
        "colab": {
          "base_uri": "https://localhost:8080/"
        },
        "id": "iqXKg3hFOGzy",
        "outputId": "1783052a-6db7-47d9-b19a-997e105fad25"
      },
      "execution_count": null,
      "outputs": [
        {
          "output_type": "execute_result",
          "data": {
            "text/plain": [
              "tensor([0, 1, 2])"
            ]
          },
          "metadata": {},
          "execution_count": 34
        }
      ]
    },
    {
      "cell_type": "code",
      "source": [
        "x[2]"
      ],
      "metadata": {
        "colab": {
          "base_uri": "https://localhost:8080/"
        },
        "id": "5Sp7Hd2rOR27",
        "outputId": "50004935-3794-4c21-fcc2-d3c79c3ec4d7"
      },
      "execution_count": null,
      "outputs": [
        {
          "output_type": "execute_result",
          "data": {
            "text/plain": [
              "tensor(2)"
            ]
          },
          "metadata": {},
          "execution_count": 35
        }
      ]
    },
    {
      "cell_type": "code",
      "source": [
        "len(x)"
      ],
      "metadata": {
        "colab": {
          "base_uri": "https://localhost:8080/"
        },
        "id": "tROnREUpOURJ",
        "outputId": "9157bb4a-6608-4524-d9fb-20f1405186bc"
      },
      "execution_count": null,
      "outputs": [
        {
          "output_type": "execute_result",
          "data": {
            "text/plain": [
              "3"
            ]
          },
          "metadata": {},
          "execution_count": 36
        }
      ]
    },
    {
      "cell_type": "code",
      "source": [
        "x.shape"
      ],
      "metadata": {
        "colab": {
          "base_uri": "https://localhost:8080/"
        },
        "id": "fa4P6_5HOX2P",
        "outputId": "e5a579fb-0c4c-4189-ee2f-3c7d8b752ec3"
      },
      "execution_count": null,
      "outputs": [
        {
          "output_type": "execute_result",
          "data": {
            "text/plain": [
              "torch.Size([3])"
            ]
          },
          "metadata": {},
          "execution_count": 37
        }
      ]
    },
    {
      "cell_type": "markdown",
      "source": [
        "### 2.3.3 Matrices"
      ],
      "metadata": {
        "id": "qOoqJDC3OhMw"
      }
    },
    {
      "cell_type": "code",
      "source": [
        "A = torch.arange(6).reshape(3, 2)\n",
        "A"
      ],
      "metadata": {
        "colab": {
          "base_uri": "https://localhost:8080/"
        },
        "id": "xOAn0GRbOqqN",
        "outputId": "237df86d-7fe7-460f-b112-2812742be886"
      },
      "execution_count": null,
      "outputs": [
        {
          "output_type": "execute_result",
          "data": {
            "text/plain": [
              "tensor([[0, 1],\n",
              "        [2, 3],\n",
              "        [4, 5]])"
            ]
          },
          "metadata": {},
          "execution_count": 38
        }
      ]
    },
    {
      "cell_type": "code",
      "source": [
        "A.T"
      ],
      "metadata": {
        "colab": {
          "base_uri": "https://localhost:8080/"
        },
        "id": "CGRisCxmOtS9",
        "outputId": "4ca3f300-05cc-495f-a620-109bca657f9f"
      },
      "execution_count": null,
      "outputs": [
        {
          "output_type": "execute_result",
          "data": {
            "text/plain": [
              "tensor([[0, 2, 4],\n",
              "        [1, 3, 5]])"
            ]
          },
          "metadata": {},
          "execution_count": 39
        }
      ]
    },
    {
      "cell_type": "code",
      "source": [
        "A = torch.tensor([[1, 2, 3], [2, 0, 4], [3, 4, 5]])\n",
        "A == A.T"
      ],
      "metadata": {
        "colab": {
          "base_uri": "https://localhost:8080/"
        },
        "id": "5f5YYmtqOuh2",
        "outputId": "5547cd0b-8d49-47fb-b184-bdf7db8eecc6"
      },
      "execution_count": null,
      "outputs": [
        {
          "output_type": "execute_result",
          "data": {
            "text/plain": [
              "tensor([[True, True, True],\n",
              "        [True, True, True],\n",
              "        [True, True, True]])"
            ]
          },
          "metadata": {},
          "execution_count": 40
        }
      ]
    },
    {
      "cell_type": "markdown",
      "source": [
        "### 2.3.4 Tensors"
      ],
      "metadata": {
        "id": "zpgVVQF6Oxe9"
      }
    },
    {
      "cell_type": "code",
      "source": [
        "torch.arange(24).reshape(2, 3, 4)"
      ],
      "metadata": {
        "colab": {
          "base_uri": "https://localhost:8080/"
        },
        "id": "bPjurz1cO1D1",
        "outputId": "e92f5f47-88b6-456b-9842-6548a1789a1f"
      },
      "execution_count": null,
      "outputs": [
        {
          "output_type": "execute_result",
          "data": {
            "text/plain": [
              "tensor([[[ 0,  1,  2,  3],\n",
              "         [ 4,  5,  6,  7],\n",
              "         [ 8,  9, 10, 11]],\n",
              "\n",
              "        [[12, 13, 14, 15],\n",
              "         [16, 17, 18, 19],\n",
              "         [20, 21, 22, 23]]])"
            ]
          },
          "metadata": {},
          "execution_count": 41
        }
      ]
    },
    {
      "cell_type": "markdown",
      "source": [
        "### 2.3.5. Basic Properties of Tensor Arithmetic"
      ],
      "metadata": {
        "id": "BHLm348hO_dH"
      }
    },
    {
      "cell_type": "code",
      "source": [
        "A = torch.arange(6, dtype=torch.float32).reshape(2, 3)\n",
        "B = A.clone()  # Assign a copy of A to B by allocating new memory\n",
        "A, A + B"
      ],
      "metadata": {
        "colab": {
          "base_uri": "https://localhost:8080/"
        },
        "id": "GCnJdF61PIdp",
        "outputId": "ef3ef3e6-7ef0-4de6-ff0a-f8cc5de6ef5d"
      },
      "execution_count": null,
      "outputs": [
        {
          "output_type": "execute_result",
          "data": {
            "text/plain": [
              "(tensor([[0., 1., 2.],\n",
              "         [3., 4., 5.]]),\n",
              " tensor([[ 0.,  2.,  4.],\n",
              "         [ 6.,  8., 10.]]))"
            ]
          },
          "metadata": {},
          "execution_count": 42
        }
      ]
    },
    {
      "cell_type": "code",
      "source": [
        "A * B"
      ],
      "metadata": {
        "colab": {
          "base_uri": "https://localhost:8080/"
        },
        "id": "1H1L7x08PMV2",
        "outputId": "442014d2-6751-4d81-9feb-15bd2a9413b6"
      },
      "execution_count": null,
      "outputs": [
        {
          "output_type": "execute_result",
          "data": {
            "text/plain": [
              "tensor([[ 0.,  1.,  4.],\n",
              "        [ 9., 16., 25.]])"
            ]
          },
          "metadata": {},
          "execution_count": 43
        }
      ]
    },
    {
      "cell_type": "code",
      "source": [
        "a = 2\n",
        "X = torch.arange(24).reshape(2, 3, 4)\n",
        "a + X, (a * X).shape"
      ],
      "metadata": {
        "colab": {
          "base_uri": "https://localhost:8080/"
        },
        "id": "2XJhZKhpPN-x",
        "outputId": "69bc1d81-9ed7-4e22-deef-de18e6d1f1cf"
      },
      "execution_count": null,
      "outputs": [
        {
          "output_type": "execute_result",
          "data": {
            "text/plain": [
              "(tensor([[[ 2,  3,  4,  5],\n",
              "          [ 6,  7,  8,  9],\n",
              "          [10, 11, 12, 13]],\n",
              " \n",
              "         [[14, 15, 16, 17],\n",
              "          [18, 19, 20, 21],\n",
              "          [22, 23, 24, 25]]]),\n",
              " torch.Size([2, 3, 4]))"
            ]
          },
          "metadata": {},
          "execution_count": 44
        }
      ]
    },
    {
      "cell_type": "markdown",
      "source": [
        "### 2.3.6 Reduction"
      ],
      "metadata": {
        "id": "r3aIiyAEPc5S"
      }
    },
    {
      "cell_type": "code",
      "source": [
        "x = torch.arange(3, dtype=torch.float32)\n",
        "x, x.sum()"
      ],
      "metadata": {
        "colab": {
          "base_uri": "https://localhost:8080/"
        },
        "id": "agH_JaicPi-i",
        "outputId": "f370033a-308c-409f-dea4-3c1df69a1db7"
      },
      "execution_count": null,
      "outputs": [
        {
          "output_type": "execute_result",
          "data": {
            "text/plain": [
              "(tensor([0., 1., 2.]), tensor(3.))"
            ]
          },
          "metadata": {},
          "execution_count": 45
        }
      ]
    },
    {
      "cell_type": "code",
      "source": [
        "A.shape, A.sum()"
      ],
      "metadata": {
        "colab": {
          "base_uri": "https://localhost:8080/"
        },
        "id": "Op3NOBrjPkbW",
        "outputId": "eafab442-c72c-47b1-d578-d7e3fbcca970"
      },
      "execution_count": null,
      "outputs": [
        {
          "output_type": "execute_result",
          "data": {
            "text/plain": [
              "(torch.Size([2, 3]), tensor(15.))"
            ]
          },
          "metadata": {},
          "execution_count": 46
        }
      ]
    },
    {
      "cell_type": "code",
      "source": [
        "A.shape, A.sum(axis=0).shape"
      ],
      "metadata": {
        "colab": {
          "base_uri": "https://localhost:8080/"
        },
        "id": "efS7XuYDPoFm",
        "outputId": "80e53f29-0b3d-46da-d872-55673d807c5a"
      },
      "execution_count": null,
      "outputs": [
        {
          "output_type": "execute_result",
          "data": {
            "text/plain": [
              "(torch.Size([2, 3]), torch.Size([3]))"
            ]
          },
          "metadata": {},
          "execution_count": 47
        }
      ]
    },
    {
      "cell_type": "code",
      "source": [
        "A.shape, A.sum(axis=1).shape"
      ],
      "metadata": {
        "colab": {
          "base_uri": "https://localhost:8080/"
        },
        "id": "XsawOzeFPq6u",
        "outputId": "89e7ee8a-40d6-4a2a-cce2-5960b3218b4b"
      },
      "execution_count": null,
      "outputs": [
        {
          "output_type": "execute_result",
          "data": {
            "text/plain": [
              "(torch.Size([2, 3]), torch.Size([2]))"
            ]
          },
          "metadata": {},
          "execution_count": 48
        }
      ]
    },
    {
      "cell_type": "code",
      "source": [
        "A.sum(axis=[0, 1]) == A.sum()  # Same as A.sum()"
      ],
      "metadata": {
        "colab": {
          "base_uri": "https://localhost:8080/"
        },
        "id": "mEr_NsLePup7",
        "outputId": "b93b6ba5-035d-4ebd-c706-50e12e1c3daa"
      },
      "execution_count": null,
      "outputs": [
        {
          "output_type": "execute_result",
          "data": {
            "text/plain": [
              "tensor(True)"
            ]
          },
          "metadata": {},
          "execution_count": 49
        }
      ]
    },
    {
      "cell_type": "code",
      "source": [
        "A.mean(), A.sum() / A.numel()"
      ],
      "metadata": {
        "colab": {
          "base_uri": "https://localhost:8080/"
        },
        "id": "Tfw0-g4DPyCb",
        "outputId": "f3fafdde-ddae-468a-fb7e-aef711d8e16e"
      },
      "execution_count": null,
      "outputs": [
        {
          "output_type": "execute_result",
          "data": {
            "text/plain": [
              "(tensor(2.5000), tensor(2.5000))"
            ]
          },
          "metadata": {},
          "execution_count": 50
        }
      ]
    },
    {
      "cell_type": "code",
      "source": [
        "A.mean(axis=0), A.sum(axis=0) / A.shape[0]"
      ],
      "metadata": {
        "colab": {
          "base_uri": "https://localhost:8080/"
        },
        "id": "iAqmffC-P0_2",
        "outputId": "2860a077-56fe-44cf-e496-a61e79e24b51"
      },
      "execution_count": null,
      "outputs": [
        {
          "output_type": "execute_result",
          "data": {
            "text/plain": [
              "(tensor([1.5000, 2.5000, 3.5000]), tensor([1.5000, 2.5000, 3.5000]))"
            ]
          },
          "metadata": {},
          "execution_count": 51
        }
      ]
    },
    {
      "cell_type": "markdown",
      "source": [
        "### 2.3.7 Non-Reduction Sum"
      ],
      "metadata": {
        "id": "jCAK3JB7P35i"
      }
    },
    {
      "cell_type": "code",
      "source": [
        "sum_A = A.sum(axis=1, keepdims=True)\n",
        "sum_A, sum_A.shape"
      ],
      "metadata": {
        "colab": {
          "base_uri": "https://localhost:8080/"
        },
        "id": "UAUNMgyjQAUd",
        "outputId": "e8d7b353-c2e3-4ddc-f673-51720032823f"
      },
      "execution_count": null,
      "outputs": [
        {
          "output_type": "execute_result",
          "data": {
            "text/plain": [
              "(tensor([[ 3.],\n",
              "         [12.]]),\n",
              " torch.Size([2, 1]))"
            ]
          },
          "metadata": {},
          "execution_count": 52
        }
      ]
    },
    {
      "cell_type": "code",
      "source": [
        "A / sum_A"
      ],
      "metadata": {
        "colab": {
          "base_uri": "https://localhost:8080/"
        },
        "id": "oCnpu-5RQPLk",
        "outputId": "c1ce4993-b40b-469a-cf0b-8508e9ca9abd"
      },
      "execution_count": null,
      "outputs": [
        {
          "output_type": "execute_result",
          "data": {
            "text/plain": [
              "tensor([[0.0000, 0.3333, 0.6667],\n",
              "        [0.2500, 0.3333, 0.4167]])"
            ]
          },
          "metadata": {},
          "execution_count": 53
        }
      ]
    },
    {
      "cell_type": "code",
      "source": [
        "A.cumsum(axis=0)"
      ],
      "metadata": {
        "colab": {
          "base_uri": "https://localhost:8080/"
        },
        "id": "LfA01tT1QR50",
        "outputId": "c41013e8-9b67-4ce7-d35a-9c330605285f"
      },
      "execution_count": null,
      "outputs": [
        {
          "output_type": "execute_result",
          "data": {
            "text/plain": [
              "tensor([[0., 1., 2.],\n",
              "        [3., 5., 7.]])"
            ]
          },
          "metadata": {},
          "execution_count": 54
        }
      ]
    },
    {
      "cell_type": "markdown",
      "source": [
        "### 2.3.8 Dot Products"
      ],
      "metadata": {
        "id": "barWOS7sQTkE"
      }
    },
    {
      "cell_type": "code",
      "source": [
        "y = torch.ones(3, dtype = torch.float32)\n",
        "x, y, torch.dot(x, y)"
      ],
      "metadata": {
        "colab": {
          "base_uri": "https://localhost:8080/"
        },
        "id": "-nYpNHf6QYh4",
        "outputId": "8b951ba2-5400-4aa3-8046-9b59f56ca4fd"
      },
      "execution_count": null,
      "outputs": [
        {
          "output_type": "execute_result",
          "data": {
            "text/plain": [
              "(tensor([0., 1., 2.]), tensor([1., 1., 1.]), tensor(3.))"
            ]
          },
          "metadata": {},
          "execution_count": 55
        }
      ]
    },
    {
      "cell_type": "code",
      "source": [
        "torch.sum(x * y)"
      ],
      "metadata": {
        "colab": {
          "base_uri": "https://localhost:8080/"
        },
        "id": "anCfTGoHQZtt",
        "outputId": "76a7b0c0-a154-481d-bf81-dcdeebe233e1"
      },
      "execution_count": null,
      "outputs": [
        {
          "output_type": "execute_result",
          "data": {
            "text/plain": [
              "tensor(3.)"
            ]
          },
          "metadata": {},
          "execution_count": 56
        }
      ]
    },
    {
      "cell_type": "markdown",
      "source": [
        "### 2.3.9 Matrix-Vector Products"
      ],
      "metadata": {
        "id": "GNbTiZWOQcgy"
      }
    },
    {
      "cell_type": "code",
      "source": [
        "A.shape, x.shape, torch.mv(A, x), A@x"
      ],
      "metadata": {
        "colab": {
          "base_uri": "https://localhost:8080/"
        },
        "id": "PPShXW-DQh2V",
        "outputId": "4e4fea4d-0b19-417c-f5fa-f83c9f403c32"
      },
      "execution_count": null,
      "outputs": [
        {
          "output_type": "execute_result",
          "data": {
            "text/plain": [
              "(torch.Size([2, 3]), torch.Size([3]), tensor([ 5., 14.]), tensor([ 5., 14.]))"
            ]
          },
          "metadata": {},
          "execution_count": 57
        }
      ]
    },
    {
      "cell_type": "markdown",
      "source": [
        "### 2.3.10 Matrix-Matrix Multiplication"
      ],
      "metadata": {
        "id": "Nb2LebP0Qi98"
      }
    },
    {
      "cell_type": "code",
      "source": [
        "B = torch.ones(3, 4)\n",
        "torch.mm(A, B), A@B"
      ],
      "metadata": {
        "colab": {
          "base_uri": "https://localhost:8080/"
        },
        "id": "fDXjqVu3QoYE",
        "outputId": "e8067a56-59c6-42ee-f851-c2cd95866144"
      },
      "execution_count": null,
      "outputs": [
        {
          "output_type": "execute_result",
          "data": {
            "text/plain": [
              "(tensor([[ 3.,  3.,  3.,  3.],\n",
              "         [12., 12., 12., 12.]]),\n",
              " tensor([[ 3.,  3.,  3.,  3.],\n",
              "         [12., 12., 12., 12.]]))"
            ]
          },
          "metadata": {},
          "execution_count": 58
        }
      ]
    },
    {
      "cell_type": "markdown",
      "source": [
        "### 2.3.11 Norms"
      ],
      "metadata": {
        "id": "p5PEw-jiQqir"
      }
    },
    {
      "cell_type": "code",
      "source": [
        "u = torch.tensor([3.0, -4.0])\n",
        "torch.norm(u)"
      ],
      "metadata": {
        "colab": {
          "base_uri": "https://localhost:8080/"
        },
        "id": "LwHb76quQ99c",
        "outputId": "09e7d4bb-7ba3-480a-8ea5-29b2d3a4b119"
      },
      "execution_count": null,
      "outputs": [
        {
          "output_type": "execute_result",
          "data": {
            "text/plain": [
              "tensor(5.)"
            ]
          },
          "metadata": {},
          "execution_count": 59
        }
      ]
    },
    {
      "cell_type": "code",
      "source": [
        "torch.abs(u).sum()"
      ],
      "metadata": {
        "colab": {
          "base_uri": "https://localhost:8080/"
        },
        "id": "TuVxqsazRBQC",
        "outputId": "c389791c-c67a-497d-9c1f-dafaf838170f"
      },
      "execution_count": null,
      "outputs": [
        {
          "output_type": "execute_result",
          "data": {
            "text/plain": [
              "tensor(7.)"
            ]
          },
          "metadata": {},
          "execution_count": 60
        }
      ]
    },
    {
      "cell_type": "code",
      "source": [
        "torch.norm(torch.ones((4, 9)))"
      ],
      "metadata": {
        "colab": {
          "base_uri": "https://localhost:8080/"
        },
        "id": "v31ESh46RDfG",
        "outputId": "cedd88a7-6a67-4ebb-80b1-aef1faeb7a1e"
      },
      "execution_count": null,
      "outputs": [
        {
          "output_type": "execute_result",
          "data": {
            "text/plain": [
              "tensor(6.)"
            ]
          },
          "metadata": {},
          "execution_count": 61
        }
      ]
    },
    {
      "cell_type": "markdown",
      "source": [
        "## 2.5. Automatic Differentiation"
      ],
      "metadata": {
        "id": "3Vv00YWjAe27"
      }
    },
    {
      "cell_type": "markdown",
      "source": [
        "### 2.5 Memo\n",
        "- As we pass data through each successive function, the framework builds a computational graph that tracks how each value depends on others. To calculate derivatives, automatic differentiation works backwards through this graph applying the chain rule. The computational algorithm for applying the chain rule in this fashion is called **backpropagation**.\n",
        "- Autograd lets us design massive models for which pen and paper gradient computations would be prohibitively time consuming.\n",
        "- We use autograd to **optimize models** (in a statistical sense) the optimization of autograd libraries themselves (in a computational sense) is a rich subject of vital interest to framework designers."
      ],
      "metadata": {
        "id": "OiEvEnUCUMGs"
      }
    },
    {
      "cell_type": "code",
      "source": [
        "import torch"
      ],
      "metadata": {
        "id": "vwiIYYmqRUYu"
      },
      "execution_count": null,
      "outputs": []
    },
    {
      "cell_type": "markdown",
      "source": [
        "### 2.5.1 A Simple Function"
      ],
      "metadata": {
        "id": "R7s8p45GRVzS"
      }
    },
    {
      "cell_type": "code",
      "source": [
        "x = torch.arange(4.0)\n",
        "x"
      ],
      "metadata": {
        "colab": {
          "base_uri": "https://localhost:8080/"
        },
        "id": "f-E8CICgRZM3",
        "outputId": "0bf8257d-d674-423c-e8ce-a7ceb0f5e0cc"
      },
      "execution_count": null,
      "outputs": [
        {
          "output_type": "execute_result",
          "data": {
            "text/plain": [
              "tensor([0., 1., 2., 3.])"
            ]
          },
          "metadata": {},
          "execution_count": 63
        }
      ]
    },
    {
      "cell_type": "code",
      "source": [
        "# Can also create x = torch.arange(4.0, requires_grad=True)\n",
        "x.requires_grad_(True)\n",
        "x.grad  # The gradient is None by default"
      ],
      "metadata": {
        "id": "-rdbrPO3RdMF"
      },
      "execution_count": null,
      "outputs": []
    },
    {
      "cell_type": "code",
      "source": [
        "y = 2 * torch.dot(x, x)\n",
        "y"
      ],
      "metadata": {
        "colab": {
          "base_uri": "https://localhost:8080/"
        },
        "id": "6Q4F3IwsRkBi",
        "outputId": "78130b46-24d5-4235-8e21-c8f03f59a717"
      },
      "execution_count": null,
      "outputs": [
        {
          "output_type": "execute_result",
          "data": {
            "text/plain": [
              "tensor(28., grad_fn=<MulBackward0>)"
            ]
          },
          "metadata": {},
          "execution_count": 65
        }
      ]
    },
    {
      "cell_type": "code",
      "source": [
        "y.backward()\n",
        "x.grad"
      ],
      "metadata": {
        "colab": {
          "base_uri": "https://localhost:8080/"
        },
        "id": "awRj7V3oRl6j",
        "outputId": "925bd513-4308-4eb7-cbe4-e3e616eedd0e"
      },
      "execution_count": null,
      "outputs": [
        {
          "output_type": "execute_result",
          "data": {
            "text/plain": [
              "tensor([ 0.,  4.,  8., 12.])"
            ]
          },
          "metadata": {},
          "execution_count": 66
        }
      ]
    },
    {
      "cell_type": "code",
      "source": [
        "x.grad == 4 * x"
      ],
      "metadata": {
        "colab": {
          "base_uri": "https://localhost:8080/"
        },
        "id": "KnsHtQAURonC",
        "outputId": "9c81ca63-160d-4cf0-d535-78bce358707b"
      },
      "execution_count": null,
      "outputs": [
        {
          "output_type": "execute_result",
          "data": {
            "text/plain": [
              "tensor([True, True, True, True])"
            ]
          },
          "metadata": {},
          "execution_count": 67
        }
      ]
    },
    {
      "cell_type": "code",
      "source": [
        "x.grad.zero_()  # Reset the gradient\n",
        "y = x.sum()\n",
        "y.backward()\n",
        "x.grad"
      ],
      "metadata": {
        "colab": {
          "base_uri": "https://localhost:8080/"
        },
        "id": "Siprq4arRped",
        "outputId": "a50f27a7-77f3-4616-af15-cc6d60011fc3"
      },
      "execution_count": null,
      "outputs": [
        {
          "output_type": "execute_result",
          "data": {
            "text/plain": [
              "tensor([1., 1., 1., 1.])"
            ]
          },
          "metadata": {},
          "execution_count": 68
        }
      ]
    },
    {
      "cell_type": "markdown",
      "source": [
        "### 2.5.2. Backward for Non-Scalar Variables"
      ],
      "metadata": {
        "id": "1S15hqt5SpHf"
      }
    },
    {
      "cell_type": "code",
      "source": [
        "x.grad.zero_()\n",
        "y = x * x\n",
        "y.backward(gradient=torch.ones(len(y)))  # Faster: y.sum().backward()\n",
        "x.grad"
      ],
      "metadata": {
        "colab": {
          "base_uri": "https://localhost:8080/"
        },
        "id": "CiiUQZbjSxtY",
        "outputId": "7c773926-ebda-4a64-9a8a-de808d7cfcaa"
      },
      "execution_count": null,
      "outputs": [
        {
          "output_type": "execute_result",
          "data": {
            "text/plain": [
              "tensor([0., 2., 4., 6.])"
            ]
          },
          "metadata": {},
          "execution_count": 69
        }
      ]
    },
    {
      "cell_type": "markdown",
      "source": [
        "### 2.5.3 Detaching Computation"
      ],
      "metadata": {
        "id": "FnQ68rcjS2l8"
      }
    },
    {
      "cell_type": "code",
      "source": [
        "x.grad.zero_()\n",
        "y = x * x\n",
        "u = y.detach()\n",
        "z = u * x\n",
        "\n",
        "z.sum().backward()\n",
        "x.grad == u"
      ],
      "metadata": {
        "colab": {
          "base_uri": "https://localhost:8080/"
        },
        "id": "j-chFklQS8RU",
        "outputId": "dff7b138-7ddb-43ca-ff91-659469ae520b"
      },
      "execution_count": null,
      "outputs": [
        {
          "output_type": "execute_result",
          "data": {
            "text/plain": [
              "tensor([True, True, True, True])"
            ]
          },
          "metadata": {},
          "execution_count": 70
        }
      ]
    },
    {
      "cell_type": "code",
      "source": [
        "x.grad.zero_()\n",
        "y.sum().backward()\n",
        "x.grad == 2 * x"
      ],
      "metadata": {
        "colab": {
          "base_uri": "https://localhost:8080/"
        },
        "id": "qE_pYEXnS_Eo",
        "outputId": "befd7267-dce0-47eb-81b5-071ccc339003"
      },
      "execution_count": null,
      "outputs": [
        {
          "output_type": "execute_result",
          "data": {
            "text/plain": [
              "tensor([True, True, True, True])"
            ]
          },
          "metadata": {},
          "execution_count": 71
        }
      ]
    },
    {
      "cell_type": "markdown",
      "source": [
        "### 2.5.4 Gradients and Python Control Flow"
      ],
      "metadata": {
        "id": "9wvFBW3uTAg_"
      }
    },
    {
      "cell_type": "code",
      "source": [
        "def f(a):\n",
        "    b = a * 2\n",
        "    while b.norm() < 1000:\n",
        "        b = b * 2\n",
        "    if b.sum() > 0:\n",
        "        c = b\n",
        "    else:\n",
        "        c = 100 * b\n",
        "    return c"
      ],
      "metadata": {
        "id": "-rscxUQkTOxh"
      },
      "execution_count": null,
      "outputs": []
    },
    {
      "cell_type": "code",
      "source": [
        "a = torch.randn(size=(), requires_grad=True)\n",
        "d = f(a)\n",
        "d.backward()"
      ],
      "metadata": {
        "id": "sxCTNFGeTRzk"
      },
      "execution_count": null,
      "outputs": []
    },
    {
      "cell_type": "code",
      "source": [
        "a.grad == d / a"
      ],
      "metadata": {
        "colab": {
          "base_uri": "https://localhost:8080/"
        },
        "id": "AKjh8ffVTU5R",
        "outputId": "8385590f-636b-4dc2-ffc6-fb8ac36e827f"
      },
      "execution_count": null,
      "outputs": [
        {
          "output_type": "execute_result",
          "data": {
            "text/plain": [
              "tensor(True)"
            ]
          },
          "metadata": {},
          "execution_count": 74
        }
      ]
    },
    {
      "cell_type": "markdown",
      "source": [
        "## 3.1. Linear Regression"
      ],
      "metadata": {
        "id": "6hudquAwAnZE"
      }
    },
    {
      "cell_type": "markdown",
      "source": [
        "### 3.1 Memo\n",
        "- Linear regression, one of the simplest machine leaning models, explains how to model the relationship between features and target values using a linear equation.\n",
        "- It describes the use of weights and biases in a linear model and discusses the assumptions and limitations of linear regression\n",
        "- Deep learning practitioners have taken to calling the prediction phase *inference* but this is a bit of a *misnomer—inference* refers broadly to any conclusion reached on the basis of evidence, including both the values of the parameters and the likely label for an unseen instance. If anything, in the statistics literature *inference* more often denotes parameter inference and this overloading of terminology creates unnecessary confusion when deep learning practitioners talk to statisticians."
      ],
      "metadata": {
        "id": "amvoaOW5U5Hp"
      }
    },
    {
      "cell_type": "code",
      "source": [
        "%matplotlib inline\n",
        "import math\n",
        "import time\n",
        "import numpy as np\n",
        "import torch\n",
        "from d2l import torch as d2l"
      ],
      "metadata": {
        "id": "rh6hnXuVT0eS"
      },
      "execution_count": null,
      "outputs": []
    },
    {
      "cell_type": "markdown",
      "source": [
        "### 3.1.2 Vectorization for Speed"
      ],
      "metadata": {
        "id": "8TUv9TakXOAz"
      }
    },
    {
      "cell_type": "code",
      "source": [
        "n = 10000\n",
        "a = torch.ones(n)\n",
        "b = torch.ones(n)"
      ],
      "metadata": {
        "id": "peSleS13XRQ3"
      },
      "execution_count": null,
      "outputs": []
    },
    {
      "cell_type": "code",
      "source": [
        "c = torch.zeros(n)\n",
        "t = time.time()\n",
        "for i in range(n):\n",
        "    c[i] = a[i] + b[i]\n",
        "f'{time.time() - t:.5f} sec'"
      ],
      "metadata": {
        "colab": {
          "base_uri": "https://localhost:8080/",
          "height": 36
        },
        "id": "2nNMVUSCXTz4",
        "outputId": "b430d9ef-a605-495c-8d43-21db5ffc4bb2"
      },
      "execution_count": null,
      "outputs": [
        {
          "output_type": "execute_result",
          "data": {
            "text/plain": [
              "'0.23778 sec'"
            ],
            "application/vnd.google.colaboratory.intrinsic+json": {
              "type": "string"
            }
          },
          "metadata": {},
          "execution_count": 77
        }
      ]
    },
    {
      "cell_type": "code",
      "source": [
        "t = time.time()\n",
        "d = a + b\n",
        "f'{time.time() - t:.5f} sec'"
      ],
      "metadata": {
        "colab": {
          "base_uri": "https://localhost:8080/",
          "height": 36
        },
        "id": "a0RZpdpuXVpZ",
        "outputId": "c35993f9-98ee-499d-b40f-681877be67ee"
      },
      "execution_count": null,
      "outputs": [
        {
          "output_type": "execute_result",
          "data": {
            "text/plain": [
              "'0.00035 sec'"
            ],
            "application/vnd.google.colaboratory.intrinsic+json": {
              "type": "string"
            }
          },
          "metadata": {},
          "execution_count": 78
        }
      ]
    },
    {
      "cell_type": "markdown",
      "source": [
        "### 3.1.3 The Normal Distribution and Squared Loss"
      ],
      "metadata": {
        "id": "CzpszKwxXjMD"
      }
    },
    {
      "cell_type": "code",
      "source": [
        "def normal(x, mu, sigma):\n",
        "    p = 1 / math.sqrt(2 * math.pi * sigma**2)\n",
        "    return p * np.exp(-0.5 * (x - mu)**2 / sigma**2)"
      ],
      "metadata": {
        "id": "mEC9CTPdXpRu"
      },
      "execution_count": null,
      "outputs": []
    },
    {
      "cell_type": "code",
      "source": [
        "# Use NumPy again for visualization\n",
        "x = np.arange(-7, 7, 0.01)\n",
        "\n",
        "# Mean and standard deviation pairs\n",
        "params = [(0, 1), (0, 2), (3, 1)]\n",
        "d2l.plot(x, [normal(x, mu, sigma) for mu, sigma in params], xlabel='x',\n",
        "         ylabel='p(x)', figsize=(4.5, 2.5),\n",
        "         legend=[f'mean {mu}, std {sigma}' for mu, sigma in params])"
      ],
      "metadata": {
        "colab": {
          "base_uri": "https://localhost:8080/",
          "height": 266
        },
        "id": "qkmqdwyNXqyM",
        "outputId": "7d0a748a-e0ff-4164-e267-0f46e9e52bbb"
      },
      "execution_count": null,
      "outputs": [
        {
          "output_type": "display_data",
          "data": {
            "text/plain": [
              "<Figure size 450x250 with 1 Axes>"
            ],
            "image/svg+xml": "<?xml version=\"1.0\" encoding=\"utf-8\" standalone=\"no\"?>\n<!DOCTYPE svg PUBLIC \"-//W3C//DTD SVG 1.1//EN\"\n  \"http://www.w3.org/Graphics/SVG/1.1/DTD/svg11.dtd\">\n<svg xmlns:xlink=\"http://www.w3.org/1999/xlink\" width=\"302.08125pt\" height=\"183.35625pt\" viewBox=\"0 0 302.08125 183.35625\" xmlns=\"http://www.w3.org/2000/svg\" version=\"1.1\">\n <metadata>\n  <rdf:RDF xmlns:dc=\"http://purl.org/dc/elements/1.1/\" xmlns:cc=\"http://creativecommons.org/ns#\" xmlns:rdf=\"http://www.w3.org/1999/02/22-rdf-syntax-ns#\">\n   <cc:Work>\n    <dc:type rdf:resource=\"http://purl.org/dc/dcmitype/StillImage\"/>\n    <dc:date>2024-10-29T02:01:10.496306</dc:date>\n    <dc:format>image/svg+xml</dc:format>\n    <dc:creator>\n     <cc:Agent>\n      <dc:title>Matplotlib v3.7.1, https://matplotlib.org/</dc:title>\n     </cc:Agent>\n    </dc:creator>\n   </cc:Work>\n  </rdf:RDF>\n </metadata>\n <defs>\n  <style type=\"text/css\">*{stroke-linejoin: round; stroke-linecap: butt}</style>\n </defs>\n <g id=\"figure_1\">\n  <g id=\"patch_1\">\n   <path d=\"M 0 183.35625 \nL 302.08125 183.35625 \nL 302.08125 0 \nL 0 0 \nz\n\" style=\"fill: #ffffff\"/>\n  </g>\n  <g id=\"axes_1\">\n   <g id=\"patch_2\">\n    <path d=\"M 43.78125 145.8 \nL 294.88125 145.8 \nL 294.88125 7.2 \nL 43.78125 7.2 \nz\n\" style=\"fill: #ffffff\"/>\n   </g>\n   <g id=\"matplotlib.axis_1\">\n    <g id=\"xtick_1\">\n     <g id=\"line2d_1\">\n      <path d=\"M 71.511736 145.8 \nL 71.511736 7.2 \n\" clip-path=\"url(#p82712dd472)\" style=\"fill: none; stroke: #b0b0b0; stroke-width: 0.8; stroke-linecap: square\"/>\n     </g>\n     <g id=\"line2d_2\">\n      <defs>\n       <path id=\"m81dcdc1600\" d=\"M 0 0 \nL 0 3.5 \n\" style=\"stroke: #000000; stroke-width: 0.8\"/>\n      </defs>\n      <g>\n       <use xlink:href=\"#m81dcdc1600\" x=\"71.511736\" y=\"145.8\" style=\"stroke: #000000; stroke-width: 0.8\"/>\n      </g>\n     </g>\n     <g id=\"text_1\">\n      <!-- −6 -->\n      <g transform=\"translate(64.140642 160.398438) scale(0.1 -0.1)\">\n       <defs>\n        <path id=\"DejaVuSans-2212\" d=\"M 678 2272 \nL 4684 2272 \nL 4684 1741 \nL 678 1741 \nL 678 2272 \nz\n\" transform=\"scale(0.015625)\"/>\n        <path id=\"DejaVuSans-36\" d=\"M 2113 2584 \nQ 1688 2584 1439 2293 \nQ 1191 2003 1191 1497 \nQ 1191 994 1439 701 \nQ 1688 409 2113 409 \nQ 2538 409 2786 701 \nQ 3034 994 3034 1497 \nQ 3034 2003 2786 2293 \nQ 2538 2584 2113 2584 \nz\nM 3366 4563 \nL 3366 3988 \nQ 3128 4100 2886 4159 \nQ 2644 4219 2406 4219 \nQ 1781 4219 1451 3797 \nQ 1122 3375 1075 2522 \nQ 1259 2794 1537 2939 \nQ 1816 3084 2150 3084 \nQ 2853 3084 3261 2657 \nQ 3669 2231 3669 1497 \nQ 3669 778 3244 343 \nQ 2819 -91 2113 -91 \nQ 1303 -91 875 529 \nQ 447 1150 447 2328 \nQ 447 3434 972 4092 \nQ 1497 4750 2381 4750 \nQ 2619 4750 2861 4703 \nQ 3103 4656 3366 4563 \nz\n\" transform=\"scale(0.015625)\"/>\n       </defs>\n       <use xlink:href=\"#DejaVuSans-2212\"/>\n       <use xlink:href=\"#DejaVuSans-36\" x=\"83.789062\"/>\n      </g>\n     </g>\n    </g>\n    <g id=\"xtick_2\">\n     <g id=\"line2d_3\">\n      <path d=\"M 104.145435 145.8 \nL 104.145435 7.2 \n\" clip-path=\"url(#p82712dd472)\" style=\"fill: none; stroke: #b0b0b0; stroke-width: 0.8; stroke-linecap: square\"/>\n     </g>\n     <g id=\"line2d_4\">\n      <g>\n       <use xlink:href=\"#m81dcdc1600\" x=\"104.145435\" y=\"145.8\" style=\"stroke: #000000; stroke-width: 0.8\"/>\n      </g>\n     </g>\n     <g id=\"text_2\">\n      <!-- −4 -->\n      <g transform=\"translate(96.774342 160.398438) scale(0.1 -0.1)\">\n       <defs>\n        <path id=\"DejaVuSans-34\" d=\"M 2419 4116 \nL 825 1625 \nL 2419 1625 \nL 2419 4116 \nz\nM 2253 4666 \nL 3047 4666 \nL 3047 1625 \nL 3713 1625 \nL 3713 1100 \nL 3047 1100 \nL 3047 0 \nL 2419 0 \nL 2419 1100 \nL 313 1100 \nL 313 1709 \nL 2253 4666 \nz\n\" transform=\"scale(0.015625)\"/>\n       </defs>\n       <use xlink:href=\"#DejaVuSans-2212\"/>\n       <use xlink:href=\"#DejaVuSans-34\" x=\"83.789062\"/>\n      </g>\n     </g>\n    </g>\n    <g id=\"xtick_3\">\n     <g id=\"line2d_5\">\n      <path d=\"M 136.779135 145.8 \nL 136.779135 7.2 \n\" clip-path=\"url(#p82712dd472)\" style=\"fill: none; stroke: #b0b0b0; stroke-width: 0.8; stroke-linecap: square\"/>\n     </g>\n     <g id=\"line2d_6\">\n      <g>\n       <use xlink:href=\"#m81dcdc1600\" x=\"136.779135\" y=\"145.8\" style=\"stroke: #000000; stroke-width: 0.8\"/>\n      </g>\n     </g>\n     <g id=\"text_3\">\n      <!-- −2 -->\n      <g transform=\"translate(129.408041 160.398438) scale(0.1 -0.1)\">\n       <defs>\n        <path id=\"DejaVuSans-32\" d=\"M 1228 531 \nL 3431 531 \nL 3431 0 \nL 469 0 \nL 469 531 \nQ 828 903 1448 1529 \nQ 2069 2156 2228 2338 \nQ 2531 2678 2651 2914 \nQ 2772 3150 2772 3378 \nQ 2772 3750 2511 3984 \nQ 2250 4219 1831 4219 \nQ 1534 4219 1204 4116 \nQ 875 4013 500 3803 \nL 500 4441 \nQ 881 4594 1212 4672 \nQ 1544 4750 1819 4750 \nQ 2544 4750 2975 4387 \nQ 3406 4025 3406 3419 \nQ 3406 3131 3298 2873 \nQ 3191 2616 2906 2266 \nQ 2828 2175 2409 1742 \nQ 1991 1309 1228 531 \nz\n\" transform=\"scale(0.015625)\"/>\n       </defs>\n       <use xlink:href=\"#DejaVuSans-2212\"/>\n       <use xlink:href=\"#DejaVuSans-32\" x=\"83.789062\"/>\n      </g>\n     </g>\n    </g>\n    <g id=\"xtick_4\">\n     <g id=\"line2d_7\">\n      <path d=\"M 169.412834 145.8 \nL 169.412834 7.2 \n\" clip-path=\"url(#p82712dd472)\" style=\"fill: none; stroke: #b0b0b0; stroke-width: 0.8; stroke-linecap: square\"/>\n     </g>\n     <g id=\"line2d_8\">\n      <g>\n       <use xlink:href=\"#m81dcdc1600\" x=\"169.412834\" y=\"145.8\" style=\"stroke: #000000; stroke-width: 0.8\"/>\n      </g>\n     </g>\n     <g id=\"text_4\">\n      <!-- 0 -->\n      <g transform=\"translate(166.231584 160.398438) scale(0.1 -0.1)\">\n       <defs>\n        <path id=\"DejaVuSans-30\" d=\"M 2034 4250 \nQ 1547 4250 1301 3770 \nQ 1056 3291 1056 2328 \nQ 1056 1369 1301 889 \nQ 1547 409 2034 409 \nQ 2525 409 2770 889 \nQ 3016 1369 3016 2328 \nQ 3016 3291 2770 3770 \nQ 2525 4250 2034 4250 \nz\nM 2034 4750 \nQ 2819 4750 3233 4129 \nQ 3647 3509 3647 2328 \nQ 3647 1150 3233 529 \nQ 2819 -91 2034 -91 \nQ 1250 -91 836 529 \nQ 422 1150 422 2328 \nQ 422 3509 836 4129 \nQ 1250 4750 2034 4750 \nz\n\" transform=\"scale(0.015625)\"/>\n       </defs>\n       <use xlink:href=\"#DejaVuSans-30\"/>\n      </g>\n     </g>\n    </g>\n    <g id=\"xtick_5\">\n     <g id=\"line2d_9\">\n      <path d=\"M 202.046534 145.8 \nL 202.046534 7.2 \n\" clip-path=\"url(#p82712dd472)\" style=\"fill: none; stroke: #b0b0b0; stroke-width: 0.8; stroke-linecap: square\"/>\n     </g>\n     <g id=\"line2d_10\">\n      <g>\n       <use xlink:href=\"#m81dcdc1600\" x=\"202.046534\" y=\"145.8\" style=\"stroke: #000000; stroke-width: 0.8\"/>\n      </g>\n     </g>\n     <g id=\"text_5\">\n      <!-- 2 -->\n      <g transform=\"translate(198.865284 160.398438) scale(0.1 -0.1)\">\n       <use xlink:href=\"#DejaVuSans-32\"/>\n      </g>\n     </g>\n    </g>\n    <g id=\"xtick_6\">\n     <g id=\"line2d_11\">\n      <path d=\"M 234.680233 145.8 \nL 234.680233 7.2 \n\" clip-path=\"url(#p82712dd472)\" style=\"fill: none; stroke: #b0b0b0; stroke-width: 0.8; stroke-linecap: square\"/>\n     </g>\n     <g id=\"line2d_12\">\n      <g>\n       <use xlink:href=\"#m81dcdc1600\" x=\"234.680233\" y=\"145.8\" style=\"stroke: #000000; stroke-width: 0.8\"/>\n      </g>\n     </g>\n     <g id=\"text_6\">\n      <!-- 4 -->\n      <g transform=\"translate(231.498983 160.398438) scale(0.1 -0.1)\">\n       <use xlink:href=\"#DejaVuSans-34\"/>\n      </g>\n     </g>\n    </g>\n    <g id=\"xtick_7\">\n     <g id=\"line2d_13\">\n      <path d=\"M 267.313932 145.8 \nL 267.313932 7.2 \n\" clip-path=\"url(#p82712dd472)\" style=\"fill: none; stroke: #b0b0b0; stroke-width: 0.8; stroke-linecap: square\"/>\n     </g>\n     <g id=\"line2d_14\">\n      <g>\n       <use xlink:href=\"#m81dcdc1600\" x=\"267.313932\" y=\"145.8\" style=\"stroke: #000000; stroke-width: 0.8\"/>\n      </g>\n     </g>\n     <g id=\"text_7\">\n      <!-- 6 -->\n      <g transform=\"translate(264.132682 160.398438) scale(0.1 -0.1)\">\n       <use xlink:href=\"#DejaVuSans-36\"/>\n      </g>\n     </g>\n    </g>\n    <g id=\"text_8\">\n     <!-- x -->\n     <g transform=\"translate(166.371875 174.076563) scale(0.1 -0.1)\">\n      <defs>\n       <path id=\"DejaVuSans-78\" d=\"M 3513 3500 \nL 2247 1797 \nL 3578 0 \nL 2900 0 \nL 1881 1375 \nL 863 0 \nL 184 0 \nL 1544 1831 \nL 300 3500 \nL 978 3500 \nL 1906 2253 \nL 2834 3500 \nL 3513 3500 \nz\n\" transform=\"scale(0.015625)\"/>\n      </defs>\n      <use xlink:href=\"#DejaVuSans-78\"/>\n     </g>\n    </g>\n   </g>\n   <g id=\"matplotlib.axis_2\">\n    <g id=\"ytick_1\">\n     <g id=\"line2d_15\">\n      <path d=\"M 43.78125 139.5 \nL 294.88125 139.5 \n\" clip-path=\"url(#p82712dd472)\" style=\"fill: none; stroke: #b0b0b0; stroke-width: 0.8; stroke-linecap: square\"/>\n     </g>\n     <g id=\"line2d_16\">\n      <defs>\n       <path id=\"m255b52acff\" d=\"M 0 0 \nL -3.5 0 \n\" style=\"stroke: #000000; stroke-width: 0.8\"/>\n      </defs>\n      <g>\n       <use xlink:href=\"#m255b52acff\" x=\"43.78125\" y=\"139.5\" style=\"stroke: #000000; stroke-width: 0.8\"/>\n      </g>\n     </g>\n     <g id=\"text_9\">\n      <!-- 0.0 -->\n      <g transform=\"translate(20.878125 143.299219) scale(0.1 -0.1)\">\n       <defs>\n        <path id=\"DejaVuSans-2e\" d=\"M 684 794 \nL 1344 794 \nL 1344 0 \nL 684 0 \nL 684 794 \nz\n\" transform=\"scale(0.015625)\"/>\n       </defs>\n       <use xlink:href=\"#DejaVuSans-30\"/>\n       <use xlink:href=\"#DejaVuSans-2e\" x=\"63.623047\"/>\n       <use xlink:href=\"#DejaVuSans-30\" x=\"95.410156\"/>\n      </g>\n     </g>\n    </g>\n    <g id=\"ytick_2\">\n     <g id=\"line2d_17\">\n      <path d=\"M 43.78125 107.916484 \nL 294.88125 107.916484 \n\" clip-path=\"url(#p82712dd472)\" style=\"fill: none; stroke: #b0b0b0; stroke-width: 0.8; stroke-linecap: square\"/>\n     </g>\n     <g id=\"line2d_18\">\n      <g>\n       <use xlink:href=\"#m255b52acff\" x=\"43.78125\" y=\"107.916484\" style=\"stroke: #000000; stroke-width: 0.8\"/>\n      </g>\n     </g>\n     <g id=\"text_10\">\n      <!-- 0.1 -->\n      <g transform=\"translate(20.878125 111.715702) scale(0.1 -0.1)\">\n       <defs>\n        <path id=\"DejaVuSans-31\" d=\"M 794 531 \nL 1825 531 \nL 1825 4091 \nL 703 3866 \nL 703 4441 \nL 1819 4666 \nL 2450 4666 \nL 2450 531 \nL 3481 531 \nL 3481 0 \nL 794 0 \nL 794 531 \nz\n\" transform=\"scale(0.015625)\"/>\n       </defs>\n       <use xlink:href=\"#DejaVuSans-30\"/>\n       <use xlink:href=\"#DejaVuSans-2e\" x=\"63.623047\"/>\n       <use xlink:href=\"#DejaVuSans-31\" x=\"95.410156\"/>\n      </g>\n     </g>\n    </g>\n    <g id=\"ytick_3\">\n     <g id=\"line2d_19\">\n      <path d=\"M 43.78125 76.332967 \nL 294.88125 76.332967 \n\" clip-path=\"url(#p82712dd472)\" style=\"fill: none; stroke: #b0b0b0; stroke-width: 0.8; stroke-linecap: square\"/>\n     </g>\n     <g id=\"line2d_20\">\n      <g>\n       <use xlink:href=\"#m255b52acff\" x=\"43.78125\" y=\"76.332967\" style=\"stroke: #000000; stroke-width: 0.8\"/>\n      </g>\n     </g>\n     <g id=\"text_11\">\n      <!-- 0.2 -->\n      <g transform=\"translate(20.878125 80.132186) scale(0.1 -0.1)\">\n       <use xlink:href=\"#DejaVuSans-30\"/>\n       <use xlink:href=\"#DejaVuSans-2e\" x=\"63.623047\"/>\n       <use xlink:href=\"#DejaVuSans-32\" x=\"95.410156\"/>\n      </g>\n     </g>\n    </g>\n    <g id=\"ytick_4\">\n     <g id=\"line2d_21\">\n      <path d=\"M 43.78125 44.749451 \nL 294.88125 44.749451 \n\" clip-path=\"url(#p82712dd472)\" style=\"fill: none; stroke: #b0b0b0; stroke-width: 0.8; stroke-linecap: square\"/>\n     </g>\n     <g id=\"line2d_22\">\n      <g>\n       <use xlink:href=\"#m255b52acff\" x=\"43.78125\" y=\"44.749451\" style=\"stroke: #000000; stroke-width: 0.8\"/>\n      </g>\n     </g>\n     <g id=\"text_12\">\n      <!-- 0.3 -->\n      <g transform=\"translate(20.878125 48.54867) scale(0.1 -0.1)\">\n       <defs>\n        <path id=\"DejaVuSans-33\" d=\"M 2597 2516 \nQ 3050 2419 3304 2112 \nQ 3559 1806 3559 1356 \nQ 3559 666 3084 287 \nQ 2609 -91 1734 -91 \nQ 1441 -91 1130 -33 \nQ 819 25 488 141 \nL 488 750 \nQ 750 597 1062 519 \nQ 1375 441 1716 441 \nQ 2309 441 2620 675 \nQ 2931 909 2931 1356 \nQ 2931 1769 2642 2001 \nQ 2353 2234 1838 2234 \nL 1294 2234 \nL 1294 2753 \nL 1863 2753 \nQ 2328 2753 2575 2939 \nQ 2822 3125 2822 3475 \nQ 2822 3834 2567 4026 \nQ 2313 4219 1838 4219 \nQ 1578 4219 1281 4162 \nQ 984 4106 628 3988 \nL 628 4550 \nQ 988 4650 1302 4700 \nQ 1616 4750 1894 4750 \nQ 2613 4750 3031 4423 \nQ 3450 4097 3450 3541 \nQ 3450 3153 3228 2886 \nQ 3006 2619 2597 2516 \nz\n\" transform=\"scale(0.015625)\"/>\n       </defs>\n       <use xlink:href=\"#DejaVuSans-30\"/>\n       <use xlink:href=\"#DejaVuSans-2e\" x=\"63.623047\"/>\n       <use xlink:href=\"#DejaVuSans-33\" x=\"95.410156\"/>\n      </g>\n     </g>\n    </g>\n    <g id=\"ytick_5\">\n     <g id=\"line2d_23\">\n      <path d=\"M 43.78125 13.165935 \nL 294.88125 13.165935 \n\" clip-path=\"url(#p82712dd472)\" style=\"fill: none; stroke: #b0b0b0; stroke-width: 0.8; stroke-linecap: square\"/>\n     </g>\n     <g id=\"line2d_24\">\n      <g>\n       <use xlink:href=\"#m255b52acff\" x=\"43.78125\" y=\"13.165935\" style=\"stroke: #000000; stroke-width: 0.8\"/>\n      </g>\n     </g>\n     <g id=\"text_13\">\n      <!-- 0.4 -->\n      <g transform=\"translate(20.878125 16.965154) scale(0.1 -0.1)\">\n       <use xlink:href=\"#DejaVuSans-30\"/>\n       <use xlink:href=\"#DejaVuSans-2e\" x=\"63.623047\"/>\n       <use xlink:href=\"#DejaVuSans-34\" x=\"95.410156\"/>\n      </g>\n     </g>\n    </g>\n    <g id=\"text_14\">\n     <!-- p(x) -->\n     <g transform=\"translate(14.798438 86.535156) rotate(-90) scale(0.1 -0.1)\">\n      <defs>\n       <path id=\"DejaVuSans-70\" d=\"M 1159 525 \nL 1159 -1331 \nL 581 -1331 \nL 581 3500 \nL 1159 3500 \nL 1159 2969 \nQ 1341 3281 1617 3432 \nQ 1894 3584 2278 3584 \nQ 2916 3584 3314 3078 \nQ 3713 2572 3713 1747 \nQ 3713 922 3314 415 \nQ 2916 -91 2278 -91 \nQ 1894 -91 1617 61 \nQ 1341 213 1159 525 \nz\nM 3116 1747 \nQ 3116 2381 2855 2742 \nQ 2594 3103 2138 3103 \nQ 1681 3103 1420 2742 \nQ 1159 2381 1159 1747 \nQ 1159 1113 1420 752 \nQ 1681 391 2138 391 \nQ 2594 391 2855 752 \nQ 3116 1113 3116 1747 \nz\n\" transform=\"scale(0.015625)\"/>\n       <path id=\"DejaVuSans-28\" d=\"M 1984 4856 \nQ 1566 4138 1362 3434 \nQ 1159 2731 1159 2009 \nQ 1159 1288 1364 580 \nQ 1569 -128 1984 -844 \nL 1484 -844 \nQ 1016 -109 783 600 \nQ 550 1309 550 2009 \nQ 550 2706 781 3412 \nQ 1013 4119 1484 4856 \nL 1984 4856 \nz\n\" transform=\"scale(0.015625)\"/>\n       <path id=\"DejaVuSans-29\" d=\"M 513 4856 \nL 1013 4856 \nQ 1481 4119 1714 3412 \nQ 1947 2706 1947 2009 \nQ 1947 1309 1714 600 \nQ 1481 -109 1013 -844 \nL 513 -844 \nQ 928 -128 1133 580 \nQ 1338 1288 1338 2009 \nQ 1338 2731 1133 3434 \nQ 928 4138 513 4856 \nz\n\" transform=\"scale(0.015625)\"/>\n      </defs>\n      <use xlink:href=\"#DejaVuSans-70\"/>\n      <use xlink:href=\"#DejaVuSans-28\" x=\"63.476562\"/>\n      <use xlink:href=\"#DejaVuSans-78\" x=\"102.490234\"/>\n      <use xlink:href=\"#DejaVuSans-29\" x=\"161.669922\"/>\n     </g>\n    </g>\n   </g>\n   <g id=\"line2d_25\">\n    <path d=\"M 55.194886 139.5 \nL 108.061479 139.392742 \nL 113.44604 139.148719 \nL 117.035747 138.770771 \nL 119.809611 138.25954 \nL 122.09397 137.619981 \nL 124.051992 136.856558 \nL 125.846846 135.932618 \nL 127.478531 134.864093 \nL 129.110215 133.53546 \nL 130.7419 131.902404 \nL 132.373585 129.918522 \nL 133.842102 127.79423 \nL 135.473787 125.01546 \nL 137.105472 121.755388 \nL 138.737157 117.977866 \nL 140.368842 113.655911 \nL 142.163695 108.255858 \nL 144.121717 101.596938 \nL 146.242908 93.525729 \nL 148.690435 83.248545 \nL 151.790637 69.178196 \nL 157.827871 41.57206 \nL 159.949061 33.006718 \nL 161.743915 26.675681 \nL 163.212431 22.276554 \nL 164.517779 19.044317 \nL 165.659959 16.789011 \nL 166.63897 15.307609 \nL 167.454812 14.403942 \nL 168.270655 13.808322 \nL 168.923329 13.556687 \nL 169.576003 13.5063 \nL 170.228677 13.657402 \nL 170.881351 14.009268 \nL 171.697193 14.728769 \nL 172.513036 15.753897 \nL 173.492047 17.376612 \nL 174.634226 19.788832 \nL 175.776406 22.726997 \nL 177.081754 26.675681 \nL 178.713439 32.392617 \nL 180.671461 40.191426 \nL 183.118988 50.957567 \nL 192.256424 92.210802 \nL 194.540783 101.006788 \nL 196.498805 107.731288 \nL 198.456827 113.655911 \nL 200.25168 118.379758 \nL 201.883365 122.104146 \nL 203.51505 125.314336 \nL 205.146735 128.047227 \nL 206.77842 130.345625 \nL 208.410105 132.255577 \nL 210.04179 133.824084 \nL 211.673475 135.097239 \nL 213.468328 136.208702 \nL 215.42635 137.136646 \nL 217.547541 137.875773 \nL 219.8319 138.435791 \nL 222.605764 138.879679 \nL 226.032303 139.193999 \nL 230.927358 139.396705 \nL 239.412119 139.487295 \nL 277.104042 139.5 \nL 283.467614 139.5 \nL 283.467614 139.5 \n\" clip-path=\"url(#p82712dd472)\" style=\"fill: none; stroke: #1f77b4; stroke-width: 1.5; stroke-linecap: square\"/>\n   </g>\n   <g id=\"line2d_26\">\n    <path d=\"M 55.194886 139.362188 \nL 65.63767 139.098708 \nL 72.980253 138.699787 \nL 78.69115 138.178279 \nL 83.586205 137.516853 \nL 87.991754 136.697191 \nL 91.907798 135.745999 \nL 95.497505 134.654637 \nL 98.924044 133.387507 \nL 102.187413 131.951607 \nL 105.450783 130.271147 \nL 108.714153 128.328848 \nL 111.977523 126.112322 \nL 115.240893 123.615644 \nL 118.504263 120.840886 \nL 121.930802 117.640793 \nL 125.683677 113.829699 \nL 130.089226 109.01843 \nL 136.126461 102.052696 \nL 144.448054 92.482389 \nL 148.364098 88.331596 \nL 151.627468 85.194678 \nL 154.401333 82.824913 \nL 157.012028 80.888277 \nL 159.296387 79.455574 \nL 161.580746 78.288522 \nL 163.701937 77.457339 \nL 165.659959 76.915213 \nL 167.617981 76.595215 \nL 169.576003 76.500787 \nL 171.534025 76.632947 \nL 173.492047 76.99027 \nL 175.450069 77.568916 \nL 177.571259 78.438306 \nL 179.69245 79.54932 \nL 181.976809 81.000265 \nL 184.424336 82.824913 \nL 187.035032 85.047175 \nL 189.972065 87.839952 \nL 193.398603 91.412502 \nL 197.804153 96.3499 \nL 212.978823 113.657453 \nL 216.894867 117.640793 \nL 220.484574 120.986092 \nL 223.911112 123.877929 \nL 227.174482 126.346542 \nL 230.437852 128.535259 \nL 233.701222 130.450724 \nL 236.964592 132.105883 \nL 240.227962 133.51842 \nL 243.6545 134.763387 \nL 247.244207 135.834289 \nL 251.160251 136.766392 \nL 255.402632 137.542786 \nL 260.134519 138.178279 \nL 265.682247 138.687887 \nL 272.372156 139.065638 \nL 281.020086 139.318239 \nL 283.467614 139.359757 \nL 283.467614 139.359757 \n\" clip-path=\"url(#p82712dd472)\" style=\"fill: none; stroke-dasharray: 5.55,2.4; stroke-dashoffset: 0; stroke: #bf00bf; stroke-width: 1.5\"/>\n   </g>\n   <g id=\"line2d_27\">\n    <path d=\"M 55.194886 139.5 \nL 157.012028 139.392742 \nL 162.396589 139.148719 \nL 165.986296 138.770771 \nL 168.76016 138.25954 \nL 171.044519 137.619981 \nL 173.002541 136.856558 \nL 174.797395 135.932618 \nL 176.42908 134.864093 \nL 178.060765 133.53546 \nL 179.69245 131.902404 \nL 181.324135 129.918522 \nL 182.792651 127.79423 \nL 184.424336 125.01546 \nL 186.056021 121.755388 \nL 187.687706 117.977866 \nL 189.319391 113.655911 \nL 191.114244 108.255858 \nL 193.072266 101.596938 \nL 195.193457 93.525729 \nL 197.640984 83.248545 \nL 200.741186 69.178196 \nL 206.77842 41.57206 \nL 208.899611 33.006718 \nL 210.694464 26.675681 \nL 212.16298 22.276554 \nL 213.468328 19.044317 \nL 214.610508 16.789011 \nL 215.589519 15.307609 \nL 216.405361 14.403942 \nL 217.221204 13.808322 \nL 217.873878 13.556687 \nL 218.526552 13.5063 \nL 219.179226 13.657402 \nL 219.8319 14.009268 \nL 220.647742 14.728769 \nL 221.463585 15.753897 \nL 222.442596 17.376612 \nL 223.584775 19.788832 \nL 224.726955 22.726997 \nL 226.032303 26.675681 \nL 227.663988 32.392617 \nL 229.62201 40.191426 \nL 232.069537 50.957567 \nL 241.206973 92.210802 \nL 243.491332 101.006788 \nL 245.449354 107.731288 \nL 247.407376 113.655911 \nL 249.202229 118.379758 \nL 250.833914 122.104146 \nL 252.465599 125.314336 \nL 254.097284 128.047227 \nL 255.728969 130.345625 \nL 257.360654 132.255577 \nL 258.992339 133.824084 \nL 260.624024 135.097239 \nL 262.418878 136.208702 \nL 264.376899 137.136646 \nL 266.49809 137.875773 \nL 268.782449 138.435791 \nL 271.556313 138.879679 \nL 274.982852 139.193999 \nL 279.877907 139.396705 \nL 283.467614 139.456009 \nL 283.467614 139.456009 \n\" clip-path=\"url(#p82712dd472)\" style=\"fill: none; stroke-dasharray: 9.6,2.4,1.5,2.4; stroke-dashoffset: 0; stroke: #008000; stroke-width: 1.5\"/>\n   </g>\n   <g id=\"patch_3\">\n    <path d=\"M 43.78125 145.8 \nL 43.78125 7.2 \n\" style=\"fill: none; stroke: #000000; stroke-width: 0.8; stroke-linejoin: miter; stroke-linecap: square\"/>\n   </g>\n   <g id=\"patch_4\">\n    <path d=\"M 294.88125 145.8 \nL 294.88125 7.2 \n\" style=\"fill: none; stroke: #000000; stroke-width: 0.8; stroke-linejoin: miter; stroke-linecap: square\"/>\n   </g>\n   <g id=\"patch_5\">\n    <path d=\"M 43.78125 145.8 \nL 294.88125 145.8 \n\" style=\"fill: none; stroke: #000000; stroke-width: 0.8; stroke-linejoin: miter; stroke-linecap: square\"/>\n   </g>\n   <g id=\"patch_6\">\n    <path d=\"M 43.78125 7.2 \nL 294.88125 7.2 \n\" style=\"fill: none; stroke: #000000; stroke-width: 0.8; stroke-linejoin: miter; stroke-linecap: square\"/>\n   </g>\n   <g id=\"legend_1\">\n    <g id=\"patch_7\">\n     <path d=\"M 50.78125 59.234375 \nL 152.05625 59.234375 \nQ 154.05625 59.234375 154.05625 57.234375 \nL 154.05625 14.2 \nQ 154.05625 12.2 152.05625 12.2 \nL 50.78125 12.2 \nQ 48.78125 12.2 48.78125 14.2 \nL 48.78125 57.234375 \nQ 48.78125 59.234375 50.78125 59.234375 \nz\n\" style=\"fill: #ffffff; opacity: 0.8; stroke: #cccccc; stroke-linejoin: miter\"/>\n    </g>\n    <g id=\"line2d_28\">\n     <path d=\"M 52.78125 20.298438 \nL 62.78125 20.298438 \nL 72.78125 20.298438 \n\" style=\"fill: none; stroke: #1f77b4; stroke-width: 1.5; stroke-linecap: square\"/>\n    </g>\n    <g id=\"text_15\">\n     <!-- mean 0, std 1 -->\n     <g transform=\"translate(80.78125 23.798438) scale(0.1 -0.1)\">\n      <defs>\n       <path id=\"DejaVuSans-6d\" d=\"M 3328 2828 \nQ 3544 3216 3844 3400 \nQ 4144 3584 4550 3584 \nQ 5097 3584 5394 3201 \nQ 5691 2819 5691 2113 \nL 5691 0 \nL 5113 0 \nL 5113 2094 \nQ 5113 2597 4934 2840 \nQ 4756 3084 4391 3084 \nQ 3944 3084 3684 2787 \nQ 3425 2491 3425 1978 \nL 3425 0 \nL 2847 0 \nL 2847 2094 \nQ 2847 2600 2669 2842 \nQ 2491 3084 2119 3084 \nQ 1678 3084 1418 2786 \nQ 1159 2488 1159 1978 \nL 1159 0 \nL 581 0 \nL 581 3500 \nL 1159 3500 \nL 1159 2956 \nQ 1356 3278 1631 3431 \nQ 1906 3584 2284 3584 \nQ 2666 3584 2933 3390 \nQ 3200 3197 3328 2828 \nz\n\" transform=\"scale(0.015625)\"/>\n       <path id=\"DejaVuSans-65\" d=\"M 3597 1894 \nL 3597 1613 \nL 953 1613 \nQ 991 1019 1311 708 \nQ 1631 397 2203 397 \nQ 2534 397 2845 478 \nQ 3156 559 3463 722 \nL 3463 178 \nQ 3153 47 2828 -22 \nQ 2503 -91 2169 -91 \nQ 1331 -91 842 396 \nQ 353 884 353 1716 \nQ 353 2575 817 3079 \nQ 1281 3584 2069 3584 \nQ 2775 3584 3186 3129 \nQ 3597 2675 3597 1894 \nz\nM 3022 2063 \nQ 3016 2534 2758 2815 \nQ 2500 3097 2075 3097 \nQ 1594 3097 1305 2825 \nQ 1016 2553 972 2059 \nL 3022 2063 \nz\n\" transform=\"scale(0.015625)\"/>\n       <path id=\"DejaVuSans-61\" d=\"M 2194 1759 \nQ 1497 1759 1228 1600 \nQ 959 1441 959 1056 \nQ 959 750 1161 570 \nQ 1363 391 1709 391 \nQ 2188 391 2477 730 \nQ 2766 1069 2766 1631 \nL 2766 1759 \nL 2194 1759 \nz\nM 3341 1997 \nL 3341 0 \nL 2766 0 \nL 2766 531 \nQ 2569 213 2275 61 \nQ 1981 -91 1556 -91 \nQ 1019 -91 701 211 \nQ 384 513 384 1019 \nQ 384 1609 779 1909 \nQ 1175 2209 1959 2209 \nL 2766 2209 \nL 2766 2266 \nQ 2766 2663 2505 2880 \nQ 2244 3097 1772 3097 \nQ 1472 3097 1187 3025 \nQ 903 2953 641 2809 \nL 641 3341 \nQ 956 3463 1253 3523 \nQ 1550 3584 1831 3584 \nQ 2591 3584 2966 3190 \nQ 3341 2797 3341 1997 \nz\n\" transform=\"scale(0.015625)\"/>\n       <path id=\"DejaVuSans-6e\" d=\"M 3513 2113 \nL 3513 0 \nL 2938 0 \nL 2938 2094 \nQ 2938 2591 2744 2837 \nQ 2550 3084 2163 3084 \nQ 1697 3084 1428 2787 \nQ 1159 2491 1159 1978 \nL 1159 0 \nL 581 0 \nL 581 3500 \nL 1159 3500 \nL 1159 2956 \nQ 1366 3272 1645 3428 \nQ 1925 3584 2291 3584 \nQ 2894 3584 3203 3211 \nQ 3513 2838 3513 2113 \nz\n\" transform=\"scale(0.015625)\"/>\n       <path id=\"DejaVuSans-20\" transform=\"scale(0.015625)\"/>\n       <path id=\"DejaVuSans-2c\" d=\"M 750 794 \nL 1409 794 \nL 1409 256 \nL 897 -744 \nL 494 -744 \nL 750 256 \nL 750 794 \nz\n\" transform=\"scale(0.015625)\"/>\n       <path id=\"DejaVuSans-73\" d=\"M 2834 3397 \nL 2834 2853 \nQ 2591 2978 2328 3040 \nQ 2066 3103 1784 3103 \nQ 1356 3103 1142 2972 \nQ 928 2841 928 2578 \nQ 928 2378 1081 2264 \nQ 1234 2150 1697 2047 \nL 1894 2003 \nQ 2506 1872 2764 1633 \nQ 3022 1394 3022 966 \nQ 3022 478 2636 193 \nQ 2250 -91 1575 -91 \nQ 1294 -91 989 -36 \nQ 684 19 347 128 \nL 347 722 \nQ 666 556 975 473 \nQ 1284 391 1588 391 \nQ 1994 391 2212 530 \nQ 2431 669 2431 922 \nQ 2431 1156 2273 1281 \nQ 2116 1406 1581 1522 \nL 1381 1569 \nQ 847 1681 609 1914 \nQ 372 2147 372 2553 \nQ 372 3047 722 3315 \nQ 1072 3584 1716 3584 \nQ 2034 3584 2315 3537 \nQ 2597 3491 2834 3397 \nz\n\" transform=\"scale(0.015625)\"/>\n       <path id=\"DejaVuSans-74\" d=\"M 1172 4494 \nL 1172 3500 \nL 2356 3500 \nL 2356 3053 \nL 1172 3053 \nL 1172 1153 \nQ 1172 725 1289 603 \nQ 1406 481 1766 481 \nL 2356 481 \nL 2356 0 \nL 1766 0 \nQ 1100 0 847 248 \nQ 594 497 594 1153 \nL 594 3053 \nL 172 3053 \nL 172 3500 \nL 594 3500 \nL 594 4494 \nL 1172 4494 \nz\n\" transform=\"scale(0.015625)\"/>\n       <path id=\"DejaVuSans-64\" d=\"M 2906 2969 \nL 2906 4863 \nL 3481 4863 \nL 3481 0 \nL 2906 0 \nL 2906 525 \nQ 2725 213 2448 61 \nQ 2172 -91 1784 -91 \nQ 1150 -91 751 415 \nQ 353 922 353 1747 \nQ 353 2572 751 3078 \nQ 1150 3584 1784 3584 \nQ 2172 3584 2448 3432 \nQ 2725 3281 2906 2969 \nz\nM 947 1747 \nQ 947 1113 1208 752 \nQ 1469 391 1925 391 \nQ 2381 391 2643 752 \nQ 2906 1113 2906 1747 \nQ 2906 2381 2643 2742 \nQ 2381 3103 1925 3103 \nQ 1469 3103 1208 2742 \nQ 947 2381 947 1747 \nz\n\" transform=\"scale(0.015625)\"/>\n      </defs>\n      <use xlink:href=\"#DejaVuSans-6d\"/>\n      <use xlink:href=\"#DejaVuSans-65\" x=\"97.412109\"/>\n      <use xlink:href=\"#DejaVuSans-61\" x=\"158.935547\"/>\n      <use xlink:href=\"#DejaVuSans-6e\" x=\"220.214844\"/>\n      <use xlink:href=\"#DejaVuSans-20\" x=\"283.59375\"/>\n      <use xlink:href=\"#DejaVuSans-30\" x=\"315.380859\"/>\n      <use xlink:href=\"#DejaVuSans-2c\" x=\"379.003906\"/>\n      <use xlink:href=\"#DejaVuSans-20\" x=\"410.791016\"/>\n      <use xlink:href=\"#DejaVuSans-73\" x=\"442.578125\"/>\n      <use xlink:href=\"#DejaVuSans-74\" x=\"494.677734\"/>\n      <use xlink:href=\"#DejaVuSans-64\" x=\"533.886719\"/>\n      <use xlink:href=\"#DejaVuSans-20\" x=\"597.363281\"/>\n      <use xlink:href=\"#DejaVuSans-31\" x=\"629.150391\"/>\n     </g>\n    </g>\n    <g id=\"line2d_29\">\n     <path d=\"M 52.78125 34.976563 \nL 62.78125 34.976563 \nL 72.78125 34.976563 \n\" style=\"fill: none; stroke-dasharray: 5.55,2.4; stroke-dashoffset: 0; stroke: #bf00bf; stroke-width: 1.5\"/>\n    </g>\n    <g id=\"text_16\">\n     <!-- mean 0, std 2 -->\n     <g transform=\"translate(80.78125 38.476563) scale(0.1 -0.1)\">\n      <use xlink:href=\"#DejaVuSans-6d\"/>\n      <use xlink:href=\"#DejaVuSans-65\" x=\"97.412109\"/>\n      <use xlink:href=\"#DejaVuSans-61\" x=\"158.935547\"/>\n      <use xlink:href=\"#DejaVuSans-6e\" x=\"220.214844\"/>\n      <use xlink:href=\"#DejaVuSans-20\" x=\"283.59375\"/>\n      <use xlink:href=\"#DejaVuSans-30\" x=\"315.380859\"/>\n      <use xlink:href=\"#DejaVuSans-2c\" x=\"379.003906\"/>\n      <use xlink:href=\"#DejaVuSans-20\" x=\"410.791016\"/>\n      <use xlink:href=\"#DejaVuSans-73\" x=\"442.578125\"/>\n      <use xlink:href=\"#DejaVuSans-74\" x=\"494.677734\"/>\n      <use xlink:href=\"#DejaVuSans-64\" x=\"533.886719\"/>\n      <use xlink:href=\"#DejaVuSans-20\" x=\"597.363281\"/>\n      <use xlink:href=\"#DejaVuSans-32\" x=\"629.150391\"/>\n     </g>\n    </g>\n    <g id=\"line2d_30\">\n     <path d=\"M 52.78125 49.654688 \nL 62.78125 49.654688 \nL 72.78125 49.654688 \n\" style=\"fill: none; stroke-dasharray: 9.6,2.4,1.5,2.4; stroke-dashoffset: 0; stroke: #008000; stroke-width: 1.5\"/>\n    </g>\n    <g id=\"text_17\">\n     <!-- mean 3, std 1 -->\n     <g transform=\"translate(80.78125 53.154688) scale(0.1 -0.1)\">\n      <use xlink:href=\"#DejaVuSans-6d\"/>\n      <use xlink:href=\"#DejaVuSans-65\" x=\"97.412109\"/>\n      <use xlink:href=\"#DejaVuSans-61\" x=\"158.935547\"/>\n      <use xlink:href=\"#DejaVuSans-6e\" x=\"220.214844\"/>\n      <use xlink:href=\"#DejaVuSans-20\" x=\"283.59375\"/>\n      <use xlink:href=\"#DejaVuSans-33\" x=\"315.380859\"/>\n      <use xlink:href=\"#DejaVuSans-2c\" x=\"379.003906\"/>\n      <use xlink:href=\"#DejaVuSans-20\" x=\"410.791016\"/>\n      <use xlink:href=\"#DejaVuSans-73\" x=\"442.578125\"/>\n      <use xlink:href=\"#DejaVuSans-74\" x=\"494.677734\"/>\n      <use xlink:href=\"#DejaVuSans-64\" x=\"533.886719\"/>\n      <use xlink:href=\"#DejaVuSans-20\" x=\"597.363281\"/>\n      <use xlink:href=\"#DejaVuSans-31\" x=\"629.150391\"/>\n     </g>\n    </g>\n   </g>\n  </g>\n </g>\n <defs>\n  <clipPath id=\"p82712dd472\">\n   <rect x=\"43.78125\" y=\"7.2\" width=\"251.1\" height=\"138.6\"/>\n  </clipPath>\n </defs>\n</svg>\n"
          },
          "metadata": {}
        }
      ]
    },
    {
      "cell_type": "markdown",
      "source": [
        "##  3.2. Object-Oriented Design for Implementation"
      ],
      "metadata": {
        "id": "7zjdDXvaAv5T"
      }
    },
    {
      "cell_type": "markdown",
      "source": [
        "### 3.2 Memo\n",
        "- This object-oriented design for implementation will greatly streamline the presentation\n",
        "- D2L library makes structured modeling for deep learning easy.\n"
      ],
      "metadata": {
        "id": "4KPW5yorVZU_"
      }
    },
    {
      "cell_type": "code",
      "source": [
        "import time\n",
        "import numpy as np\n",
        "import torch\n",
        "from torch import nn\n",
        "from d2l import torch as d2l"
      ],
      "metadata": {
        "id": "kWuWtWOPX0RX"
      },
      "execution_count": null,
      "outputs": []
    },
    {
      "cell_type": "markdown",
      "source": [
        "### 3.2.1 Utilities"
      ],
      "metadata": {
        "id": "YLG8jgpaX1MM"
      }
    },
    {
      "cell_type": "code",
      "source": [
        "def add_to_class(Class):\n",
        "    \"\"\"Register functions as methods in created class.\"\"\"\n",
        "    def wrapper(obj):\n",
        "        setattr(Class, obj.__name__, obj)\n",
        "    return wrapper"
      ],
      "metadata": {
        "id": "gLNe2_7JX5g4"
      },
      "execution_count": null,
      "outputs": []
    },
    {
      "cell_type": "code",
      "source": [
        "class A:\n",
        "    def __init__(self):\n",
        "        self.b = 1\n",
        "\n",
        "a = A()"
      ],
      "metadata": {
        "id": "1XPBmO6bX-tU"
      },
      "execution_count": null,
      "outputs": []
    },
    {
      "cell_type": "code",
      "source": [
        "@add_to_class(A)\n",
        "def do(self):\n",
        "    print('Class attribute \"b\" is', self.b)\n",
        "\n",
        "a.do()"
      ],
      "metadata": {
        "colab": {
          "base_uri": "https://localhost:8080/"
        },
        "id": "ZhbJx4lCYA5j",
        "outputId": "3f1539e2-b1be-422a-950e-f7c2f4c30803"
      },
      "execution_count": null,
      "outputs": [
        {
          "output_type": "stream",
          "name": "stdout",
          "text": [
            "Class attribute \"b\" is 1\n"
          ]
        }
      ]
    },
    {
      "cell_type": "code",
      "source": [
        "class HyperParameters:\n",
        "    \"\"\"The base class of hyperparameters.\"\"\"\n",
        "    def save_hyperparameters(self, ignore=[]):\n",
        "        raise NotImplemented"
      ],
      "metadata": {
        "id": "nRMNc2G1YCDG"
      },
      "execution_count": null,
      "outputs": []
    },
    {
      "cell_type": "code",
      "source": [
        "# Call the fully implemented HyperParameters class saved in d2l\n",
        "class B(d2l.HyperParameters):\n",
        "    def __init__(self, a, b, c):\n",
        "        self.save_hyperparameters(ignore=['c'])\n",
        "        print('self.a =', self.a, 'self.b =', self.b)\n",
        "        print('There is no self.c =', not hasattr(self, 'c'))\n",
        "\n",
        "b = B(a=1, b=2, c=3)"
      ],
      "metadata": {
        "colab": {
          "base_uri": "https://localhost:8080/"
        },
        "id": "gcV7IMpXYHEx",
        "outputId": "3d0a5cb9-8b9d-4c42-c86f-2dcc4ac15ab8"
      },
      "execution_count": null,
      "outputs": [
        {
          "output_type": "stream",
          "name": "stdout",
          "text": [
            "self.a = 1 self.b = 2\n",
            "There is no self.c = True\n"
          ]
        }
      ]
    },
    {
      "cell_type": "code",
      "source": [
        "class ProgressBoard(d2l.HyperParameters):\n",
        "    \"\"\"The board that plots data points in animation.\"\"\"\n",
        "    def __init__(self, xlabel=None, ylabel=None, xlim=None,\n",
        "                 ylim=None, xscale='linear', yscale='linear',\n",
        "                 ls=['-', '--', '-.', ':'], colors=['C0', 'C1', 'C2', 'C3'],\n",
        "                 fig=None, axes=None, figsize=(3.5, 2.5), display=True):\n",
        "        self.save_hyperparameters()\n",
        "\n",
        "    def draw(self, x, y, label, every_n=1):\n",
        "        raise NotImplemented"
      ],
      "metadata": {
        "id": "ArT2AV1_YJcw"
      },
      "execution_count": null,
      "outputs": []
    },
    {
      "cell_type": "code",
      "source": [
        "board = d2l.ProgressBoard('x')\n",
        "for x in np.arange(0, 10, 0.1):\n",
        "    board.draw(x, np.sin(x), 'sin', every_n=2)\n",
        "    board.draw(x, np.cos(x), 'cos', every_n=10)"
      ],
      "metadata": {
        "colab": {
          "base_uri": "https://localhost:8080/",
          "height": 266
        },
        "id": "Ky2aOonIYMTJ",
        "outputId": "9dbdc105-e900-453a-867a-143d4a601cf5"
      },
      "execution_count": null,
      "outputs": [
        {
          "output_type": "display_data",
          "data": {
            "text/plain": [
              "<Figure size 350x250 with 1 Axes>"
            ],
            "image/svg+xml": "<?xml version=\"1.0\" encoding=\"utf-8\" standalone=\"no\"?>\n<!DOCTYPE svg PUBLIC \"-//W3C//DTD SVG 1.1//EN\"\n  \"http://www.w3.org/Graphics/SVG/1.1/DTD/svg11.dtd\">\n<svg xmlns:xlink=\"http://www.w3.org/1999/xlink\" width=\"241.185572pt\" height=\"183.35625pt\" viewBox=\"0 0 241.185572 183.35625\" xmlns=\"http://www.w3.org/2000/svg\" version=\"1.1\">\n <metadata>\n  <rdf:RDF xmlns:dc=\"http://purl.org/dc/elements/1.1/\" xmlns:cc=\"http://creativecommons.org/ns#\" xmlns:rdf=\"http://www.w3.org/1999/02/22-rdf-syntax-ns#\">\n   <cc:Work>\n    <dc:type rdf:resource=\"http://purl.org/dc/dcmitype/StillImage\"/>\n    <dc:date>2024-10-29T02:01:45.373660</dc:date>\n    <dc:format>image/svg+xml</dc:format>\n    <dc:creator>\n     <cc:Agent>\n      <dc:title>Matplotlib v3.7.1, https://matplotlib.org/</dc:title>\n     </cc:Agent>\n    </dc:creator>\n   </cc:Work>\n  </rdf:RDF>\n </metadata>\n <defs>\n  <style type=\"text/css\">*{stroke-linejoin: round; stroke-linecap: butt}</style>\n </defs>\n <g id=\"figure_1\">\n  <g id=\"patch_1\">\n   <path d=\"M -0 183.35625 \nL 241.185572 183.35625 \nL 241.185572 0 \nL -0 0 \nz\n\" style=\"fill: #ffffff\"/>\n  </g>\n  <g id=\"axes_1\">\n   <g id=\"patch_2\">\n    <path d=\"M 38.482813 145.8 \nL 233.782813 145.8 \nL 233.782813 7.2 \nL 38.482813 7.2 \nz\n\" style=\"fill: #ffffff\"/>\n   </g>\n   <g id=\"matplotlib.axis_1\">\n    <g id=\"xtick_1\">\n     <g id=\"line2d_1\">\n      <defs>\n       <path id=\"mf8499bf4ed\" d=\"M 0 0 \nL 0 3.5 \n\" style=\"stroke: #000000; stroke-width: 0.8\"/>\n      </defs>\n      <g>\n       <use xlink:href=\"#mf8499bf4ed\" x=\"46.454241\" y=\"145.8\" style=\"stroke: #000000; stroke-width: 0.8\"/>\n      </g>\n     </g>\n     <g id=\"text_1\">\n      <!-- 0 -->\n      <g transform=\"translate(43.272991 160.398438) scale(0.1 -0.1)\">\n       <defs>\n        <path id=\"DejaVuSans-30\" d=\"M 2034 4250 \nQ 1547 4250 1301 3770 \nQ 1056 3291 1056 2328 \nQ 1056 1369 1301 889 \nQ 1547 409 2034 409 \nQ 2525 409 2770 889 \nQ 3016 1369 3016 2328 \nQ 3016 3291 2770 3770 \nQ 2525 4250 2034 4250 \nz\nM 2034 4750 \nQ 2819 4750 3233 4129 \nQ 3647 3509 3647 2328 \nQ 3647 1150 3233 529 \nQ 2819 -91 2034 -91 \nQ 1250 -91 836 529 \nQ 422 1150 422 2328 \nQ 422 3509 836 4129 \nQ 1250 4750 2034 4750 \nz\n\" transform=\"scale(0.015625)\"/>\n       </defs>\n       <use xlink:href=\"#DejaVuSans-30\"/>\n      </g>\n     </g>\n    </g>\n    <g id=\"xtick_2\">\n     <g id=\"line2d_2\">\n      <g>\n       <use xlink:href=\"#mf8499bf4ed\" x=\"82.688007\" y=\"145.8\" style=\"stroke: #000000; stroke-width: 0.8\"/>\n      </g>\n     </g>\n     <g id=\"text_2\">\n      <!-- 2 -->\n      <g transform=\"translate(79.506757 160.398438) scale(0.1 -0.1)\">\n       <defs>\n        <path id=\"DejaVuSans-32\" d=\"M 1228 531 \nL 3431 531 \nL 3431 0 \nL 469 0 \nL 469 531 \nQ 828 903 1448 1529 \nQ 2069 2156 2228 2338 \nQ 2531 2678 2651 2914 \nQ 2772 3150 2772 3378 \nQ 2772 3750 2511 3984 \nQ 2250 4219 1831 4219 \nQ 1534 4219 1204 4116 \nQ 875 4013 500 3803 \nL 500 4441 \nQ 881 4594 1212 4672 \nQ 1544 4750 1819 4750 \nQ 2544 4750 2975 4387 \nQ 3406 4025 3406 3419 \nQ 3406 3131 3298 2873 \nQ 3191 2616 2906 2266 \nQ 2828 2175 2409 1742 \nQ 1991 1309 1228 531 \nz\n\" transform=\"scale(0.015625)\"/>\n       </defs>\n       <use xlink:href=\"#DejaVuSans-32\"/>\n      </g>\n     </g>\n    </g>\n    <g id=\"xtick_3\">\n     <g id=\"line2d_3\">\n      <g>\n       <use xlink:href=\"#mf8499bf4ed\" x=\"118.921774\" y=\"145.8\" style=\"stroke: #000000; stroke-width: 0.8\"/>\n      </g>\n     </g>\n     <g id=\"text_3\">\n      <!-- 4 -->\n      <g transform=\"translate(115.740524 160.398438) scale(0.1 -0.1)\">\n       <defs>\n        <path id=\"DejaVuSans-34\" d=\"M 2419 4116 \nL 825 1625 \nL 2419 1625 \nL 2419 4116 \nz\nM 2253 4666 \nL 3047 4666 \nL 3047 1625 \nL 3713 1625 \nL 3713 1100 \nL 3047 1100 \nL 3047 0 \nL 2419 0 \nL 2419 1100 \nL 313 1100 \nL 313 1709 \nL 2253 4666 \nz\n\" transform=\"scale(0.015625)\"/>\n       </defs>\n       <use xlink:href=\"#DejaVuSans-34\"/>\n      </g>\n     </g>\n    </g>\n    <g id=\"xtick_4\">\n     <g id=\"line2d_4\">\n      <g>\n       <use xlink:href=\"#mf8499bf4ed\" x=\"155.15554\" y=\"145.8\" style=\"stroke: #000000; stroke-width: 0.8\"/>\n      </g>\n     </g>\n     <g id=\"text_4\">\n      <!-- 6 -->\n      <g transform=\"translate(151.97429 160.398438) scale(0.1 -0.1)\">\n       <defs>\n        <path id=\"DejaVuSans-36\" d=\"M 2113 2584 \nQ 1688 2584 1439 2293 \nQ 1191 2003 1191 1497 \nQ 1191 994 1439 701 \nQ 1688 409 2113 409 \nQ 2538 409 2786 701 \nQ 3034 994 3034 1497 \nQ 3034 2003 2786 2293 \nQ 2538 2584 2113 2584 \nz\nM 3366 4563 \nL 3366 3988 \nQ 3128 4100 2886 4159 \nQ 2644 4219 2406 4219 \nQ 1781 4219 1451 3797 \nQ 1122 3375 1075 2522 \nQ 1259 2794 1537 2939 \nQ 1816 3084 2150 3084 \nQ 2853 3084 3261 2657 \nQ 3669 2231 3669 1497 \nQ 3669 778 3244 343 \nQ 2819 -91 2113 -91 \nQ 1303 -91 875 529 \nQ 447 1150 447 2328 \nQ 447 3434 972 4092 \nQ 1497 4750 2381 4750 \nQ 2619 4750 2861 4703 \nQ 3103 4656 3366 4563 \nz\n\" transform=\"scale(0.015625)\"/>\n       </defs>\n       <use xlink:href=\"#DejaVuSans-36\"/>\n      </g>\n     </g>\n    </g>\n    <g id=\"xtick_5\">\n     <g id=\"line2d_5\">\n      <g>\n       <use xlink:href=\"#mf8499bf4ed\" x=\"191.389306\" y=\"145.8\" style=\"stroke: #000000; stroke-width: 0.8\"/>\n      </g>\n     </g>\n     <g id=\"text_5\">\n      <!-- 8 -->\n      <g transform=\"translate(188.208056 160.398438) scale(0.1 -0.1)\">\n       <defs>\n        <path id=\"DejaVuSans-38\" d=\"M 2034 2216 \nQ 1584 2216 1326 1975 \nQ 1069 1734 1069 1313 \nQ 1069 891 1326 650 \nQ 1584 409 2034 409 \nQ 2484 409 2743 651 \nQ 3003 894 3003 1313 \nQ 3003 1734 2745 1975 \nQ 2488 2216 2034 2216 \nz\nM 1403 2484 \nQ 997 2584 770 2862 \nQ 544 3141 544 3541 \nQ 544 4100 942 4425 \nQ 1341 4750 2034 4750 \nQ 2731 4750 3128 4425 \nQ 3525 4100 3525 3541 \nQ 3525 3141 3298 2862 \nQ 3072 2584 2669 2484 \nQ 3125 2378 3379 2068 \nQ 3634 1759 3634 1313 \nQ 3634 634 3220 271 \nQ 2806 -91 2034 -91 \nQ 1263 -91 848 271 \nQ 434 634 434 1313 \nQ 434 1759 690 2068 \nQ 947 2378 1403 2484 \nz\nM 1172 3481 \nQ 1172 3119 1398 2916 \nQ 1625 2713 2034 2713 \nQ 2441 2713 2670 2916 \nQ 2900 3119 2900 3481 \nQ 2900 3844 2670 4047 \nQ 2441 4250 2034 4250 \nQ 1625 4250 1398 4047 \nQ 1172 3844 1172 3481 \nz\n\" transform=\"scale(0.015625)\"/>\n       </defs>\n       <use xlink:href=\"#DejaVuSans-38\"/>\n      </g>\n     </g>\n    </g>\n    <g id=\"xtick_6\">\n     <g id=\"line2d_6\">\n      <g>\n       <use xlink:href=\"#mf8499bf4ed\" x=\"227.623072\" y=\"145.8\" style=\"stroke: #000000; stroke-width: 0.8\"/>\n      </g>\n     </g>\n     <g id=\"text_6\">\n      <!-- 10 -->\n      <g transform=\"translate(221.260572 160.398438) scale(0.1 -0.1)\">\n       <defs>\n        <path id=\"DejaVuSans-31\" d=\"M 794 531 \nL 1825 531 \nL 1825 4091 \nL 703 3866 \nL 703 4441 \nL 1819 4666 \nL 2450 4666 \nL 2450 531 \nL 3481 531 \nL 3481 0 \nL 794 0 \nL 794 531 \nz\n\" transform=\"scale(0.015625)\"/>\n       </defs>\n       <use xlink:href=\"#DejaVuSans-31\"/>\n       <use xlink:href=\"#DejaVuSans-30\" x=\"63.623047\"/>\n      </g>\n     </g>\n    </g>\n    <g id=\"text_7\">\n     <!-- x -->\n     <g transform=\"translate(133.173438 174.076563) scale(0.1 -0.1)\">\n      <defs>\n       <path id=\"DejaVuSans-78\" d=\"M 3513 3500 \nL 2247 1797 \nL 3578 0 \nL 2900 0 \nL 1881 1375 \nL 863 0 \nL 184 0 \nL 1544 1831 \nL 300 3500 \nL 978 3500 \nL 1906 2253 \nL 2834 3500 \nL 3513 3500 \nz\n\" transform=\"scale(0.015625)\"/>\n      </defs>\n      <use xlink:href=\"#DejaVuSans-78\"/>\n     </g>\n    </g>\n   </g>\n   <g id=\"matplotlib.axis_2\">\n    <g id=\"ytick_1\">\n     <g id=\"line2d_7\">\n      <defs>\n       <path id=\"maad8d0d267\" d=\"M 0 0 \nL -3.5 0 \n\" style=\"stroke: #000000; stroke-width: 0.8\"/>\n      </defs>\n      <g>\n       <use xlink:href=\"#maad8d0d267\" x=\"38.482813\" y=\"139.701599\" style=\"stroke: #000000; stroke-width: 0.8\"/>\n      </g>\n     </g>\n     <g id=\"text_8\">\n      <!-- −1.0 -->\n      <g transform=\"translate(7.2 143.500818) scale(0.1 -0.1)\">\n       <defs>\n        <path id=\"DejaVuSans-2212\" d=\"M 678 2272 \nL 4684 2272 \nL 4684 1741 \nL 678 1741 \nL 678 2272 \nz\n\" transform=\"scale(0.015625)\"/>\n        <path id=\"DejaVuSans-2e\" d=\"M 684 794 \nL 1344 794 \nL 1344 0 \nL 684 0 \nL 684 794 \nz\n\" transform=\"scale(0.015625)\"/>\n       </defs>\n       <use xlink:href=\"#DejaVuSans-2212\"/>\n       <use xlink:href=\"#DejaVuSans-31\" x=\"83.789062\"/>\n       <use xlink:href=\"#DejaVuSans-2e\" x=\"147.412109\"/>\n       <use xlink:href=\"#DejaVuSans-30\" x=\"179.199219\"/>\n      </g>\n     </g>\n    </g>\n    <g id=\"ytick_2\">\n     <g id=\"line2d_8\">\n      <g>\n       <use xlink:href=\"#maad8d0d267\" x=\"38.482813\" y=\"108.131347\" style=\"stroke: #000000; stroke-width: 0.8\"/>\n      </g>\n     </g>\n     <g id=\"text_9\">\n      <!-- −0.5 -->\n      <g transform=\"translate(7.2 111.930566) scale(0.1 -0.1)\">\n       <defs>\n        <path id=\"DejaVuSans-35\" d=\"M 691 4666 \nL 3169 4666 \nL 3169 4134 \nL 1269 4134 \nL 1269 2991 \nQ 1406 3038 1543 3061 \nQ 1681 3084 1819 3084 \nQ 2600 3084 3056 2656 \nQ 3513 2228 3513 1497 \nQ 3513 744 3044 326 \nQ 2575 -91 1722 -91 \nQ 1428 -91 1123 -41 \nQ 819 9 494 109 \nL 494 744 \nQ 775 591 1075 516 \nQ 1375 441 1709 441 \nQ 2250 441 2565 725 \nQ 2881 1009 2881 1497 \nQ 2881 1984 2565 2268 \nQ 2250 2553 1709 2553 \nQ 1456 2553 1204 2497 \nQ 953 2441 691 2322 \nL 691 4666 \nz\n\" transform=\"scale(0.015625)\"/>\n       </defs>\n       <use xlink:href=\"#DejaVuSans-2212\"/>\n       <use xlink:href=\"#DejaVuSans-30\" x=\"83.789062\"/>\n       <use xlink:href=\"#DejaVuSans-2e\" x=\"147.412109\"/>\n       <use xlink:href=\"#DejaVuSans-35\" x=\"179.199219\"/>\n      </g>\n     </g>\n    </g>\n    <g id=\"ytick_3\">\n     <g id=\"line2d_9\">\n      <g>\n       <use xlink:href=\"#maad8d0d267\" x=\"38.482813\" y=\"76.561095\" style=\"stroke: #000000; stroke-width: 0.8\"/>\n      </g>\n     </g>\n     <g id=\"text_10\">\n      <!-- 0.0 -->\n      <g transform=\"translate(15.579688 80.360314) scale(0.1 -0.1)\">\n       <use xlink:href=\"#DejaVuSans-30\"/>\n       <use xlink:href=\"#DejaVuSans-2e\" x=\"63.623047\"/>\n       <use xlink:href=\"#DejaVuSans-30\" x=\"95.410156\"/>\n      </g>\n     </g>\n    </g>\n    <g id=\"ytick_4\">\n     <g id=\"line2d_10\">\n      <g>\n       <use xlink:href=\"#maad8d0d267\" x=\"38.482813\" y=\"44.990843\" style=\"stroke: #000000; stroke-width: 0.8\"/>\n      </g>\n     </g>\n     <g id=\"text_11\">\n      <!-- 0.5 -->\n      <g transform=\"translate(15.579688 48.790062) scale(0.1 -0.1)\">\n       <use xlink:href=\"#DejaVuSans-30\"/>\n       <use xlink:href=\"#DejaVuSans-2e\" x=\"63.623047\"/>\n       <use xlink:href=\"#DejaVuSans-35\" x=\"95.410156\"/>\n      </g>\n     </g>\n    </g>\n    <g id=\"ytick_5\">\n     <g id=\"line2d_11\">\n      <g>\n       <use xlink:href=\"#maad8d0d267\" x=\"38.482813\" y=\"13.420591\" style=\"stroke: #000000; stroke-width: 0.8\"/>\n      </g>\n     </g>\n     <g id=\"text_12\">\n      <!-- 1.0 -->\n      <g transform=\"translate(15.579688 17.21981) scale(0.1 -0.1)\">\n       <use xlink:href=\"#DejaVuSans-31\"/>\n       <use xlink:href=\"#DejaVuSans-2e\" x=\"63.623047\"/>\n       <use xlink:href=\"#DejaVuSans-30\" x=\"95.410156\"/>\n      </g>\n     </g>\n    </g>\n   </g>\n   <g id=\"line2d_12\">\n    <path d=\"M 47.360085 73.409329 \n\" clip-path=\"url(#pb052718c28)\" style=\"fill: none; stroke: #1f77b4; stroke-width: 1.5; stroke-linecap: square\"/>\n   </g>\n   <g id=\"line2d_13\"/>\n   <g id=\"line2d_14\">\n    <path d=\"M 47.360085 73.409329 \nL 50.983462 60.959407 \n\" clip-path=\"url(#pb052718c28)\" style=\"fill: none; stroke: #1f77b4; stroke-width: 1.5; stroke-linecap: square\"/>\n   </g>\n   <g id=\"line2d_15\"/>\n   <g id=\"line2d_16\">\n    <path d=\"M 47.360085 73.409329 \nL 50.983462 60.959407 \nL 54.606838 49.131475 \n\" clip-path=\"url(#pb052718c28)\" style=\"fill: none; stroke: #1f77b4; stroke-width: 1.5; stroke-linecap: square\"/>\n   </g>\n   <g id=\"line2d_17\"/>\n   <g id=\"line2d_18\">\n    <path d=\"M 47.360085 73.409329 \nL 50.983462 60.959407 \nL 54.606838 49.131475 \nL 58.230215 38.397075 \n\" clip-path=\"url(#pb052718c28)\" style=\"fill: none; stroke: #1f77b4; stroke-width: 1.5; stroke-linecap: square\"/>\n   </g>\n   <g id=\"line2d_19\"/>\n   <g id=\"line2d_20\">\n    <path d=\"M 47.360085 73.409329 \nL 50.983462 60.959407 \nL 54.606838 49.131475 \nL 58.230215 38.397075 \nL 61.853592 29.184154 \n\" clip-path=\"url(#pb052718c28)\" style=\"fill: none; stroke: #1f77b4; stroke-width: 1.5; stroke-linecap: square\"/>\n   </g>\n   <g id=\"line2d_21\"/>\n   <g id=\"line2d_22\">\n    <path d=\"M 47.360085 73.409329 \nL 50.983462 60.959407 \nL 54.606838 49.131475 \nL 58.230215 38.397075 \nL 61.853592 29.184154 \n\" clip-path=\"url(#pb052718c28)\" style=\"fill: none; stroke: #1f77b4; stroke-width: 1.5; stroke-linecap: square\"/>\n   </g>\n   <g id=\"line2d_23\">\n    <path d=\"M 54.606838 22.023199 \n\" clip-path=\"url(#pb052718c28)\" style=\"fill: none; stroke-dasharray: 5.55,2.4; stroke-dashoffset: 0; stroke: #ff7f0e; stroke-width: 1.5\"/>\n   </g>\n   <g id=\"line2d_24\">\n    <path d=\"M 47.360085 73.409329 \nL 50.983462 60.959407 \nL 54.606838 49.131475 \nL 58.230215 38.397075 \nL 61.853592 29.184154 \nL 65.476968 21.860003 \n\" clip-path=\"url(#pb052718c28)\" style=\"fill: none; stroke: #1f77b4; stroke-width: 1.5; stroke-linecap: square\"/>\n   </g>\n   <g id=\"line2d_25\">\n    <path d=\"M 54.606838 22.023199 \n\" clip-path=\"url(#pb052718c28)\" style=\"fill: none; stroke-dasharray: 5.55,2.4; stroke-dashoffset: 0; stroke: #ff7f0e; stroke-width: 1.5\"/>\n   </g>\n   <g id=\"line2d_26\">\n    <path d=\"M 47.360085 73.409329 \nL 50.983462 60.959407 \nL 54.606838 49.131475 \nL 58.230215 38.397075 \nL 61.853592 29.184154 \nL 65.476968 21.860003 \nL 69.100345 16.716611 \n\" clip-path=\"url(#pb052718c28)\" style=\"fill: none; stroke: #1f77b4; stroke-width: 1.5; stroke-linecap: square\"/>\n   </g>\n   <g id=\"line2d_27\">\n    <path d=\"M 54.606838 22.023199 \n\" clip-path=\"url(#pb052718c28)\" style=\"fill: none; stroke-dasharray: 5.55,2.4; stroke-dashoffset: 0; stroke: #ff7f0e; stroke-width: 1.5\"/>\n   </g>\n   <g id=\"line2d_28\">\n    <path d=\"M 47.360085 73.409329 \nL 50.983462 60.959407 \nL 54.606838 49.131475 \nL 58.230215 38.397075 \nL 61.853592 29.184154 \nL 65.476968 21.860003 \nL 69.100345 16.716611 \nL 72.723722 13.959031 \n\" clip-path=\"url(#pb052718c28)\" style=\"fill: none; stroke: #1f77b4; stroke-width: 1.5; stroke-linecap: square\"/>\n   </g>\n   <g id=\"line2d_29\">\n    <path d=\"M 54.606838 22.023199 \n\" clip-path=\"url(#pb052718c28)\" style=\"fill: none; stroke-dasharray: 5.55,2.4; stroke-dashoffset: 0; stroke: #ff7f0e; stroke-width: 1.5\"/>\n   </g>\n   <g id=\"line2d_30\">\n    <path d=\"M 47.360085 73.409329 \nL 50.983462 60.959407 \nL 54.606838 49.131475 \nL 58.230215 38.397075 \nL 61.853592 29.184154 \nL 65.476968 21.860003 \nL 69.100345 16.716611 \nL 72.723722 13.959031 \nL 76.347098 13.697196 \n\" clip-path=\"url(#pb052718c28)\" style=\"fill: none; stroke: #1f77b4; stroke-width: 1.5; stroke-linecap: square\"/>\n   </g>\n   <g id=\"line2d_31\">\n    <path d=\"M 54.606838 22.023199 \n\" clip-path=\"url(#pb052718c28)\" style=\"fill: none; stroke-dasharray: 5.55,2.4; stroke-dashoffset: 0; stroke: #ff7f0e; stroke-width: 1.5\"/>\n   </g>\n   <g id=\"line2d_32\">\n    <path d=\"M 47.360085 73.409329 \nL 50.983462 60.959407 \nL 54.606838 49.131475 \nL 58.230215 38.397075 \nL 61.853592 29.184154 \nL 65.476968 21.860003 \nL 69.100345 16.716611 \nL 72.723722 13.959031 \nL 76.347098 13.697196 \nL 79.970475 15.941548 \n\" clip-path=\"url(#pb052718c28)\" style=\"fill: none; stroke: #1f77b4; stroke-width: 1.5; stroke-linecap: square\"/>\n   </g>\n   <g id=\"line2d_33\">\n    <path d=\"M 54.606838 22.023199 \n\" clip-path=\"url(#pb052718c28)\" style=\"fill: none; stroke-dasharray: 5.55,2.4; stroke-dashoffset: 0; stroke: #ff7f0e; stroke-width: 1.5\"/>\n   </g>\n   <g id=\"line2d_34\">\n    <path d=\"M 47.360085 73.409329 \nL 50.983462 60.959407 \nL 54.606838 49.131475 \nL 58.230215 38.397075 \nL 61.853592 29.184154 \nL 65.476968 21.860003 \nL 69.100345 16.716611 \nL 72.723722 13.959031 \nL 76.347098 13.697196 \nL 79.970475 15.941548 \n\" clip-path=\"url(#pb052718c28)\" style=\"fill: none; stroke: #1f77b4; stroke-width: 1.5; stroke-linecap: square\"/>\n   </g>\n   <g id=\"line2d_35\">\n    <path d=\"M 54.606838 22.023199 \nL 72.723722 69.262535 \n\" clip-path=\"url(#pb052718c28)\" style=\"fill: none; stroke-dasharray: 5.55,2.4; stroke-dashoffset: 0; stroke: #ff7f0e; stroke-width: 1.5\"/>\n   </g>\n   <g id=\"line2d_36\">\n    <path d=\"M 47.360085 73.409329 \nL 50.983462 60.959407 \nL 54.606838 49.131475 \nL 58.230215 38.397075 \nL 61.853592 29.184154 \nL 65.476968 21.860003 \nL 69.100345 16.716611 \nL 72.723722 13.959031 \nL 76.347098 13.697196 \nL 79.970475 15.941548 \nL 83.593851 20.602609 \n\" clip-path=\"url(#pb052718c28)\" style=\"fill: none; stroke: #1f77b4; stroke-width: 1.5; stroke-linecap: square\"/>\n   </g>\n   <g id=\"line2d_37\">\n    <path d=\"M 54.606838 22.023199 \nL 72.723722 69.262535 \n\" clip-path=\"url(#pb052718c28)\" style=\"fill: none; stroke-dasharray: 5.55,2.4; stroke-dashoffset: 0; stroke: #ff7f0e; stroke-width: 1.5\"/>\n   </g>\n   <g id=\"line2d_38\">\n    <path d=\"M 47.360085 73.409329 \nL 50.983462 60.959407 \nL 54.606838 49.131475 \nL 58.230215 38.397075 \nL 61.853592 29.184154 \nL 65.476968 21.860003 \nL 69.100345 16.716611 \nL 72.723722 13.959031 \nL 76.347098 13.697196 \nL 79.970475 15.941548 \nL 83.593851 20.602609 \nL 87.217228 27.494558 \n\" clip-path=\"url(#pb052718c28)\" style=\"fill: none; stroke: #1f77b4; stroke-width: 1.5; stroke-linecap: square\"/>\n   </g>\n   <g id=\"line2d_39\">\n    <path d=\"M 54.606838 22.023199 \nL 72.723722 69.262535 \n\" clip-path=\"url(#pb052718c28)\" style=\"fill: none; stroke-dasharray: 5.55,2.4; stroke-dashoffset: 0; stroke: #ff7f0e; stroke-width: 1.5\"/>\n   </g>\n   <g id=\"line2d_40\">\n    <path d=\"M 47.360085 73.409329 \nL 50.983462 60.959407 \nL 54.606838 49.131475 \nL 58.230215 38.397075 \nL 61.853592 29.184154 \nL 65.476968 21.860003 \nL 69.100345 16.716611 \nL 72.723722 13.959031 \nL 76.347098 13.697196 \nL 79.970475 15.941548 \nL 83.593851 20.602609 \nL 87.217228 27.494558 \nL 90.840605 36.342636 \n\" clip-path=\"url(#pb052718c28)\" style=\"fill: none; stroke: #1f77b4; stroke-width: 1.5; stroke-linecap: square\"/>\n   </g>\n   <g id=\"line2d_41\">\n    <path d=\"M 54.606838 22.023199 \nL 72.723722 69.262535 \n\" clip-path=\"url(#pb052718c28)\" style=\"fill: none; stroke-dasharray: 5.55,2.4; stroke-dashoffset: 0; stroke: #ff7f0e; stroke-width: 1.5\"/>\n   </g>\n   <g id=\"line2d_42\">\n    <path d=\"M 47.360085 73.409329 \nL 50.983462 60.959407 \nL 54.606838 49.131475 \nL 58.230215 38.397075 \nL 61.853592 29.184154 \nL 65.476968 21.860003 \nL 69.100345 16.716611 \nL 72.723722 13.959031 \nL 76.347098 13.697196 \nL 79.970475 15.941548 \nL 83.593851 20.602609 \nL 87.217228 27.494558 \nL 90.840605 36.342636 \nL 94.463981 46.794096 \n\" clip-path=\"url(#pb052718c28)\" style=\"fill: none; stroke: #1f77b4; stroke-width: 1.5; stroke-linecap: square\"/>\n   </g>\n   <g id=\"line2d_43\">\n    <path d=\"M 54.606838 22.023199 \nL 72.723722 69.262535 \n\" clip-path=\"url(#pb052718c28)\" style=\"fill: none; stroke-dasharray: 5.55,2.4; stroke-dashoffset: 0; stroke: #ff7f0e; stroke-width: 1.5\"/>\n   </g>\n   <g id=\"line2d_44\">\n    <path d=\"M 47.360085 73.409329 \nL 50.983462 60.959407 \nL 54.606838 49.131475 \nL 58.230215 38.397075 \nL 61.853592 29.184154 \nL 65.476968 21.860003 \nL 69.100345 16.716611 \nL 72.723722 13.959031 \nL 76.347098 13.697196 \nL 79.970475 15.941548 \nL 83.593851 20.602609 \nL 87.217228 27.494558 \nL 90.840605 36.342636 \nL 94.463981 46.794096 \nL 98.087358 58.432273 \n\" clip-path=\"url(#pb052718c28)\" style=\"fill: none; stroke: #1f77b4; stroke-width: 1.5; stroke-linecap: square\"/>\n   </g>\n   <g id=\"line2d_45\">\n    <path d=\"M 54.606838 22.023199 \nL 72.723722 69.262535 \n\" clip-path=\"url(#pb052718c28)\" style=\"fill: none; stroke-dasharray: 5.55,2.4; stroke-dashoffset: 0; stroke: #ff7f0e; stroke-width: 1.5\"/>\n   </g>\n   <g id=\"line2d_46\">\n    <path d=\"M 47.360085 73.409329 \nL 50.983462 60.959407 \nL 54.606838 49.131475 \nL 58.230215 38.397075 \nL 61.853592 29.184154 \nL 65.476968 21.860003 \nL 69.100345 16.716611 \nL 72.723722 13.959031 \nL 76.347098 13.697196 \nL 79.970475 15.941548 \nL 83.593851 20.602609 \nL 87.217228 27.494558 \nL 90.840605 36.342636 \nL 94.463981 46.794096 \nL 98.087358 58.432273 \n\" clip-path=\"url(#pb052718c28)\" style=\"fill: none; stroke: #1f77b4; stroke-width: 1.5; stroke-linecap: square\"/>\n   </g>\n   <g id=\"line2d_47\">\n    <path d=\"M 54.606838 22.023199 \nL 72.723722 69.262535 \nL 90.840605 123.212134 \n\" clip-path=\"url(#pb052718c28)\" style=\"fill: none; stroke-dasharray: 5.55,2.4; stroke-dashoffset: 0; stroke: #ff7f0e; stroke-width: 1.5\"/>\n   </g>\n   <g id=\"line2d_48\">\n    <path d=\"M 47.360085 73.409329 \nL 50.983462 60.959407 \nL 54.606838 49.131475 \nL 58.230215 38.397075 \nL 61.853592 29.184154 \nL 65.476968 21.860003 \nL 69.100345 16.716611 \nL 72.723722 13.959031 \nL 76.347098 13.697196 \nL 79.970475 15.941548 \nL 83.593851 20.602609 \nL 87.217228 27.494558 \nL 90.840605 36.342636 \nL 94.463981 46.794096 \nL 98.087358 58.432273 \nL 101.710735 70.793189 \n\" clip-path=\"url(#pb052718c28)\" style=\"fill: none; stroke: #1f77b4; stroke-width: 1.5; stroke-linecap: square\"/>\n   </g>\n   <g id=\"line2d_49\">\n    <path d=\"M 54.606838 22.023199 \nL 72.723722 69.262535 \nL 90.840605 123.212134 \n\" clip-path=\"url(#pb052718c28)\" style=\"fill: none; stroke-dasharray: 5.55,2.4; stroke-dashoffset: 0; stroke: #ff7f0e; stroke-width: 1.5\"/>\n   </g>\n   <g id=\"line2d_50\">\n    <path d=\"M 47.360085 73.409329 \nL 50.983462 60.959407 \nL 54.606838 49.131475 \nL 58.230215 38.397075 \nL 61.853592 29.184154 \nL 65.476968 21.860003 \nL 69.100345 16.716611 \nL 72.723722 13.959031 \nL 76.347098 13.697196 \nL 79.970475 15.941548 \nL 83.593851 20.602609 \nL 87.217228 27.494558 \nL 90.840605 36.342636 \nL 94.463981 46.794096 \nL 98.087358 58.432273 \nL 101.710735 70.793189 \nL 105.334111 83.384053 \n\" clip-path=\"url(#pb052718c28)\" style=\"fill: none; stroke: #1f77b4; stroke-width: 1.5; stroke-linecap: square\"/>\n   </g>\n   <g id=\"line2d_51\">\n    <path d=\"M 54.606838 22.023199 \nL 72.723722 69.262535 \nL 90.840605 123.212134 \n\" clip-path=\"url(#pb052718c28)\" style=\"fill: none; stroke-dasharray: 5.55,2.4; stroke-dashoffset: 0; stroke: #ff7f0e; stroke-width: 1.5\"/>\n   </g>\n   <g id=\"line2d_52\">\n    <path d=\"M 47.360085 73.409329 \nL 50.983462 60.959407 \nL 54.606838 49.131475 \nL 58.230215 38.397075 \nL 61.853592 29.184154 \nL 65.476968 21.860003 \nL 69.100345 16.716611 \nL 72.723722 13.959031 \nL 76.347098 13.697196 \nL 79.970475 15.941548 \nL 83.593851 20.602609 \nL 87.217228 27.494558 \nL 90.840605 36.342636 \nL 94.463981 46.794096 \nL 98.087358 58.432273 \nL 101.710735 70.793189 \nL 105.334111 83.384053 \nL 108.957488 95.702907 \n\" clip-path=\"url(#pb052718c28)\" style=\"fill: none; stroke: #1f77b4; stroke-width: 1.5; stroke-linecap: square\"/>\n   </g>\n   <g id=\"line2d_53\">\n    <path d=\"M 54.606838 22.023199 \nL 72.723722 69.262535 \nL 90.840605 123.212134 \n\" clip-path=\"url(#pb052718c28)\" style=\"fill: none; stroke-dasharray: 5.55,2.4; stroke-dashoffset: 0; stroke: #ff7f0e; stroke-width: 1.5\"/>\n   </g>\n   <g id=\"line2d_54\">\n    <path d=\"M 47.360085 73.409329 \nL 50.983462 60.959407 \nL 54.606838 49.131475 \nL 58.230215 38.397075 \nL 61.853592 29.184154 \nL 65.476968 21.860003 \nL 69.100345 16.716611 \nL 72.723722 13.959031 \nL 76.347098 13.697196 \nL 79.970475 15.941548 \nL 83.593851 20.602609 \nL 87.217228 27.494558 \nL 90.840605 36.342636 \nL 94.463981 46.794096 \nL 98.087358 58.432273 \nL 101.710735 70.793189 \nL 105.334111 83.384053 \nL 108.957488 95.702907 \nL 112.580864 107.258638 \n\" clip-path=\"url(#pb052718c28)\" style=\"fill: none; stroke: #1f77b4; stroke-width: 1.5; stroke-linecap: square\"/>\n   </g>\n   <g id=\"line2d_55\">\n    <path d=\"M 54.606838 22.023199 \nL 72.723722 69.262535 \nL 90.840605 123.212134 \n\" clip-path=\"url(#pb052718c28)\" style=\"fill: none; stroke-dasharray: 5.55,2.4; stroke-dashoffset: 0; stroke: #ff7f0e; stroke-width: 1.5\"/>\n   </g>\n   <g id=\"line2d_56\">\n    <path d=\"M 47.360085 73.409329 \nL 50.983462 60.959407 \nL 54.606838 49.131475 \nL 58.230215 38.397075 \nL 61.853592 29.184154 \nL 65.476968 21.860003 \nL 69.100345 16.716611 \nL 72.723722 13.959031 \nL 76.347098 13.697196 \nL 79.970475 15.941548 \nL 83.593851 20.602609 \nL 87.217228 27.494558 \nL 90.840605 36.342636 \nL 94.463981 46.794096 \nL 98.087358 58.432273 \nL 101.710735 70.793189 \nL 105.334111 83.384053 \nL 108.957488 95.702907 \nL 112.580864 107.258638 \nL 116.204241 117.590554 \n\" clip-path=\"url(#pb052718c28)\" style=\"fill: none; stroke: #1f77b4; stroke-width: 1.5; stroke-linecap: square\"/>\n   </g>\n   <g id=\"line2d_57\">\n    <path d=\"M 54.606838 22.023199 \nL 72.723722 69.262535 \nL 90.840605 123.212134 \n\" clip-path=\"url(#pb052718c28)\" style=\"fill: none; stroke-dasharray: 5.55,2.4; stroke-dashoffset: 0; stroke: #ff7f0e; stroke-width: 1.5\"/>\n   </g>\n   <g id=\"line2d_58\">\n    <path d=\"M 47.360085 73.409329 \nL 50.983462 60.959407 \nL 54.606838 49.131475 \nL 58.230215 38.397075 \nL 61.853592 29.184154 \nL 65.476968 21.860003 \nL 69.100345 16.716611 \nL 72.723722 13.959031 \nL 76.347098 13.697196 \nL 79.970475 15.941548 \nL 83.593851 20.602609 \nL 87.217228 27.494558 \nL 90.840605 36.342636 \nL 94.463981 46.794096 \nL 98.087358 58.432273 \nL 101.710735 70.793189 \nL 105.334111 83.384053 \nL 108.957488 95.702907 \nL 112.580864 107.258638 \nL 116.204241 117.590554 \n\" clip-path=\"url(#pb052718c28)\" style=\"fill: none; stroke: #1f77b4; stroke-width: 1.5; stroke-linecap: square\"/>\n   </g>\n   <g id=\"line2d_59\">\n    <path d=\"M 54.606838 22.023199 \nL 72.723722 69.262535 \nL 90.840605 123.212134 \nL 108.957488 134.270983 \n\" clip-path=\"url(#pb052718c28)\" style=\"fill: none; stroke-dasharray: 5.55,2.4; stroke-dashoffset: 0; stroke: #ff7f0e; stroke-width: 1.5\"/>\n   </g>\n   <g id=\"line2d_60\">\n    <path d=\"M 47.360085 73.409329 \nL 50.983462 60.959407 \nL 54.606838 49.131475 \nL 58.230215 38.397075 \nL 61.853592 29.184154 \nL 65.476968 21.860003 \nL 69.100345 16.716611 \nL 72.723722 13.959031 \nL 76.347098 13.697196 \nL 79.970475 15.941548 \nL 83.593851 20.602609 \nL 87.217228 27.494558 \nL 90.840605 36.342636 \nL 94.463981 46.794096 \nL 98.087358 58.432273 \nL 101.710735 70.793189 \nL 105.334111 83.384053 \nL 108.957488 95.702907 \nL 112.580864 107.258638 \nL 116.204241 117.590554 \nL 119.827618 126.286755 \n\" clip-path=\"url(#pb052718c28)\" style=\"fill: none; stroke: #1f77b4; stroke-width: 1.5; stroke-linecap: square\"/>\n   </g>\n   <g id=\"line2d_61\">\n    <path d=\"M 54.606838 22.023199 \nL 72.723722 69.262535 \nL 90.840605 123.212134 \nL 108.957488 134.270983 \n\" clip-path=\"url(#pb052718c28)\" style=\"fill: none; stroke-dasharray: 5.55,2.4; stroke-dashoffset: 0; stroke: #ff7f0e; stroke-width: 1.5\"/>\n   </g>\n   <g id=\"line2d_62\">\n    <path d=\"M 47.360085 73.409329 \nL 50.983462 60.959407 \nL 54.606838 49.131475 \nL 58.230215 38.397075 \nL 61.853592 29.184154 \nL 65.476968 21.860003 \nL 69.100345 16.716611 \nL 72.723722 13.959031 \nL 76.347098 13.697196 \nL 79.970475 15.941548 \nL 83.593851 20.602609 \nL 87.217228 27.494558 \nL 90.840605 36.342636 \nL 94.463981 46.794096 \nL 98.087358 58.432273 \nL 101.710735 70.793189 \nL 105.334111 83.384053 \nL 108.957488 95.702907 \nL 112.580864 107.258638 \nL 116.204241 117.590554 \nL 119.827618 126.286755 \nL 123.450994 133.000552 \n\" clip-path=\"url(#pb052718c28)\" style=\"fill: none; stroke: #1f77b4; stroke-width: 1.5; stroke-linecap: square\"/>\n   </g>\n   <g id=\"line2d_63\">\n    <path d=\"M 54.606838 22.023199 \nL 72.723722 69.262535 \nL 90.840605 123.212134 \nL 108.957488 134.270983 \n\" clip-path=\"url(#pb052718c28)\" style=\"fill: none; stroke-dasharray: 5.55,2.4; stroke-dashoffset: 0; stroke: #ff7f0e; stroke-width: 1.5\"/>\n   </g>\n   <g id=\"line2d_64\">\n    <path d=\"M 47.360085 73.409329 \nL 50.983462 60.959407 \nL 54.606838 49.131475 \nL 58.230215 38.397075 \nL 61.853592 29.184154 \nL 65.476968 21.860003 \nL 69.100345 16.716611 \nL 72.723722 13.959031 \nL 76.347098 13.697196 \nL 79.970475 15.941548 \nL 83.593851 20.602609 \nL 87.217228 27.494558 \nL 90.840605 36.342636 \nL 94.463981 46.794096 \nL 98.087358 58.432273 \nL 101.710735 70.793189 \nL 105.334111 83.384053 \nL 108.957488 95.702907 \nL 112.580864 107.258638 \nL 116.204241 117.590554 \nL 119.827618 126.286755 \nL 123.450994 133.000552 \nL 127.074371 137.464285 \n\" clip-path=\"url(#pb052718c28)\" style=\"fill: none; stroke: #1f77b4; stroke-width: 1.5; stroke-linecap: square\"/>\n   </g>\n   <g id=\"line2d_65\">\n    <path d=\"M 54.606838 22.023199 \nL 72.723722 69.262535 \nL 90.840605 123.212134 \nL 108.957488 134.270983 \n\" clip-path=\"url(#pb052718c28)\" style=\"fill: none; stroke-dasharray: 5.55,2.4; stroke-dashoffset: 0; stroke: #ff7f0e; stroke-width: 1.5\"/>\n   </g>\n   <g id=\"line2d_66\">\n    <path d=\"M 47.360085 73.409329 \nL 50.983462 60.959407 \nL 54.606838 49.131475 \nL 58.230215 38.397075 \nL 61.853592 29.184154 \nL 65.476968 21.860003 \nL 69.100345 16.716611 \nL 72.723722 13.959031 \nL 76.347098 13.697196 \nL 79.970475 15.941548 \nL 83.593851 20.602609 \nL 87.217228 27.494558 \nL 90.840605 36.342636 \nL 94.463981 46.794096 \nL 98.087358 58.432273 \nL 101.710735 70.793189 \nL 105.334111 83.384053 \nL 108.957488 95.702907 \nL 112.580864 107.258638 \nL 116.204241 117.590554 \nL 119.827618 126.286755 \nL 123.450994 133.000552 \nL 127.074371 137.464285 \nL 130.697748 139.5 \n\" clip-path=\"url(#pb052718c28)\" style=\"fill: none; stroke: #1f77b4; stroke-width: 1.5; stroke-linecap: square\"/>\n   </g>\n   <g id=\"line2d_67\">\n    <path d=\"M 54.606838 22.023199 \nL 72.723722 69.262535 \nL 90.840605 123.212134 \nL 108.957488 134.270983 \n\" clip-path=\"url(#pb052718c28)\" style=\"fill: none; stroke-dasharray: 5.55,2.4; stroke-dashoffset: 0; stroke: #ff7f0e; stroke-width: 1.5\"/>\n   </g>\n   <g id=\"line2d_68\">\n    <path d=\"M 47.360085 73.409329 \nL 50.983462 60.959407 \nL 54.606838 49.131475 \nL 58.230215 38.397075 \nL 61.853592 29.184154 \nL 65.476968 21.860003 \nL 69.100345 16.716611 \nL 72.723722 13.959031 \nL 76.347098 13.697196 \nL 79.970475 15.941548 \nL 83.593851 20.602609 \nL 87.217228 27.494558 \nL 90.840605 36.342636 \nL 94.463981 46.794096 \nL 98.087358 58.432273 \nL 101.710735 70.793189 \nL 105.334111 83.384053 \nL 108.957488 95.702907 \nL 112.580864 107.258638 \nL 116.204241 117.590554 \nL 119.827618 126.286755 \nL 123.450994 133.000552 \nL 127.074371 137.464285 \nL 130.697748 139.5 \nL 134.321124 139.02654 \n\" clip-path=\"url(#pb052718c28)\" style=\"fill: none; stroke: #1f77b4; stroke-width: 1.5; stroke-linecap: square\"/>\n   </g>\n   <g id=\"line2d_69\">\n    <path d=\"M 54.606838 22.023199 \nL 72.723722 69.262535 \nL 90.840605 123.212134 \nL 108.957488 134.270983 \n\" clip-path=\"url(#pb052718c28)\" style=\"fill: none; stroke-dasharray: 5.55,2.4; stroke-dashoffset: 0; stroke: #ff7f0e; stroke-width: 1.5\"/>\n   </g>\n   <g id=\"line2d_70\">\n    <path d=\"M 47.360085 73.409329 \nL 50.983462 60.959407 \nL 54.606838 49.131475 \nL 58.230215 38.397075 \nL 61.853592 29.184154 \nL 65.476968 21.860003 \nL 69.100345 16.716611 \nL 72.723722 13.959031 \nL 76.347098 13.697196 \nL 79.970475 15.941548 \nL 83.593851 20.602609 \nL 87.217228 27.494558 \nL 90.840605 36.342636 \nL 94.463981 46.794096 \nL 98.087358 58.432273 \nL 101.710735 70.793189 \nL 105.334111 83.384053 \nL 108.957488 95.702907 \nL 112.580864 107.258638 \nL 116.204241 117.590554 \nL 119.827618 126.286755 \nL 123.450994 133.000552 \nL 127.074371 137.464285 \nL 130.697748 139.5 \nL 134.321124 139.02654 \n\" clip-path=\"url(#pb052718c28)\" style=\"fill: none; stroke: #1f77b4; stroke-width: 1.5; stroke-linecap: square\"/>\n   </g>\n   <g id=\"line2d_71\">\n    <path d=\"M 54.606838 22.023199 \nL 72.723722 69.262535 \nL 90.840605 123.212134 \nL 108.957488 134.270983 \nL 127.074371 92.271627 \n\" clip-path=\"url(#pb052718c28)\" style=\"fill: none; stroke-dasharray: 5.55,2.4; stroke-dashoffset: 0; stroke: #ff7f0e; stroke-width: 1.5\"/>\n   </g>\n   <g id=\"line2d_72\">\n    <path d=\"M 47.360085 73.409329 \nL 50.983462 60.959407 \nL 54.606838 49.131475 \nL 58.230215 38.397075 \nL 61.853592 29.184154 \nL 65.476968 21.860003 \nL 69.100345 16.716611 \nL 72.723722 13.959031 \nL 76.347098 13.697196 \nL 79.970475 15.941548 \nL 83.593851 20.602609 \nL 87.217228 27.494558 \nL 90.840605 36.342636 \nL 94.463981 46.794096 \nL 98.087358 58.432273 \nL 101.710735 70.793189 \nL 105.334111 83.384053 \nL 108.957488 95.702907 \nL 112.580864 107.258638 \nL 116.204241 117.590554 \nL 119.827618 126.286755 \nL 123.450994 133.000552 \nL 127.074371 137.464285 \nL 130.697748 139.5 \nL 134.321124 139.02654 \nL 137.944501 136.062779 \n\" clip-path=\"url(#pb052718c28)\" style=\"fill: none; stroke: #1f77b4; stroke-width: 1.5; stroke-linecap: square\"/>\n   </g>\n   <g id=\"line2d_73\">\n    <path d=\"M 54.606838 22.023199 \nL 72.723722 69.262535 \nL 90.840605 123.212134 \nL 108.957488 134.270983 \nL 127.074371 92.271627 \n\" clip-path=\"url(#pb052718c28)\" style=\"fill: none; stroke-dasharray: 5.55,2.4; stroke-dashoffset: 0; stroke: #ff7f0e; stroke-width: 1.5\"/>\n   </g>\n   <g id=\"line2d_74\">\n    <path d=\"M 47.360085 73.409329 \nL 50.983462 60.959407 \nL 54.606838 49.131475 \nL 58.230215 38.397075 \nL 61.853592 29.184154 \nL 65.476968 21.860003 \nL 69.100345 16.716611 \nL 72.723722 13.959031 \nL 76.347098 13.697196 \nL 79.970475 15.941548 \nL 83.593851 20.602609 \nL 87.217228 27.494558 \nL 90.840605 36.342636 \nL 94.463981 46.794096 \nL 98.087358 58.432273 \nL 101.710735 70.793189 \nL 105.334111 83.384053 \nL 108.957488 95.702907 \nL 112.580864 107.258638 \nL 116.204241 117.590554 \nL 119.827618 126.286755 \nL 123.450994 133.000552 \nL 127.074371 137.464285 \nL 130.697748 139.5 \nL 134.321124 139.02654 \nL 137.944501 136.062779 \nL 141.567877 130.726874 \n\" clip-path=\"url(#pb052718c28)\" style=\"fill: none; stroke: #1f77b4; stroke-width: 1.5; stroke-linecap: square\"/>\n   </g>\n   <g id=\"line2d_75\">\n    <path d=\"M 54.606838 22.023199 \nL 72.723722 69.262535 \nL 90.840605 123.212134 \nL 108.957488 134.270983 \nL 127.074371 92.271627 \n\" clip-path=\"url(#pb052718c28)\" style=\"fill: none; stroke-dasharray: 5.55,2.4; stroke-dashoffset: 0; stroke: #ff7f0e; stroke-width: 1.5\"/>\n   </g>\n   <g id=\"line2d_76\">\n    <path d=\"M 47.360085 73.409329 \nL 50.983462 60.959407 \nL 54.606838 49.131475 \nL 58.230215 38.397075 \nL 61.853592 29.184154 \nL 65.476968 21.860003 \nL 69.100345 16.716611 \nL 72.723722 13.959031 \nL 76.347098 13.697196 \nL 79.970475 15.941548 \nL 83.593851 20.602609 \nL 87.217228 27.494558 \nL 90.840605 36.342636 \nL 94.463981 46.794096 \nL 98.087358 58.432273 \nL 101.710735 70.793189 \nL 105.334111 83.384053 \nL 108.957488 95.702907 \nL 112.580864 107.258638 \nL 116.204241 117.590554 \nL 119.827618 126.286755 \nL 123.450994 133.000552 \nL 127.074371 137.464285 \nL 130.697748 139.5 \nL 134.321124 139.02654 \nL 137.944501 136.062779 \nL 141.567877 130.726874 \nL 145.191254 123.231551 \n\" clip-path=\"url(#pb052718c28)\" style=\"fill: none; stroke: #1f77b4; stroke-width: 1.5; stroke-linecap: square\"/>\n   </g>\n   <g id=\"line2d_77\">\n    <path d=\"M 54.606838 22.023199 \nL 72.723722 69.262535 \nL 90.840605 123.212134 \nL 108.957488 134.270983 \nL 127.074371 92.271627 \n\" clip-path=\"url(#pb052718c28)\" style=\"fill: none; stroke-dasharray: 5.55,2.4; stroke-dashoffset: 0; stroke: #ff7f0e; stroke-width: 1.5\"/>\n   </g>\n   <g id=\"line2d_78\">\n    <path d=\"M 47.360085 73.409329 \nL 50.983462 60.959407 \nL 54.606838 49.131475 \nL 58.230215 38.397075 \nL 61.853592 29.184154 \nL 65.476968 21.860003 \nL 69.100345 16.716611 \nL 72.723722 13.959031 \nL 76.347098 13.697196 \nL 79.970475 15.941548 \nL 83.593851 20.602609 \nL 87.217228 27.494558 \nL 90.840605 36.342636 \nL 94.463981 46.794096 \nL 98.087358 58.432273 \nL 101.710735 70.793189 \nL 105.334111 83.384053 \nL 108.957488 95.702907 \nL 112.580864 107.258638 \nL 116.204241 117.590554 \nL 119.827618 126.286755 \nL 123.450994 133.000552 \nL 127.074371 137.464285 \nL 130.697748 139.5 \nL 134.321124 139.02654 \nL 137.944501 136.062779 \nL 141.567877 130.726874 \nL 145.191254 123.231551 \nL 148.814631 113.875623 \n\" clip-path=\"url(#pb052718c28)\" style=\"fill: none; stroke: #1f77b4; stroke-width: 1.5; stroke-linecap: square\"/>\n   </g>\n   <g id=\"line2d_79\">\n    <path d=\"M 54.606838 22.023199 \nL 72.723722 69.262535 \nL 90.840605 123.212134 \nL 108.957488 134.270983 \nL 127.074371 92.271627 \n\" clip-path=\"url(#pb052718c28)\" style=\"fill: none; stroke-dasharray: 5.55,2.4; stroke-dashoffset: 0; stroke: #ff7f0e; stroke-width: 1.5\"/>\n   </g>\n   <g id=\"line2d_80\">\n    <path d=\"M 47.360085 73.409329 \nL 50.983462 60.959407 \nL 54.606838 49.131475 \nL 58.230215 38.397075 \nL 61.853592 29.184154 \nL 65.476968 21.860003 \nL 69.100345 16.716611 \nL 72.723722 13.959031 \nL 76.347098 13.697196 \nL 79.970475 15.941548 \nL 83.593851 20.602609 \nL 87.217228 27.494558 \nL 90.840605 36.342636 \nL 94.463981 46.794096 \nL 98.087358 58.432273 \nL 101.710735 70.793189 \nL 105.334111 83.384053 \nL 108.957488 95.702907 \nL 112.580864 107.258638 \nL 116.204241 117.590554 \nL 119.827618 126.286755 \nL 123.450994 133.000552 \nL 127.074371 137.464285 \nL 130.697748 139.5 \nL 134.321124 139.02654 \nL 137.944501 136.062779 \nL 141.567877 130.726874 \nL 145.191254 123.231551 \nL 148.814631 113.875623 \nL 152.438007 103.032084 \n\" clip-path=\"url(#pb052718c28)\" style=\"fill: none; stroke: #1f77b4; stroke-width: 1.5; stroke-linecap: square\"/>\n   </g>\n   <g id=\"line2d_81\">\n    <path d=\"M 54.606838 22.023199 \nL 72.723722 69.262535 \nL 90.840605 123.212134 \nL 108.957488 134.270983 \nL 127.074371 92.271627 \n\" clip-path=\"url(#pb052718c28)\" style=\"fill: none; stroke-dasharray: 5.55,2.4; stroke-dashoffset: 0; stroke: #ff7f0e; stroke-width: 1.5\"/>\n   </g>\n   <g id=\"line2d_82\">\n    <path d=\"M 47.360085 73.409329 \nL 50.983462 60.959407 \nL 54.606838 49.131475 \nL 58.230215 38.397075 \nL 61.853592 29.184154 \nL 65.476968 21.860003 \nL 69.100345 16.716611 \nL 72.723722 13.959031 \nL 76.347098 13.697196 \nL 79.970475 15.941548 \nL 83.593851 20.602609 \nL 87.217228 27.494558 \nL 90.840605 36.342636 \nL 94.463981 46.794096 \nL 98.087358 58.432273 \nL 101.710735 70.793189 \nL 105.334111 83.384053 \nL 108.957488 95.702907 \nL 112.580864 107.258638 \nL 116.204241 117.590554 \nL 119.827618 126.286755 \nL 123.450994 133.000552 \nL 127.074371 137.464285 \nL 130.697748 139.5 \nL 134.321124 139.02654 \nL 137.944501 136.062779 \nL 141.567877 130.726874 \nL 145.191254 123.231551 \nL 148.814631 113.875623 \nL 152.438007 103.032084 \n\" clip-path=\"url(#pb052718c28)\" style=\"fill: none; stroke: #1f77b4; stroke-width: 1.5; stroke-linecap: square\"/>\n   </g>\n   <g id=\"line2d_83\">\n    <path d=\"M 54.606838 22.023199 \nL 72.723722 69.262535 \nL 90.840605 123.212134 \nL 108.957488 134.270983 \nL 127.074371 92.271627 \nL 145.191254 35.828081 \n\" clip-path=\"url(#pb052718c28)\" style=\"fill: none; stroke-dasharray: 5.55,2.4; stroke-dashoffset: 0; stroke: #ff7f0e; stroke-width: 1.5\"/>\n   </g>\n   <g id=\"line2d_84\">\n    <path d=\"M 47.360085 73.409329 \nL 50.983462 60.959407 \nL 54.606838 49.131475 \nL 58.230215 38.397075 \nL 61.853592 29.184154 \nL 65.476968 21.860003 \nL 69.100345 16.716611 \nL 72.723722 13.959031 \nL 76.347098 13.697196 \nL 79.970475 15.941548 \nL 83.593851 20.602609 \nL 87.217228 27.494558 \nL 90.840605 36.342636 \nL 94.463981 46.794096 \nL 98.087358 58.432273 \nL 101.710735 70.793189 \nL 105.334111 83.384053 \nL 108.957488 95.702907 \nL 112.580864 107.258638 \nL 116.204241 117.590554 \nL 119.827618 126.286755 \nL 123.450994 133.000552 \nL 127.074371 137.464285 \nL 130.697748 139.5 \nL 134.321124 139.02654 \nL 137.944501 136.062779 \nL 141.567877 130.726874 \nL 145.191254 123.231551 \nL 148.814631 113.875623 \nL 152.438007 103.032084 \nL 156.061384 91.133229 \n\" clip-path=\"url(#pb052718c28)\" style=\"fill: none; stroke: #1f77b4; stroke-width: 1.5; stroke-linecap: square\"/>\n   </g>\n   <g id=\"line2d_85\">\n    <path d=\"M 54.606838 22.023199 \nL 72.723722 69.262535 \nL 90.840605 123.212134 \nL 108.957488 134.270983 \nL 127.074371 92.271627 \nL 145.191254 35.828081 \n\" clip-path=\"url(#pb052718c28)\" style=\"fill: none; stroke-dasharray: 5.55,2.4; stroke-dashoffset: 0; stroke: #ff7f0e; stroke-width: 1.5\"/>\n   </g>\n   <g id=\"line2d_86\">\n    <path d=\"M 47.360085 73.409329 \nL 50.983462 60.959407 \nL 54.606838 49.131475 \nL 58.230215 38.397075 \nL 61.853592 29.184154 \nL 65.476968 21.860003 \nL 69.100345 16.716611 \nL 72.723722 13.959031 \nL 76.347098 13.697196 \nL 79.970475 15.941548 \nL 83.593851 20.602609 \nL 87.217228 27.494558 \nL 90.840605 36.342636 \nL 94.463981 46.794096 \nL 98.087358 58.432273 \nL 101.710735 70.793189 \nL 105.334111 83.384053 \nL 108.957488 95.702907 \nL 112.580864 107.258638 \nL 116.204241 117.590554 \nL 119.827618 126.286755 \nL 123.450994 133.000552 \nL 127.074371 137.464285 \nL 130.697748 139.5 \nL 134.321124 139.02654 \nL 137.944501 136.062779 \nL 141.567877 130.726874 \nL 145.191254 123.231551 \nL 148.814631 113.875623 \nL 152.438007 103.032084 \nL 156.061384 91.133229 \nL 159.684761 78.653429 \n\" clip-path=\"url(#pb052718c28)\" style=\"fill: none; stroke: #1f77b4; stroke-width: 1.5; stroke-linecap: square\"/>\n   </g>\n   <g id=\"line2d_87\">\n    <path d=\"M 54.606838 22.023199 \nL 72.723722 69.262535 \nL 90.840605 123.212134 \nL 108.957488 134.270983 \nL 127.074371 92.271627 \nL 145.191254 35.828081 \n\" clip-path=\"url(#pb052718c28)\" style=\"fill: none; stroke-dasharray: 5.55,2.4; stroke-dashoffset: 0; stroke: #ff7f0e; stroke-width: 1.5\"/>\n   </g>\n   <g id=\"line2d_88\">\n    <path d=\"M 47.360085 73.409329 \nL 50.983462 60.959407 \nL 54.606838 49.131475 \nL 58.230215 38.397075 \nL 61.853592 29.184154 \nL 65.476968 21.860003 \nL 69.100345 16.716611 \nL 72.723722 13.959031 \nL 76.347098 13.697196 \nL 79.970475 15.941548 \nL 83.593851 20.602609 \nL 87.217228 27.494558 \nL 90.840605 36.342636 \nL 94.463981 46.794096 \nL 98.087358 58.432273 \nL 101.710735 70.793189 \nL 105.334111 83.384053 \nL 108.957488 95.702907 \nL 112.580864 107.258638 \nL 116.204241 117.590554 \nL 119.827618 126.286755 \nL 123.450994 133.000552 \nL 127.074371 137.464285 \nL 130.697748 139.5 \nL 134.321124 139.02654 \nL 137.944501 136.062779 \nL 141.567877 130.726874 \nL 145.191254 123.231551 \nL 148.814631 113.875623 \nL 152.438007 103.032084 \nL 156.061384 91.133229 \nL 159.684761 78.653429 \nL 163.308137 66.090215 \n\" clip-path=\"url(#pb052718c28)\" style=\"fill: none; stroke: #1f77b4; stroke-width: 1.5; stroke-linecap: square\"/>\n   </g>\n   <g id=\"line2d_89\">\n    <path d=\"M 54.606838 22.023199 \nL 72.723722 69.262535 \nL 90.840605 123.212134 \nL 108.957488 134.270983 \nL 127.074371 92.271627 \nL 145.191254 35.828081 \n\" clip-path=\"url(#pb052718c28)\" style=\"fill: none; stroke-dasharray: 5.55,2.4; stroke-dashoffset: 0; stroke: #ff7f0e; stroke-width: 1.5\"/>\n   </g>\n   <g id=\"line2d_90\">\n    <path d=\"M 47.360085 73.409329 \nL 50.983462 60.959407 \nL 54.606838 49.131475 \nL 58.230215 38.397075 \nL 61.853592 29.184154 \nL 65.476968 21.860003 \nL 69.100345 16.716611 \nL 72.723722 13.959031 \nL 76.347098 13.697196 \nL 79.970475 15.941548 \nL 83.593851 20.602609 \nL 87.217228 27.494558 \nL 90.840605 36.342636 \nL 94.463981 46.794096 \nL 98.087358 58.432273 \nL 101.710735 70.793189 \nL 105.334111 83.384053 \nL 108.957488 95.702907 \nL 112.580864 107.258638 \nL 116.204241 117.590554 \nL 119.827618 126.286755 \nL 123.450994 133.000552 \nL 127.074371 137.464285 \nL 130.697748 139.5 \nL 134.321124 139.02654 \nL 137.944501 136.062779 \nL 141.567877 130.726874 \nL 145.191254 123.231551 \nL 148.814631 113.875623 \nL 152.438007 103.032084 \nL 156.061384 91.133229 \nL 159.684761 78.653429 \nL 163.308137 66.090215 \nL 166.931514 53.944442 \n\" clip-path=\"url(#pb052718c28)\" style=\"fill: none; stroke: #1f77b4; stroke-width: 1.5; stroke-linecap: square\"/>\n   </g>\n   <g id=\"line2d_91\">\n    <path d=\"M 54.606838 22.023199 \nL 72.723722 69.262535 \nL 90.840605 123.212134 \nL 108.957488 134.270983 \nL 127.074371 92.271627 \nL 145.191254 35.828081 \n\" clip-path=\"url(#pb052718c28)\" style=\"fill: none; stroke-dasharray: 5.55,2.4; stroke-dashoffset: 0; stroke: #ff7f0e; stroke-width: 1.5\"/>\n   </g>\n   <g id=\"line2d_92\">\n    <path d=\"M 47.360085 73.409329 \nL 50.983462 60.959407 \nL 54.606838 49.131475 \nL 58.230215 38.397075 \nL 61.853592 29.184154 \nL 65.476968 21.860003 \nL 69.100345 16.716611 \nL 72.723722 13.959031 \nL 76.347098 13.697196 \nL 79.970475 15.941548 \nL 83.593851 20.602609 \nL 87.217228 27.494558 \nL 90.840605 36.342636 \nL 94.463981 46.794096 \nL 98.087358 58.432273 \nL 101.710735 70.793189 \nL 105.334111 83.384053 \nL 108.957488 95.702907 \nL 112.580864 107.258638 \nL 116.204241 117.590554 \nL 119.827618 126.286755 \nL 123.450994 133.000552 \nL 127.074371 137.464285 \nL 130.697748 139.5 \nL 134.321124 139.02654 \nL 137.944501 136.062779 \nL 141.567877 130.726874 \nL 145.191254 123.231551 \nL 148.814631 113.875623 \nL 152.438007 103.032084 \nL 156.061384 91.133229 \nL 159.684761 78.653429 \nL 163.308137 66.090215 \nL 166.931514 53.944442 \nL 170.55489 42.700323 \n\" clip-path=\"url(#pb052718c28)\" style=\"fill: none; stroke: #1f77b4; stroke-width: 1.5; stroke-linecap: square\"/>\n   </g>\n   <g id=\"line2d_93\">\n    <path d=\"M 54.606838 22.023199 \nL 72.723722 69.262535 \nL 90.840605 123.212134 \nL 108.957488 134.270983 \nL 127.074371 92.271627 \nL 145.191254 35.828081 \n\" clip-path=\"url(#pb052718c28)\" style=\"fill: none; stroke-dasharray: 5.55,2.4; stroke-dashoffset: 0; stroke: #ff7f0e; stroke-width: 1.5\"/>\n   </g>\n   <g id=\"line2d_94\">\n    <path d=\"M 47.360085 73.409329 \nL 50.983462 60.959407 \nL 54.606838 49.131475 \nL 58.230215 38.397075 \nL 61.853592 29.184154 \nL 65.476968 21.860003 \nL 69.100345 16.716611 \nL 72.723722 13.959031 \nL 76.347098 13.697196 \nL 79.970475 15.941548 \nL 83.593851 20.602609 \nL 87.217228 27.494558 \nL 90.840605 36.342636 \nL 94.463981 46.794096 \nL 98.087358 58.432273 \nL 101.710735 70.793189 \nL 105.334111 83.384053 \nL 108.957488 95.702907 \nL 112.580864 107.258638 \nL 116.204241 117.590554 \nL 119.827618 126.286755 \nL 123.450994 133.000552 \nL 127.074371 137.464285 \nL 130.697748 139.5 \nL 134.321124 139.02654 \nL 137.944501 136.062779 \nL 141.567877 130.726874 \nL 145.191254 123.231551 \nL 148.814631 113.875623 \nL 152.438007 103.032084 \nL 156.061384 91.133229 \nL 159.684761 78.653429 \nL 163.308137 66.090215 \nL 166.931514 53.944442 \nL 170.55489 42.700323 \n\" clip-path=\"url(#pb052718c28)\" style=\"fill: none; stroke: #1f77b4; stroke-width: 1.5; stroke-linecap: square\"/>\n   </g>\n   <g id=\"line2d_95\">\n    <path d=\"M 54.606838 22.023199 \nL 72.723722 69.262535 \nL 90.840605 123.212134 \nL 108.957488 134.270983 \nL 127.074371 92.271627 \nL 145.191254 35.828081 \nL 163.308137 16.83428 \n\" clip-path=\"url(#pb052718c28)\" style=\"fill: none; stroke-dasharray: 5.55,2.4; stroke-dashoffset: 0; stroke: #ff7f0e; stroke-width: 1.5\"/>\n   </g>\n   <g id=\"line2d_96\">\n    <path d=\"M 47.360085 73.409329 \nL 50.983462 60.959407 \nL 54.606838 49.131475 \nL 58.230215 38.397075 \nL 61.853592 29.184154 \nL 65.476968 21.860003 \nL 69.100345 16.716611 \nL 72.723722 13.959031 \nL 76.347098 13.697196 \nL 79.970475 15.941548 \nL 83.593851 20.602609 \nL 87.217228 27.494558 \nL 90.840605 36.342636 \nL 94.463981 46.794096 \nL 98.087358 58.432273 \nL 101.710735 70.793189 \nL 105.334111 83.384053 \nL 108.957488 95.702907 \nL 112.580864 107.258638 \nL 116.204241 117.590554 \nL 119.827618 126.286755 \nL 123.450994 133.000552 \nL 127.074371 137.464285 \nL 130.697748 139.5 \nL 134.321124 139.02654 \nL 137.944501 136.062779 \nL 141.567877 130.726874 \nL 145.191254 123.231551 \nL 148.814631 113.875623 \nL 152.438007 103.032084 \nL 156.061384 91.133229 \nL 159.684761 78.653429 \nL 163.308137 66.090215 \nL 166.931514 53.944442 \nL 170.55489 42.700323 \nL 174.178267 32.806126 \n\" clip-path=\"url(#pb052718c28)\" style=\"fill: none; stroke: #1f77b4; stroke-width: 1.5; stroke-linecap: square\"/>\n   </g>\n   <g id=\"line2d_97\">\n    <path d=\"M 54.606838 22.023199 \nL 72.723722 69.262535 \nL 90.840605 123.212134 \nL 108.957488 134.270983 \nL 127.074371 92.271627 \nL 145.191254 35.828081 \nL 163.308137 16.83428 \n\" clip-path=\"url(#pb052718c28)\" style=\"fill: none; stroke-dasharray: 5.55,2.4; stroke-dashoffset: 0; stroke: #ff7f0e; stroke-width: 1.5\"/>\n   </g>\n   <g id=\"line2d_98\">\n    <path d=\"M 47.360085 73.409329 \nL 50.983462 60.959407 \nL 54.606838 49.131475 \nL 58.230215 38.397075 \nL 61.853592 29.184154 \nL 65.476968 21.860003 \nL 69.100345 16.716611 \nL 72.723722 13.959031 \nL 76.347098 13.697196 \nL 79.970475 15.941548 \nL 83.593851 20.602609 \nL 87.217228 27.494558 \nL 90.840605 36.342636 \nL 94.463981 46.794096 \nL 98.087358 58.432273 \nL 101.710735 70.793189 \nL 105.334111 83.384053 \nL 108.957488 95.702907 \nL 112.580864 107.258638 \nL 116.204241 117.590554 \nL 119.827618 126.286755 \nL 123.450994 133.000552 \nL 127.074371 137.464285 \nL 130.697748 139.5 \nL 134.321124 139.02654 \nL 137.944501 136.062779 \nL 141.567877 130.726874 \nL 145.191254 123.231551 \nL 148.814631 113.875623 \nL 152.438007 103.032084 \nL 156.061384 91.133229 \nL 159.684761 78.653429 \nL 163.308137 66.090215 \nL 166.931514 53.944442 \nL 170.55489 42.700323 \nL 174.178267 32.806126 \nL 177.801644 24.656302 \n\" clip-path=\"url(#pb052718c28)\" style=\"fill: none; stroke: #1f77b4; stroke-width: 1.5; stroke-linecap: square\"/>\n   </g>\n   <g id=\"line2d_99\">\n    <path d=\"M 54.606838 22.023199 \nL 72.723722 69.262535 \nL 90.840605 123.212134 \nL 108.957488 134.270983 \nL 127.074371 92.271627 \nL 145.191254 35.828081 \nL 163.308137 16.83428 \n\" clip-path=\"url(#pb052718c28)\" style=\"fill: none; stroke-dasharray: 5.55,2.4; stroke-dashoffset: 0; stroke: #ff7f0e; stroke-width: 1.5\"/>\n   </g>\n   <g id=\"line2d_100\">\n    <path d=\"M 47.360085 73.409329 \nL 50.983462 60.959407 \nL 54.606838 49.131475 \nL 58.230215 38.397075 \nL 61.853592 29.184154 \nL 65.476968 21.860003 \nL 69.100345 16.716611 \nL 72.723722 13.959031 \nL 76.347098 13.697196 \nL 79.970475 15.941548 \nL 83.593851 20.602609 \nL 87.217228 27.494558 \nL 90.840605 36.342636 \nL 94.463981 46.794096 \nL 98.087358 58.432273 \nL 101.710735 70.793189 \nL 105.334111 83.384053 \nL 108.957488 95.702907 \nL 112.580864 107.258638 \nL 116.204241 117.590554 \nL 119.827618 126.286755 \nL 123.450994 133.000552 \nL 127.074371 137.464285 \nL 130.697748 139.5 \nL 134.321124 139.02654 \nL 137.944501 136.062779 \nL 141.567877 130.726874 \nL 145.191254 123.231551 \nL 148.814631 113.875623 \nL 152.438007 103.032084 \nL 156.061384 91.133229 \nL 159.684761 78.653429 \nL 163.308137 66.090215 \nL 166.931514 53.944442 \nL 170.55489 42.700323 \nL 174.178267 32.806126 \nL 177.801644 24.656302 \nL 181.42502 18.575758 \n\" clip-path=\"url(#pb052718c28)\" style=\"fill: none; stroke: #1f77b4; stroke-width: 1.5; stroke-linecap: square\"/>\n   </g>\n   <g id=\"line2d_101\">\n    <path d=\"M 54.606838 22.023199 \nL 72.723722 69.262535 \nL 90.840605 123.212134 \nL 108.957488 134.270983 \nL 127.074371 92.271627 \nL 145.191254 35.828081 \nL 163.308137 16.83428 \n\" clip-path=\"url(#pb052718c28)\" style=\"fill: none; stroke-dasharray: 5.55,2.4; stroke-dashoffset: 0; stroke: #ff7f0e; stroke-width: 1.5\"/>\n   </g>\n   <g id=\"line2d_102\">\n    <path d=\"M 47.360085 73.409329 \nL 50.983462 60.959407 \nL 54.606838 49.131475 \nL 58.230215 38.397075 \nL 61.853592 29.184154 \nL 65.476968 21.860003 \nL 69.100345 16.716611 \nL 72.723722 13.959031 \nL 76.347098 13.697196 \nL 79.970475 15.941548 \nL 83.593851 20.602609 \nL 87.217228 27.494558 \nL 90.840605 36.342636 \nL 94.463981 46.794096 \nL 98.087358 58.432273 \nL 101.710735 70.793189 \nL 105.334111 83.384053 \nL 108.957488 95.702907 \nL 112.580864 107.258638 \nL 116.204241 117.590554 \nL 119.827618 126.286755 \nL 123.450994 133.000552 \nL 127.074371 137.464285 \nL 130.697748 139.5 \nL 134.321124 139.02654 \nL 137.944501 136.062779 \nL 141.567877 130.726874 \nL 145.191254 123.231551 \nL 148.814631 113.875623 \nL 152.438007 103.032084 \nL 156.061384 91.133229 \nL 159.684761 78.653429 \nL 163.308137 66.090215 \nL 166.931514 53.944442 \nL 170.55489 42.700323 \nL 174.178267 32.806126 \nL 177.801644 24.656302 \nL 181.42502 18.575758 \nL 185.048397 14.806907 \n\" clip-path=\"url(#pb052718c28)\" style=\"fill: none; stroke: #1f77b4; stroke-width: 1.5; stroke-linecap: square\"/>\n   </g>\n   <g id=\"line2d_103\">\n    <path d=\"M 54.606838 22.023199 \nL 72.723722 69.262535 \nL 90.840605 123.212134 \nL 108.957488 134.270983 \nL 127.074371 92.271627 \nL 145.191254 35.828081 \nL 163.308137 16.83428 \n\" clip-path=\"url(#pb052718c28)\" style=\"fill: none; stroke-dasharray: 5.55,2.4; stroke-dashoffset: 0; stroke: #ff7f0e; stroke-width: 1.5\"/>\n   </g>\n   <g id=\"line2d_104\">\n    <path d=\"M 47.360085 73.409329 \nL 50.983462 60.959407 \nL 54.606838 49.131475 \nL 58.230215 38.397075 \nL 61.853592 29.184154 \nL 65.476968 21.860003 \nL 69.100345 16.716611 \nL 72.723722 13.959031 \nL 76.347098 13.697196 \nL 79.970475 15.941548 \nL 83.593851 20.602609 \nL 87.217228 27.494558 \nL 90.840605 36.342636 \nL 94.463981 46.794096 \nL 98.087358 58.432273 \nL 101.710735 70.793189 \nL 105.334111 83.384053 \nL 108.957488 95.702907 \nL 112.580864 107.258638 \nL 116.204241 117.590554 \nL 119.827618 126.286755 \nL 123.450994 133.000552 \nL 127.074371 137.464285 \nL 130.697748 139.5 \nL 134.321124 139.02654 \nL 137.944501 136.062779 \nL 141.567877 130.726874 \nL 145.191254 123.231551 \nL 148.814631 113.875623 \nL 152.438007 103.032084 \nL 156.061384 91.133229 \nL 159.684761 78.653429 \nL 163.308137 66.090215 \nL 166.931514 53.944442 \nL 170.55489 42.700323 \nL 174.178267 32.806126 \nL 177.801644 24.656302 \nL 181.42502 18.575758 \nL 185.048397 14.806907 \nL 188.671774 13.5 \n\" clip-path=\"url(#pb052718c28)\" style=\"fill: none; stroke: #1f77b4; stroke-width: 1.5; stroke-linecap: square\"/>\n   </g>\n   <g id=\"line2d_105\">\n    <path d=\"M 54.606838 22.023199 \nL 72.723722 69.262535 \nL 90.840605 123.212134 \nL 108.957488 134.270983 \nL 127.074371 92.271627 \nL 145.191254 35.828081 \nL 163.308137 16.83428 \n\" clip-path=\"url(#pb052718c28)\" style=\"fill: none; stroke-dasharray: 5.55,2.4; stroke-dashoffset: 0; stroke: #ff7f0e; stroke-width: 1.5\"/>\n   </g>\n   <g id=\"line2d_106\">\n    <path d=\"M 47.360085 73.409329 \nL 50.983462 60.959407 \nL 54.606838 49.131475 \nL 58.230215 38.397075 \nL 61.853592 29.184154 \nL 65.476968 21.860003 \nL 69.100345 16.716611 \nL 72.723722 13.959031 \nL 76.347098 13.697196 \nL 79.970475 15.941548 \nL 83.593851 20.602609 \nL 87.217228 27.494558 \nL 90.840605 36.342636 \nL 94.463981 46.794096 \nL 98.087358 58.432273 \nL 101.710735 70.793189 \nL 105.334111 83.384053 \nL 108.957488 95.702907 \nL 112.580864 107.258638 \nL 116.204241 117.590554 \nL 119.827618 126.286755 \nL 123.450994 133.000552 \nL 127.074371 137.464285 \nL 130.697748 139.5 \nL 134.321124 139.02654 \nL 137.944501 136.062779 \nL 141.567877 130.726874 \nL 145.191254 123.231551 \nL 148.814631 113.875623 \nL 152.438007 103.032084 \nL 156.061384 91.133229 \nL 159.684761 78.653429 \nL 163.308137 66.090215 \nL 166.931514 53.944442 \nL 170.55489 42.700323 \nL 174.178267 32.806126 \nL 177.801644 24.656302 \nL 181.42502 18.575758 \nL 185.048397 14.806907 \nL 188.671774 13.5 \n\" clip-path=\"url(#pb052718c28)\" style=\"fill: none; stroke: #1f77b4; stroke-width: 1.5; stroke-linecap: square\"/>\n   </g>\n   <g id=\"line2d_107\">\n    <path d=\"M 54.606838 22.023199 \nL 72.723722 69.262535 \nL 90.840605 123.212134 \nL 108.957488 134.270983 \nL 127.074371 92.271627 \nL 145.191254 35.828081 \nL 163.308137 16.83428 \nL 181.42502 52.753037 \n\" clip-path=\"url(#pb052718c28)\" style=\"fill: none; stroke-dasharray: 5.55,2.4; stroke-dashoffset: 0; stroke: #ff7f0e; stroke-width: 1.5\"/>\n   </g>\n   <g id=\"line2d_108\">\n    <path d=\"M 47.360085 73.409329 \nL 50.983462 60.959407 \nL 54.606838 49.131475 \nL 58.230215 38.397075 \nL 61.853592 29.184154 \nL 65.476968 21.860003 \nL 69.100345 16.716611 \nL 72.723722 13.959031 \nL 76.347098 13.697196 \nL 79.970475 15.941548 \nL 83.593851 20.602609 \nL 87.217228 27.494558 \nL 90.840605 36.342636 \nL 94.463981 46.794096 \nL 98.087358 58.432273 \nL 101.710735 70.793189 \nL 105.334111 83.384053 \nL 108.957488 95.702907 \nL 112.580864 107.258638 \nL 116.204241 117.590554 \nL 119.827618 126.286755 \nL 123.450994 133.000552 \nL 127.074371 137.464285 \nL 130.697748 139.5 \nL 134.321124 139.02654 \nL 137.944501 136.062779 \nL 141.567877 130.726874 \nL 145.191254 123.231551 \nL 148.814631 113.875623 \nL 152.438007 103.032084 \nL 156.061384 91.133229 \nL 159.684761 78.653429 \nL 163.308137 66.090215 \nL 166.931514 53.944442 \nL 170.55489 42.700323 \nL 174.178267 32.806126 \nL 177.801644 24.656302 \nL 181.42502 18.575758 \nL 185.048397 14.806907 \nL 188.671774 13.5 \nL 192.29515 14.70714 \n\" clip-path=\"url(#pb052718c28)\" style=\"fill: none; stroke: #1f77b4; stroke-width: 1.5; stroke-linecap: square\"/>\n   </g>\n   <g id=\"line2d_109\">\n    <path d=\"M 54.606838 22.023199 \nL 72.723722 69.262535 \nL 90.840605 123.212134 \nL 108.957488 134.270983 \nL 127.074371 92.271627 \nL 145.191254 35.828081 \nL 163.308137 16.83428 \nL 181.42502 52.753037 \n\" clip-path=\"url(#pb052718c28)\" style=\"fill: none; stroke-dasharray: 5.55,2.4; stroke-dashoffset: 0; stroke: #ff7f0e; stroke-width: 1.5\"/>\n   </g>\n   <g id=\"line2d_110\">\n    <path d=\"M 47.360085 73.409329 \nL 50.983462 60.959407 \nL 54.606838 49.131475 \nL 58.230215 38.397075 \nL 61.853592 29.184154 \nL 65.476968 21.860003 \nL 69.100345 16.716611 \nL 72.723722 13.959031 \nL 76.347098 13.697196 \nL 79.970475 15.941548 \nL 83.593851 20.602609 \nL 87.217228 27.494558 \nL 90.840605 36.342636 \nL 94.463981 46.794096 \nL 98.087358 58.432273 \nL 101.710735 70.793189 \nL 105.334111 83.384053 \nL 108.957488 95.702907 \nL 112.580864 107.258638 \nL 116.204241 117.590554 \nL 119.827618 126.286755 \nL 123.450994 133.000552 \nL 127.074371 137.464285 \nL 130.697748 139.5 \nL 134.321124 139.02654 \nL 137.944501 136.062779 \nL 141.567877 130.726874 \nL 145.191254 123.231551 \nL 148.814631 113.875623 \nL 152.438007 103.032084 \nL 156.061384 91.133229 \nL 159.684761 78.653429 \nL 163.308137 66.090215 \nL 166.931514 53.944442 \nL 170.55489 42.700323 \nL 174.178267 32.806126 \nL 177.801644 24.656302 \nL 181.42502 18.575758 \nL 185.048397 14.806907 \nL 188.671774 13.5 \nL 192.29515 14.70714 \nL 195.918527 18.380202 \n\" clip-path=\"url(#pb052718c28)\" style=\"fill: none; stroke: #1f77b4; stroke-width: 1.5; stroke-linecap: square\"/>\n   </g>\n   <g id=\"line2d_111\">\n    <path d=\"M 54.606838 22.023199 \nL 72.723722 69.262535 \nL 90.840605 123.212134 \nL 108.957488 134.270983 \nL 127.074371 92.271627 \nL 145.191254 35.828081 \nL 163.308137 16.83428 \nL 181.42502 52.753037 \n\" clip-path=\"url(#pb052718c28)\" style=\"fill: none; stroke-dasharray: 5.55,2.4; stroke-dashoffset: 0; stroke: #ff7f0e; stroke-width: 1.5\"/>\n   </g>\n   <g id=\"line2d_112\">\n    <path d=\"M 47.360085 73.409329 \nL 50.983462 60.959407 \nL 54.606838 49.131475 \nL 58.230215 38.397075 \nL 61.853592 29.184154 \nL 65.476968 21.860003 \nL 69.100345 16.716611 \nL 72.723722 13.959031 \nL 76.347098 13.697196 \nL 79.970475 15.941548 \nL 83.593851 20.602609 \nL 87.217228 27.494558 \nL 90.840605 36.342636 \nL 94.463981 46.794096 \nL 98.087358 58.432273 \nL 101.710735 70.793189 \nL 105.334111 83.384053 \nL 108.957488 95.702907 \nL 112.580864 107.258638 \nL 116.204241 117.590554 \nL 119.827618 126.286755 \nL 123.450994 133.000552 \nL 127.074371 137.464285 \nL 130.697748 139.5 \nL 134.321124 139.02654 \nL 137.944501 136.062779 \nL 141.567877 130.726874 \nL 145.191254 123.231551 \nL 148.814631 113.875623 \nL 152.438007 103.032084 \nL 156.061384 91.133229 \nL 159.684761 78.653429 \nL 163.308137 66.090215 \nL 166.931514 53.944442 \nL 170.55489 42.700323 \nL 174.178267 32.806126 \nL 177.801644 24.656302 \nL 181.42502 18.575758 \nL 185.048397 14.806907 \nL 188.671774 13.5 \nL 192.29515 14.70714 \nL 195.918527 18.380202 \nL 199.541903 24.372753 \n\" clip-path=\"url(#pb052718c28)\" style=\"fill: none; stroke: #1f77b4; stroke-width: 1.5; stroke-linecap: square\"/>\n   </g>\n   <g id=\"line2d_113\">\n    <path d=\"M 54.606838 22.023199 \nL 72.723722 69.262535 \nL 90.840605 123.212134 \nL 108.957488 134.270983 \nL 127.074371 92.271627 \nL 145.191254 35.828081 \nL 163.308137 16.83428 \nL 181.42502 52.753037 \n\" clip-path=\"url(#pb052718c28)\" style=\"fill: none; stroke-dasharray: 5.55,2.4; stroke-dashoffset: 0; stroke: #ff7f0e; stroke-width: 1.5\"/>\n   </g>\n   <g id=\"line2d_114\">\n    <path d=\"M 47.360085 73.409329 \nL 50.983462 60.959407 \nL 54.606838 49.131475 \nL 58.230215 38.397075 \nL 61.853592 29.184154 \nL 65.476968 21.860003 \nL 69.100345 16.716611 \nL 72.723722 13.959031 \nL 76.347098 13.697196 \nL 79.970475 15.941548 \nL 83.593851 20.602609 \nL 87.217228 27.494558 \nL 90.840605 36.342636 \nL 94.463981 46.794096 \nL 98.087358 58.432273 \nL 101.710735 70.793189 \nL 105.334111 83.384053 \nL 108.957488 95.702907 \nL 112.580864 107.258638 \nL 116.204241 117.590554 \nL 119.827618 126.286755 \nL 123.450994 133.000552 \nL 127.074371 137.464285 \nL 130.697748 139.5 \nL 134.321124 139.02654 \nL 137.944501 136.062779 \nL 141.567877 130.726874 \nL 145.191254 123.231551 \nL 148.814631 113.875623 \nL 152.438007 103.032084 \nL 156.061384 91.133229 \nL 159.684761 78.653429 \nL 163.308137 66.090215 \nL 166.931514 53.944442 \nL 170.55489 42.700323 \nL 174.178267 32.806126 \nL 177.801644 24.656302 \nL 181.42502 18.575758 \nL 185.048397 14.806907 \nL 188.671774 13.5 \nL 192.29515 14.70714 \nL 195.918527 18.380202 \nL 199.541903 24.372753 \nL 203.16528 32.445888 \n\" clip-path=\"url(#pb052718c28)\" style=\"fill: none; stroke: #1f77b4; stroke-width: 1.5; stroke-linecap: square\"/>\n   </g>\n   <g id=\"line2d_115\">\n    <path d=\"M 54.606838 22.023199 \nL 72.723722 69.262535 \nL 90.840605 123.212134 \nL 108.957488 134.270983 \nL 127.074371 92.271627 \nL 145.191254 35.828081 \nL 163.308137 16.83428 \nL 181.42502 52.753037 \n\" clip-path=\"url(#pb052718c28)\" style=\"fill: none; stroke-dasharray: 5.55,2.4; stroke-dashoffset: 0; stroke: #ff7f0e; stroke-width: 1.5\"/>\n   </g>\n   <g id=\"line2d_116\">\n    <path d=\"M 47.360085 73.409329 \nL 50.983462 60.959407 \nL 54.606838 49.131475 \nL 58.230215 38.397075 \nL 61.853592 29.184154 \nL 65.476968 21.860003 \nL 69.100345 16.716611 \nL 72.723722 13.959031 \nL 76.347098 13.697196 \nL 79.970475 15.941548 \nL 83.593851 20.602609 \nL 87.217228 27.494558 \nL 90.840605 36.342636 \nL 94.463981 46.794096 \nL 98.087358 58.432273 \nL 101.710735 70.793189 \nL 105.334111 83.384053 \nL 108.957488 95.702907 \nL 112.580864 107.258638 \nL 116.204241 117.590554 \nL 119.827618 126.286755 \nL 123.450994 133.000552 \nL 127.074371 137.464285 \nL 130.697748 139.5 \nL 134.321124 139.02654 \nL 137.944501 136.062779 \nL 141.567877 130.726874 \nL 145.191254 123.231551 \nL 148.814631 113.875623 \nL 152.438007 103.032084 \nL 156.061384 91.133229 \nL 159.684761 78.653429 \nL 163.308137 66.090215 \nL 166.931514 53.944442 \nL 170.55489 42.700323 \nL 174.178267 32.806126 \nL 177.801644 24.656302 \nL 181.42502 18.575758 \nL 185.048397 14.806907 \nL 188.671774 13.5 \nL 192.29515 14.70714 \nL 195.918527 18.380202 \nL 199.541903 24.372753 \nL 203.16528 32.445888 \nL 206.788657 42.277757 \n\" clip-path=\"url(#pb052718c28)\" style=\"fill: none; stroke: #1f77b4; stroke-width: 1.5; stroke-linecap: square\"/>\n   </g>\n   <g id=\"line2d_117\">\n    <path d=\"M 54.606838 22.023199 \nL 72.723722 69.262535 \nL 90.840605 123.212134 \nL 108.957488 134.270983 \nL 127.074371 92.271627 \nL 145.191254 35.828081 \nL 163.308137 16.83428 \nL 181.42502 52.753037 \n\" clip-path=\"url(#pb052718c28)\" style=\"fill: none; stroke-dasharray: 5.55,2.4; stroke-dashoffset: 0; stroke: #ff7f0e; stroke-width: 1.5\"/>\n   </g>\n   <g id=\"line2d_118\">\n    <path d=\"M 47.360085 73.409329 \nL 50.983462 60.959407 \nL 54.606838 49.131475 \nL 58.230215 38.397075 \nL 61.853592 29.184154 \nL 65.476968 21.860003 \nL 69.100345 16.716611 \nL 72.723722 13.959031 \nL 76.347098 13.697196 \nL 79.970475 15.941548 \nL 83.593851 20.602609 \nL 87.217228 27.494558 \nL 90.840605 36.342636 \nL 94.463981 46.794096 \nL 98.087358 58.432273 \nL 101.710735 70.793189 \nL 105.334111 83.384053 \nL 108.957488 95.702907 \nL 112.580864 107.258638 \nL 116.204241 117.590554 \nL 119.827618 126.286755 \nL 123.450994 133.000552 \nL 127.074371 137.464285 \nL 130.697748 139.5 \nL 134.321124 139.02654 \nL 137.944501 136.062779 \nL 141.567877 130.726874 \nL 145.191254 123.231551 \nL 148.814631 113.875623 \nL 152.438007 103.032084 \nL 156.061384 91.133229 \nL 159.684761 78.653429 \nL 163.308137 66.090215 \nL 166.931514 53.944442 \nL 170.55489 42.700323 \nL 174.178267 32.806126 \nL 177.801644 24.656302 \nL 181.42502 18.575758 \nL 185.048397 14.806907 \nL 188.671774 13.5 \nL 192.29515 14.70714 \nL 195.918527 18.380202 \nL 199.541903 24.372753 \nL 203.16528 32.445888 \nL 206.788657 42.277757 \n\" clip-path=\"url(#pb052718c28)\" style=\"fill: none; stroke: #1f77b4; stroke-width: 1.5; stroke-linecap: square\"/>\n   </g>\n   <g id=\"line2d_119\">\n    <path d=\"M 54.606838 22.023199 \nL 72.723722 69.262535 \nL 90.840605 123.212134 \nL 108.957488 134.270983 \nL 127.074371 92.271627 \nL 145.191254 35.828081 \nL 163.308137 16.83428 \nL 181.42502 52.753037 \nL 199.541903 110.560813 \n\" clip-path=\"url(#pb052718c28)\" style=\"fill: none; stroke-dasharray: 5.55,2.4; stroke-dashoffset: 0; stroke: #ff7f0e; stroke-width: 1.5\"/>\n   </g>\n   <g id=\"line2d_120\">\n    <path d=\"M 47.360085 73.409329 \nL 50.983462 60.959407 \nL 54.606838 49.131475 \nL 58.230215 38.397075 \nL 61.853592 29.184154 \nL 65.476968 21.860003 \nL 69.100345 16.716611 \nL 72.723722 13.959031 \nL 76.347098 13.697196 \nL 79.970475 15.941548 \nL 83.593851 20.602609 \nL 87.217228 27.494558 \nL 90.840605 36.342636 \nL 94.463981 46.794096 \nL 98.087358 58.432273 \nL 101.710735 70.793189 \nL 105.334111 83.384053 \nL 108.957488 95.702907 \nL 112.580864 107.258638 \nL 116.204241 117.590554 \nL 119.827618 126.286755 \nL 123.450994 133.000552 \nL 127.074371 137.464285 \nL 130.697748 139.5 \nL 134.321124 139.02654 \nL 137.944501 136.062779 \nL 141.567877 130.726874 \nL 145.191254 123.231551 \nL 148.814631 113.875623 \nL 152.438007 103.032084 \nL 156.061384 91.133229 \nL 159.684761 78.653429 \nL 163.308137 66.090215 \nL 166.931514 53.944442 \nL 170.55489 42.700323 \nL 174.178267 32.806126 \nL 177.801644 24.656302 \nL 181.42502 18.575758 \nL 185.048397 14.806907 \nL 188.671774 13.5 \nL 192.29515 14.70714 \nL 195.918527 18.380202 \nL 199.541903 24.372753 \nL 203.16528 32.445888 \nL 206.788657 42.277757 \nL 210.412033 53.476395 \n\" clip-path=\"url(#pb052718c28)\" style=\"fill: none; stroke: #1f77b4; stroke-width: 1.5; stroke-linecap: square\"/>\n   </g>\n   <g id=\"line2d_121\">\n    <path d=\"M 54.606838 22.023199 \nL 72.723722 69.262535 \nL 90.840605 123.212134 \nL 108.957488 134.270983 \nL 127.074371 92.271627 \nL 145.191254 35.828081 \nL 163.308137 16.83428 \nL 181.42502 52.753037 \nL 199.541903 110.560813 \n\" clip-path=\"url(#pb052718c28)\" style=\"fill: none; stroke-dasharray: 5.55,2.4; stroke-dashoffset: 0; stroke: #ff7f0e; stroke-width: 1.5\"/>\n   </g>\n   <g id=\"line2d_122\">\n    <path d=\"M 47.360085 73.409329 \nL 50.983462 60.959407 \nL 54.606838 49.131475 \nL 58.230215 38.397075 \nL 61.853592 29.184154 \nL 65.476968 21.860003 \nL 69.100345 16.716611 \nL 72.723722 13.959031 \nL 76.347098 13.697196 \nL 79.970475 15.941548 \nL 83.593851 20.602609 \nL 87.217228 27.494558 \nL 90.840605 36.342636 \nL 94.463981 46.794096 \nL 98.087358 58.432273 \nL 101.710735 70.793189 \nL 105.334111 83.384053 \nL 108.957488 95.702907 \nL 112.580864 107.258638 \nL 116.204241 117.590554 \nL 119.827618 126.286755 \nL 123.450994 133.000552 \nL 127.074371 137.464285 \nL 130.697748 139.5 \nL 134.321124 139.02654 \nL 137.944501 136.062779 \nL 141.567877 130.726874 \nL 145.191254 123.231551 \nL 148.814631 113.875623 \nL 152.438007 103.032084 \nL 156.061384 91.133229 \nL 159.684761 78.653429 \nL 163.308137 66.090215 \nL 166.931514 53.944442 \nL 170.55489 42.700323 \nL 174.178267 32.806126 \nL 177.801644 24.656302 \nL 181.42502 18.575758 \nL 185.048397 14.806907 \nL 188.671774 13.5 \nL 192.29515 14.70714 \nL 195.918527 18.380202 \nL 199.541903 24.372753 \nL 203.16528 32.445888 \nL 206.788657 42.277757 \nL 210.412033 53.476395 \nL 214.03541 65.595347 \n\" clip-path=\"url(#pb052718c28)\" style=\"fill: none; stroke: #1f77b4; stroke-width: 1.5; stroke-linecap: square\"/>\n   </g>\n   <g id=\"line2d_123\">\n    <path d=\"M 54.606838 22.023199 \nL 72.723722 69.262535 \nL 90.840605 123.212134 \nL 108.957488 134.270983 \nL 127.074371 92.271627 \nL 145.191254 35.828081 \nL 163.308137 16.83428 \nL 181.42502 52.753037 \nL 199.541903 110.560813 \n\" clip-path=\"url(#pb052718c28)\" style=\"fill: none; stroke-dasharray: 5.55,2.4; stroke-dashoffset: 0; stroke: #ff7f0e; stroke-width: 1.5\"/>\n   </g>\n   <g id=\"line2d_124\">\n    <path d=\"M 47.360085 73.409329 \nL 50.983462 60.959407 \nL 54.606838 49.131475 \nL 58.230215 38.397075 \nL 61.853592 29.184154 \nL 65.476968 21.860003 \nL 69.100345 16.716611 \nL 72.723722 13.959031 \nL 76.347098 13.697196 \nL 79.970475 15.941548 \nL 83.593851 20.602609 \nL 87.217228 27.494558 \nL 90.840605 36.342636 \nL 94.463981 46.794096 \nL 98.087358 58.432273 \nL 101.710735 70.793189 \nL 105.334111 83.384053 \nL 108.957488 95.702907 \nL 112.580864 107.258638 \nL 116.204241 117.590554 \nL 119.827618 126.286755 \nL 123.450994 133.000552 \nL 127.074371 137.464285 \nL 130.697748 139.5 \nL 134.321124 139.02654 \nL 137.944501 136.062779 \nL 141.567877 130.726874 \nL 145.191254 123.231551 \nL 148.814631 113.875623 \nL 152.438007 103.032084 \nL 156.061384 91.133229 \nL 159.684761 78.653429 \nL 163.308137 66.090215 \nL 166.931514 53.944442 \nL 170.55489 42.700323 \nL 174.178267 32.806126 \nL 177.801644 24.656302 \nL 181.42502 18.575758 \nL 185.048397 14.806907 \nL 188.671774 13.5 \nL 192.29515 14.70714 \nL 195.918527 18.380202 \nL 199.541903 24.372753 \nL 203.16528 32.445888 \nL 206.788657 42.277757 \nL 210.412033 53.476395 \nL 214.03541 65.595347 \nL 217.658787 78.151469 \n\" clip-path=\"url(#pb052718c28)\" style=\"fill: none; stroke: #1f77b4; stroke-width: 1.5; stroke-linecap: square\"/>\n   </g>\n   <g id=\"line2d_125\">\n    <path d=\"M 54.606838 22.023199 \nL 72.723722 69.262535 \nL 90.840605 123.212134 \nL 108.957488 134.270983 \nL 127.074371 92.271627 \nL 145.191254 35.828081 \nL 163.308137 16.83428 \nL 181.42502 52.753037 \nL 199.541903 110.560813 \n\" clip-path=\"url(#pb052718c28)\" style=\"fill: none; stroke-dasharray: 5.55,2.4; stroke-dashoffset: 0; stroke: #ff7f0e; stroke-width: 1.5\"/>\n   </g>\n   <g id=\"line2d_126\">\n    <path d=\"M 47.360085 73.409329 \nL 50.983462 60.959407 \nL 54.606838 49.131475 \nL 58.230215 38.397075 \nL 61.853592 29.184154 \nL 65.476968 21.860003 \nL 69.100345 16.716611 \nL 72.723722 13.959031 \nL 76.347098 13.697196 \nL 79.970475 15.941548 \nL 83.593851 20.602609 \nL 87.217228 27.494558 \nL 90.840605 36.342636 \nL 94.463981 46.794096 \nL 98.087358 58.432273 \nL 101.710735 70.793189 \nL 105.334111 83.384053 \nL 108.957488 95.702907 \nL 112.580864 107.258638 \nL 116.204241 117.590554 \nL 119.827618 126.286755 \nL 123.450994 133.000552 \nL 127.074371 137.464285 \nL 130.697748 139.5 \nL 134.321124 139.02654 \nL 137.944501 136.062779 \nL 141.567877 130.726874 \nL 145.191254 123.231551 \nL 148.814631 113.875623 \nL 152.438007 103.032084 \nL 156.061384 91.133229 \nL 159.684761 78.653429 \nL 163.308137 66.090215 \nL 166.931514 53.944442 \nL 170.55489 42.700323 \nL 174.178267 32.806126 \nL 177.801644 24.656302 \nL 181.42502 18.575758 \nL 185.048397 14.806907 \nL 188.671774 13.5 \nL 192.29515 14.70714 \nL 195.918527 18.380202 \nL 199.541903 24.372753 \nL 203.16528 32.445888 \nL 206.788657 42.277757 \nL 210.412033 53.476395 \nL 214.03541 65.595347 \nL 217.658787 78.151469 \nL 221.282163 90.644187 \n\" clip-path=\"url(#pb052718c28)\" style=\"fill: none; stroke: #1f77b4; stroke-width: 1.5; stroke-linecap: square\"/>\n   </g>\n   <g id=\"line2d_127\">\n    <path d=\"M 54.606838 22.023199 \nL 72.723722 69.262535 \nL 90.840605 123.212134 \nL 108.957488 134.270983 \nL 127.074371 92.271627 \nL 145.191254 35.828081 \nL 163.308137 16.83428 \nL 181.42502 52.753037 \nL 199.541903 110.560813 \n\" clip-path=\"url(#pb052718c28)\" style=\"fill: none; stroke-dasharray: 5.55,2.4; stroke-dashoffset: 0; stroke: #ff7f0e; stroke-width: 1.5\"/>\n   </g>\n   <g id=\"line2d_128\">\n    <path d=\"M 47.360085 73.409329 \nL 50.983462 60.959407 \nL 54.606838 49.131475 \nL 58.230215 38.397075 \nL 61.853592 29.184154 \nL 65.476968 21.860003 \nL 69.100345 16.716611 \nL 72.723722 13.959031 \nL 76.347098 13.697196 \nL 79.970475 15.941548 \nL 83.593851 20.602609 \nL 87.217228 27.494558 \nL 90.840605 36.342636 \nL 94.463981 46.794096 \nL 98.087358 58.432273 \nL 101.710735 70.793189 \nL 105.334111 83.384053 \nL 108.957488 95.702907 \nL 112.580864 107.258638 \nL 116.204241 117.590554 \nL 119.827618 126.286755 \nL 123.450994 133.000552 \nL 127.074371 137.464285 \nL 130.697748 139.5 \nL 134.321124 139.02654 \nL 137.944501 136.062779 \nL 141.567877 130.726874 \nL 145.191254 123.231551 \nL 148.814631 113.875623 \nL 152.438007 103.032084 \nL 156.061384 91.133229 \nL 159.684761 78.653429 \nL 163.308137 66.090215 \nL 166.931514 53.944442 \nL 170.55489 42.700323 \nL 174.178267 32.806126 \nL 177.801644 24.656302 \nL 181.42502 18.575758 \nL 185.048397 14.806907 \nL 188.671774 13.5 \nL 192.29515 14.70714 \nL 195.918527 18.380202 \nL 199.541903 24.372753 \nL 203.16528 32.445888 \nL 206.788657 42.277757 \nL 210.412033 53.476395 \nL 214.03541 65.595347 \nL 217.658787 78.151469 \nL 221.282163 90.644187 \nL 224.90554 102.575457 \n\" clip-path=\"url(#pb052718c28)\" style=\"fill: none; stroke: #1f77b4; stroke-width: 1.5; stroke-linecap: square\"/>\n   </g>\n   <g id=\"line2d_129\">\n    <path d=\"M 54.606838 22.023199 \nL 72.723722 69.262535 \nL 90.840605 123.212134 \nL 108.957488 134.270983 \nL 127.074371 92.271627 \nL 145.191254 35.828081 \nL 163.308137 16.83428 \nL 181.42502 52.753037 \nL 199.541903 110.560813 \n\" clip-path=\"url(#pb052718c28)\" style=\"fill: none; stroke-dasharray: 5.55,2.4; stroke-dashoffset: 0; stroke: #ff7f0e; stroke-width: 1.5\"/>\n   </g>\n   <g id=\"line2d_130\">\n    <path d=\"M 47.360085 73.409329 \nL 50.983462 60.959407 \nL 54.606838 49.131475 \nL 58.230215 38.397075 \nL 61.853592 29.184154 \nL 65.476968 21.860003 \nL 69.100345 16.716611 \nL 72.723722 13.959031 \nL 76.347098 13.697196 \nL 79.970475 15.941548 \nL 83.593851 20.602609 \nL 87.217228 27.494558 \nL 90.840605 36.342636 \nL 94.463981 46.794096 \nL 98.087358 58.432273 \nL 101.710735 70.793189 \nL 105.334111 83.384053 \nL 108.957488 95.702907 \nL 112.580864 107.258638 \nL 116.204241 117.590554 \nL 119.827618 126.286755 \nL 123.450994 133.000552 \nL 127.074371 137.464285 \nL 130.697748 139.5 \nL 134.321124 139.02654 \nL 137.944501 136.062779 \nL 141.567877 130.726874 \nL 145.191254 123.231551 \nL 148.814631 113.875623 \nL 152.438007 103.032084 \nL 156.061384 91.133229 \nL 159.684761 78.653429 \nL 163.308137 66.090215 \nL 166.931514 53.944442 \nL 170.55489 42.700323 \nL 174.178267 32.806126 \nL 177.801644 24.656302 \nL 181.42502 18.575758 \nL 185.048397 14.806907 \nL 188.671774 13.5 \nL 192.29515 14.70714 \nL 195.918527 18.380202 \nL 199.541903 24.372753 \nL 203.16528 32.445888 \nL 206.788657 42.277757 \nL 210.412033 53.476395 \nL 214.03541 65.595347 \nL 217.658787 78.151469 \nL 221.282163 90.644187 \nL 224.90554 102.575457 \n\" clip-path=\"url(#pb052718c28)\" style=\"fill: none; stroke: #1f77b4; stroke-width: 1.5; stroke-linecap: square\"/>\n   </g>\n   <g id=\"line2d_131\">\n    <path d=\"M 54.606838 22.023199 \nL 72.723722 69.262535 \nL 90.840605 123.212134 \nL 108.957488 134.270983 \nL 127.074371 92.271627 \nL 145.191254 35.828081 \nL 163.308137 16.83428 \nL 181.42502 52.753037 \nL 199.541903 110.560813 \nL 217.658787 137.109405 \n\" clip-path=\"url(#pb052718c28)\" style=\"fill: none; stroke-dasharray: 5.55,2.4; stroke-dashoffset: 0; stroke: #ff7f0e; stroke-width: 1.5\"/>\n   </g>\n   <g id=\"patch_3\">\n    <path d=\"M 38.482813 145.8 \nL 38.482813 7.2 \n\" style=\"fill: none; stroke: #000000; stroke-width: 0.8; stroke-linejoin: miter; stroke-linecap: square\"/>\n   </g>\n   <g id=\"patch_4\">\n    <path d=\"M 233.782813 145.8 \nL 233.782813 7.2 \n\" style=\"fill: none; stroke: #000000; stroke-width: 0.8; stroke-linejoin: miter; stroke-linecap: square\"/>\n   </g>\n   <g id=\"patch_5\">\n    <path d=\"M 38.482813 145.8 \nL 233.782813 145.8 \n\" style=\"fill: none; stroke: #000000; stroke-width: 0.8; stroke-linejoin: miter; stroke-linecap: square\"/>\n   </g>\n   <g id=\"patch_6\">\n    <path d=\"M 38.482813 7.2 \nL 233.782813 7.2 \n\" style=\"fill: none; stroke: #000000; stroke-width: 0.8; stroke-linejoin: miter; stroke-linecap: square\"/>\n   </g>\n   <g id=\"legend_1\">\n    <g id=\"patch_7\">\n     <path d=\"M 177.95625 140.8 \nL 226.782813 140.8 \nQ 228.782813 140.8 228.782813 138.8 \nL 228.782813 110.44375 \nQ 228.782813 108.44375 226.782813 108.44375 \nL 177.95625 108.44375 \nQ 175.95625 108.44375 175.95625 110.44375 \nL 175.95625 138.8 \nQ 175.95625 140.8 177.95625 140.8 \nz\n\" style=\"fill: #ffffff; opacity: 0.8; stroke: #cccccc; stroke-linejoin: miter\"/>\n    </g>\n    <g id=\"line2d_132\">\n     <path d=\"M 179.95625 116.542188 \nL 189.95625 116.542188 \nL 199.95625 116.542188 \n\" style=\"fill: none; stroke: #1f77b4; stroke-width: 1.5; stroke-linecap: square\"/>\n    </g>\n    <g id=\"text_13\">\n     <!-- sin -->\n     <g transform=\"translate(207.95625 120.042188) scale(0.1 -0.1)\">\n      <defs>\n       <path id=\"DejaVuSans-73\" d=\"M 2834 3397 \nL 2834 2853 \nQ 2591 2978 2328 3040 \nQ 2066 3103 1784 3103 \nQ 1356 3103 1142 2972 \nQ 928 2841 928 2578 \nQ 928 2378 1081 2264 \nQ 1234 2150 1697 2047 \nL 1894 2003 \nQ 2506 1872 2764 1633 \nQ 3022 1394 3022 966 \nQ 3022 478 2636 193 \nQ 2250 -91 1575 -91 \nQ 1294 -91 989 -36 \nQ 684 19 347 128 \nL 347 722 \nQ 666 556 975 473 \nQ 1284 391 1588 391 \nQ 1994 391 2212 530 \nQ 2431 669 2431 922 \nQ 2431 1156 2273 1281 \nQ 2116 1406 1581 1522 \nL 1381 1569 \nQ 847 1681 609 1914 \nQ 372 2147 372 2553 \nQ 372 3047 722 3315 \nQ 1072 3584 1716 3584 \nQ 2034 3584 2315 3537 \nQ 2597 3491 2834 3397 \nz\n\" transform=\"scale(0.015625)\"/>\n       <path id=\"DejaVuSans-69\" d=\"M 603 3500 \nL 1178 3500 \nL 1178 0 \nL 603 0 \nL 603 3500 \nz\nM 603 4863 \nL 1178 4863 \nL 1178 4134 \nL 603 4134 \nL 603 4863 \nz\n\" transform=\"scale(0.015625)\"/>\n       <path id=\"DejaVuSans-6e\" d=\"M 3513 2113 \nL 3513 0 \nL 2938 0 \nL 2938 2094 \nQ 2938 2591 2744 2837 \nQ 2550 3084 2163 3084 \nQ 1697 3084 1428 2787 \nQ 1159 2491 1159 1978 \nL 1159 0 \nL 581 0 \nL 581 3500 \nL 1159 3500 \nL 1159 2956 \nQ 1366 3272 1645 3428 \nQ 1925 3584 2291 3584 \nQ 2894 3584 3203 3211 \nQ 3513 2838 3513 2113 \nz\n\" transform=\"scale(0.015625)\"/>\n      </defs>\n      <use xlink:href=\"#DejaVuSans-73\"/>\n      <use xlink:href=\"#DejaVuSans-69\" x=\"52.099609\"/>\n      <use xlink:href=\"#DejaVuSans-6e\" x=\"79.882812\"/>\n     </g>\n    </g>\n    <g id=\"line2d_133\">\n     <path d=\"M 179.95625 131.220313 \nL 189.95625 131.220313 \nL 199.95625 131.220313 \n\" style=\"fill: none; stroke-dasharray: 5.55,2.4; stroke-dashoffset: 0; stroke: #ff7f0e; stroke-width: 1.5\"/>\n    </g>\n    <g id=\"text_14\">\n     <!-- cos -->\n     <g transform=\"translate(207.95625 134.720313) scale(0.1 -0.1)\">\n      <defs>\n       <path id=\"DejaVuSans-63\" d=\"M 3122 3366 \nL 3122 2828 \nQ 2878 2963 2633 3030 \nQ 2388 3097 2138 3097 \nQ 1578 3097 1268 2742 \nQ 959 2388 959 1747 \nQ 959 1106 1268 751 \nQ 1578 397 2138 397 \nQ 2388 397 2633 464 \nQ 2878 531 3122 666 \nL 3122 134 \nQ 2881 22 2623 -34 \nQ 2366 -91 2075 -91 \nQ 1284 -91 818 406 \nQ 353 903 353 1747 \nQ 353 2603 823 3093 \nQ 1294 3584 2113 3584 \nQ 2378 3584 2631 3529 \nQ 2884 3475 3122 3366 \nz\n\" transform=\"scale(0.015625)\"/>\n       <path id=\"DejaVuSans-6f\" d=\"M 1959 3097 \nQ 1497 3097 1228 2736 \nQ 959 2375 959 1747 \nQ 959 1119 1226 758 \nQ 1494 397 1959 397 \nQ 2419 397 2687 759 \nQ 2956 1122 2956 1747 \nQ 2956 2369 2687 2733 \nQ 2419 3097 1959 3097 \nz\nM 1959 3584 \nQ 2709 3584 3137 3096 \nQ 3566 2609 3566 1747 \nQ 3566 888 3137 398 \nQ 2709 -91 1959 -91 \nQ 1206 -91 779 398 \nQ 353 888 353 1747 \nQ 353 2609 779 3096 \nQ 1206 3584 1959 3584 \nz\n\" transform=\"scale(0.015625)\"/>\n      </defs>\n      <use xlink:href=\"#DejaVuSans-63\"/>\n      <use xlink:href=\"#DejaVuSans-6f\" x=\"54.980469\"/>\n      <use xlink:href=\"#DejaVuSans-73\" x=\"116.162109\"/>\n     </g>\n    </g>\n   </g>\n  </g>\n </g>\n <defs>\n  <clipPath id=\"pb052718c28\">\n   <rect x=\"38.482813\" y=\"7.2\" width=\"195.3\" height=\"138.6\"/>\n  </clipPath>\n </defs>\n</svg>\n"
          },
          "metadata": {}
        }
      ]
    },
    {
      "cell_type": "markdown",
      "source": [
        "### 3.2.2 Models"
      ],
      "metadata": {
        "id": "Tt-k2_Q_YToU"
      }
    },
    {
      "cell_type": "code",
      "source": [
        "class Module(nn.Module, d2l.HyperParameters):\n",
        "    \"\"\"The base class of models.\"\"\"\n",
        "    def __init__(self, plot_train_per_epoch=2, plot_valid_per_epoch=1):\n",
        "        super().__init__()\n",
        "        self.save_hyperparameters()\n",
        "        self.board = ProgressBoard()\n",
        "\n",
        "    def loss(self, y_hat, y):\n",
        "        raise NotImplementedError\n",
        "\n",
        "    def forward(self, X):\n",
        "        assert hasattr(self, 'net'), 'Neural network is defined'\n",
        "        return self.net(X)\n",
        "\n",
        "    def plot(self, key, value, train):\n",
        "        \"\"\"Plot a point in animation.\"\"\"\n",
        "        assert hasattr(self, 'trainer'), 'Trainer is not inited'\n",
        "        self.board.xlabel = 'epoch'\n",
        "        if train:\n",
        "            x = self.trainer.train_batch_idx / \\\n",
        "                self.trainer.num_train_batches\n",
        "            n = self.trainer.num_train_batches / \\\n",
        "                self.plot_train_per_epoch\n",
        "        else:\n",
        "            x = self.trainer.epoch + 1\n",
        "            n = self.trainer.num_val_batches / \\\n",
        "                self.plot_valid_per_epoch\n",
        "        self.board.draw(x, value.to(d2l.cpu()).detach().numpy(),\n",
        "                        ('train_' if train else 'val_') + key,\n",
        "                        every_n=int(n))\n",
        "\n",
        "    def training_step(self, batch):\n",
        "        l = self.loss(self(*batch[:-1]), batch[-1])\n",
        "        self.plot('loss', l, train=True)\n",
        "        return l\n",
        "\n",
        "    def validation_step(self, batch):\n",
        "        l = self.loss(self(*batch[:-1]), batch[-1])\n",
        "        self.plot('loss', l, train=False)\n",
        "\n",
        "    def configure_optimizers(self):\n",
        "        raise NotImplementedError"
      ],
      "metadata": {
        "id": "h9FJ_m1KYVpJ"
      },
      "execution_count": null,
      "outputs": []
    },
    {
      "cell_type": "markdown",
      "source": [
        "### 3.2.3 Data"
      ],
      "metadata": {
        "id": "jgQ3utUIYa48"
      }
    },
    {
      "cell_type": "code",
      "source": [
        "class DataModule(d2l.HyperParameters):\n",
        "    \"\"\"The base class of data.\"\"\"\n",
        "    def __init__(self, root='../data', num_workers=4):\n",
        "        self.save_hyperparameters()\n",
        "\n",
        "    def get_dataloader(self, train):\n",
        "        raise NotImplementedError\n",
        "\n",
        "    def train_dataloader(self):\n",
        "        return self.get_dataloader(train=True)\n",
        "\n",
        "    def val_dataloader(self):\n",
        "        return self.get_dataloader(train=False)"
      ],
      "metadata": {
        "id": "mnMLx1lnYdGJ"
      },
      "execution_count": null,
      "outputs": []
    },
    {
      "cell_type": "markdown",
      "source": [
        "### 3.2.4 Training"
      ],
      "metadata": {
        "id": "fAqLA3hIYhIa"
      }
    },
    {
      "cell_type": "code",
      "source": [
        "class Trainer(d2l.HyperParameters):\n",
        "    \"\"\"The base class for training models with data.\"\"\"\n",
        "    def __init__(self, max_epochs, num_gpus=0, gradient_clip_val=0):\n",
        "        self.save_hyperparameters()\n",
        "        assert num_gpus == 0, 'No GPU support yet'\n",
        "\n",
        "    def prepare_data(self, data):\n",
        "        self.train_dataloader = data.train_dataloader()\n",
        "        self.val_dataloader = data.val_dataloader()\n",
        "        self.num_train_batches = len(self.train_dataloader)\n",
        "        self.num_val_batches = (len(self.val_dataloader)\n",
        "                                if self.val_dataloader is not None else 0)\n",
        "\n",
        "    def prepare_model(self, model):\n",
        "        model.trainer = self\n",
        "        model.board.xlim = [0, self.max_epochs]\n",
        "        self.model = model\n",
        "\n",
        "    def fit(self, model, data):\n",
        "        self.prepare_data(data)\n",
        "        self.prepare_model(model)\n",
        "        self.optim = model.configure_optimizers()\n",
        "        self.epoch = 0\n",
        "        self.train_batch_idx = 0\n",
        "        self.val_batch_idx = 0\n",
        "        for self.epoch in range(self.max_epochs):\n",
        "            self.fit_epoch()\n",
        "\n",
        "    def fit_epoch(self):\n",
        "        raise NotImplementedError"
      ],
      "metadata": {
        "id": "jfnWFB2sYjxI"
      },
      "execution_count": null,
      "outputs": []
    },
    {
      "cell_type": "markdown",
      "source": [
        "##  3.4. Linear Regression Implementation from Scratch"
      ],
      "metadata": {
        "id": "zH3_lhRvA44Y"
      }
    },
    {
      "cell_type": "markdown",
      "source": [
        "### 3.4 Memo\n",
        "- In this process, we built a data loader, a model, a loss function, an optimization procedure, and a visualization and monitoring tool."
      ],
      "metadata": {
        "id": "G1CW_g3nWHeh"
      }
    },
    {
      "cell_type": "code",
      "source": [
        "%matplotlib inline\n",
        "import torch\n",
        "from d2l import torch as d2l"
      ],
      "metadata": {
        "id": "T5rC_-cvYvDv"
      },
      "execution_count": null,
      "outputs": []
    },
    {
      "cell_type": "markdown",
      "source": [
        "### 3.4.1 Defining the Model"
      ],
      "metadata": {
        "id": "imil3vVFYwJv"
      }
    },
    {
      "cell_type": "code",
      "source": [
        "class LinearRegressionScratch(d2l.Module):\n",
        "    \"\"\"The linear regression model implemented from scratch.\"\"\"\n",
        "    def __init__(self, num_inputs, lr, sigma=0.01):\n",
        "        super().__init__()\n",
        "        self.save_hyperparameters()\n",
        "        self.w = torch.normal(0, sigma, (num_inputs, 1), requires_grad=True)\n",
        "        self.b = torch.zeros(1, requires_grad=True)"
      ],
      "metadata": {
        "id": "8BDgM6cpYz61"
      },
      "execution_count": null,
      "outputs": []
    },
    {
      "cell_type": "code",
      "source": [
        "@d2l.add_to_class(LinearRegressionScratch)\n",
        "def forward(self, X):\n",
        "    return torch.matmul(X, self.w) + self.b"
      ],
      "metadata": {
        "id": "stvG0jooY2Od"
      },
      "execution_count": null,
      "outputs": []
    },
    {
      "cell_type": "markdown",
      "source": [
        "### 3.4.2. Defining the Loss Function"
      ],
      "metadata": {
        "id": "ggIsZ77m98SA"
      }
    },
    {
      "cell_type": "code",
      "source": [
        "@d2l.add_to_class(LinearRegressionScratch)\n",
        "def loss(self, y_hat, y):\n",
        "    l = (y_hat - y) ** 2 / 2\n",
        "    return l.mean()"
      ],
      "metadata": {
        "id": "CG5j8LK39_5-"
      },
      "execution_count": null,
      "outputs": []
    },
    {
      "cell_type": "markdown",
      "source": [
        "### 3.4.3. Defining the Optimization Algorithm"
      ],
      "metadata": {
        "id": "LTN7SEs5-D91"
      }
    },
    {
      "cell_type": "code",
      "source": [
        "class SGD(d2l.HyperParameters):\n",
        "    \"\"\"Minibatch stochastic gradient descent.\"\"\"\n",
        "    def __init__(self, params, lr):\n",
        "        self.save_hyperparameters()\n",
        "\n",
        "    def step(self):\n",
        "        for param in self.params:\n",
        "            param -= self.lr * param.grad\n",
        "\n",
        "    def zero_grad(self):\n",
        "        for param in self.params:\n",
        "            if param.grad is not None:\n",
        "                param.grad.zero_()"
      ],
      "metadata": {
        "id": "fIGCkRnh-G9L"
      },
      "execution_count": null,
      "outputs": []
    },
    {
      "cell_type": "code",
      "source": [
        "@d2l.add_to_class(LinearRegressionScratch)\n",
        "def configure_optimizers(self):\n",
        "    return SGD([self.w, self.b], self.lr)"
      ],
      "metadata": {
        "id": "5YZS16ig-JCX"
      },
      "execution_count": null,
      "outputs": []
    },
    {
      "cell_type": "markdown",
      "source": [
        "### 3.4.4. Training"
      ],
      "metadata": {
        "id": "48JLpu9b-WbY"
      }
    },
    {
      "cell_type": "code",
      "source": [
        "@d2l.add_to_class(d2l.Trainer)\n",
        "def prepare_batch(self, batch):\n",
        "    return batch\n",
        "\n",
        "@d2l.add_to_class(d2l.Trainer)\n",
        "def fit_epoch(self):\n",
        "    self.model.train()\n",
        "    for batch in self.train_dataloader:\n",
        "        loss = self.model.training_step(self.prepare_batch(batch))\n",
        "        self.optim.zero_grad()\n",
        "        with torch.no_grad():\n",
        "            loss.backward()\n",
        "            if self.gradient_clip_val > 0:  # To be discussed later\n",
        "                self.clip_gradients(self.gradient_clip_val, self.model)\n",
        "            self.optim.step()\n",
        "        self.train_batch_idx += 1\n",
        "    if self.val_dataloader is None:\n",
        "        return\n",
        "    self.model.eval()\n",
        "    for batch in self.val_dataloader:\n",
        "        with torch.no_grad():\n",
        "            self.model.validation_step(self.prepare_batch(batch))\n",
        "        self.val_batch_idx += 1"
      ],
      "metadata": {
        "id": "k_omQTYb-ZIm"
      },
      "execution_count": null,
      "outputs": []
    },
    {
      "cell_type": "code",
      "source": [
        "model = LinearRegressionScratch(2, lr=0.03)\n",
        "data = d2l.SyntheticRegressionData(w=torch.tensor([2, -3.4]), b=4.2)\n",
        "trainer = d2l.Trainer(max_epochs=3)\n",
        "trainer.fit(model, data)"
      ],
      "metadata": {
        "colab": {
          "base_uri": "https://localhost:8080/",
          "height": 266
        },
        "id": "Gdx-DGrA-cpg",
        "outputId": "055cad68-9d2b-41e4-eb61-f16400c2d3bc"
      },
      "execution_count": null,
      "outputs": [
        {
          "output_type": "display_data",
          "data": {
            "text/plain": [
              "<Figure size 350x250 with 1 Axes>"
            ],
            "image/svg+xml": "<?xml version=\"1.0\" encoding=\"utf-8\" standalone=\"no\"?>\n<!DOCTYPE svg PUBLIC \"-//W3C//DTD SVG 1.1//EN\"\n  \"http://www.w3.org/Graphics/SVG/1.1/DTD/svg11.dtd\">\n<svg xmlns:xlink=\"http://www.w3.org/1999/xlink\" width=\"246.917187pt\" height=\"183.35625pt\" viewBox=\"0 0 246.917187 183.35625\" xmlns=\"http://www.w3.org/2000/svg\" version=\"1.1\">\n <metadata>\n  <rdf:RDF xmlns:dc=\"http://purl.org/dc/elements/1.1/\" xmlns:cc=\"http://creativecommons.org/ns#\" xmlns:rdf=\"http://www.w3.org/1999/02/22-rdf-syntax-ns#\">\n   <cc:Work>\n    <dc:type rdf:resource=\"http://purl.org/dc/dcmitype/StillImage\"/>\n    <dc:date>2024-10-29T02:01:48.022687</dc:date>\n    <dc:format>image/svg+xml</dc:format>\n    <dc:creator>\n     <cc:Agent>\n      <dc:title>Matplotlib v3.7.1, https://matplotlib.org/</dc:title>\n     </cc:Agent>\n    </dc:creator>\n   </cc:Work>\n  </rdf:RDF>\n </metadata>\n <defs>\n  <style type=\"text/css\">*{stroke-linejoin: round; stroke-linecap: butt}</style>\n </defs>\n <g id=\"figure_1\">\n  <g id=\"patch_1\">\n   <path d=\"M 0 183.35625 \nL 246.917187 183.35625 \nL 246.917187 0 \nL 0 0 \nz\n\" style=\"fill: #ffffff\"/>\n  </g>\n  <g id=\"axes_1\">\n   <g id=\"patch_2\">\n    <path d=\"M 36.465625 145.8 \nL 231.765625 145.8 \nL 231.765625 7.2 \nL 36.465625 7.2 \nz\n\" style=\"fill: #ffffff\"/>\n   </g>\n   <g id=\"matplotlib.axis_1\">\n    <g id=\"xtick_1\">\n     <g id=\"line2d_1\">\n      <defs>\n       <path id=\"mb5ef2817e0\" d=\"M 0 0 \nL 0 3.5 \n\" style=\"stroke: #000000; stroke-width: 0.8\"/>\n      </defs>\n      <g>\n       <use xlink:href=\"#mb5ef2817e0\" x=\"36.465625\" y=\"145.8\" style=\"stroke: #000000; stroke-width: 0.8\"/>\n      </g>\n     </g>\n     <g id=\"text_1\">\n      <!-- 0.0 -->\n      <g transform=\"translate(28.514063 160.398438) scale(0.1 -0.1)\">\n       <defs>\n        <path id=\"DejaVuSans-30\" d=\"M 2034 4250 \nQ 1547 4250 1301 3770 \nQ 1056 3291 1056 2328 \nQ 1056 1369 1301 889 \nQ 1547 409 2034 409 \nQ 2525 409 2770 889 \nQ 3016 1369 3016 2328 \nQ 3016 3291 2770 3770 \nQ 2525 4250 2034 4250 \nz\nM 2034 4750 \nQ 2819 4750 3233 4129 \nQ 3647 3509 3647 2328 \nQ 3647 1150 3233 529 \nQ 2819 -91 2034 -91 \nQ 1250 -91 836 529 \nQ 422 1150 422 2328 \nQ 422 3509 836 4129 \nQ 1250 4750 2034 4750 \nz\n\" transform=\"scale(0.015625)\"/>\n        <path id=\"DejaVuSans-2e\" d=\"M 684 794 \nL 1344 794 \nL 1344 0 \nL 684 0 \nL 684 794 \nz\n\" transform=\"scale(0.015625)\"/>\n       </defs>\n       <use xlink:href=\"#DejaVuSans-30\"/>\n       <use xlink:href=\"#DejaVuSans-2e\" x=\"63.623047\"/>\n       <use xlink:href=\"#DejaVuSans-30\" x=\"95.410156\"/>\n      </g>\n     </g>\n    </g>\n    <g id=\"xtick_2\">\n     <g id=\"line2d_2\">\n      <g>\n       <use xlink:href=\"#mb5ef2817e0\" x=\"69.015625\" y=\"145.8\" style=\"stroke: #000000; stroke-width: 0.8\"/>\n      </g>\n     </g>\n     <g id=\"text_2\">\n      <!-- 0.5 -->\n      <g transform=\"translate(61.064062 160.398438) scale(0.1 -0.1)\">\n       <defs>\n        <path id=\"DejaVuSans-35\" d=\"M 691 4666 \nL 3169 4666 \nL 3169 4134 \nL 1269 4134 \nL 1269 2991 \nQ 1406 3038 1543 3061 \nQ 1681 3084 1819 3084 \nQ 2600 3084 3056 2656 \nQ 3513 2228 3513 1497 \nQ 3513 744 3044 326 \nQ 2575 -91 1722 -91 \nQ 1428 -91 1123 -41 \nQ 819 9 494 109 \nL 494 744 \nQ 775 591 1075 516 \nQ 1375 441 1709 441 \nQ 2250 441 2565 725 \nQ 2881 1009 2881 1497 \nQ 2881 1984 2565 2268 \nQ 2250 2553 1709 2553 \nQ 1456 2553 1204 2497 \nQ 953 2441 691 2322 \nL 691 4666 \nz\n\" transform=\"scale(0.015625)\"/>\n       </defs>\n       <use xlink:href=\"#DejaVuSans-30\"/>\n       <use xlink:href=\"#DejaVuSans-2e\" x=\"63.623047\"/>\n       <use xlink:href=\"#DejaVuSans-35\" x=\"95.410156\"/>\n      </g>\n     </g>\n    </g>\n    <g id=\"xtick_3\">\n     <g id=\"line2d_3\">\n      <g>\n       <use xlink:href=\"#mb5ef2817e0\" x=\"101.565625\" y=\"145.8\" style=\"stroke: #000000; stroke-width: 0.8\"/>\n      </g>\n     </g>\n     <g id=\"text_3\">\n      <!-- 1.0 -->\n      <g transform=\"translate(93.614063 160.398438) scale(0.1 -0.1)\">\n       <defs>\n        <path id=\"DejaVuSans-31\" d=\"M 794 531 \nL 1825 531 \nL 1825 4091 \nL 703 3866 \nL 703 4441 \nL 1819 4666 \nL 2450 4666 \nL 2450 531 \nL 3481 531 \nL 3481 0 \nL 794 0 \nL 794 531 \nz\n\" transform=\"scale(0.015625)\"/>\n       </defs>\n       <use xlink:href=\"#DejaVuSans-31\"/>\n       <use xlink:href=\"#DejaVuSans-2e\" x=\"63.623047\"/>\n       <use xlink:href=\"#DejaVuSans-30\" x=\"95.410156\"/>\n      </g>\n     </g>\n    </g>\n    <g id=\"xtick_4\">\n     <g id=\"line2d_4\">\n      <g>\n       <use xlink:href=\"#mb5ef2817e0\" x=\"134.115625\" y=\"145.8\" style=\"stroke: #000000; stroke-width: 0.8\"/>\n      </g>\n     </g>\n     <g id=\"text_4\">\n      <!-- 1.5 -->\n      <g transform=\"translate(126.164062 160.398438) scale(0.1 -0.1)\">\n       <use xlink:href=\"#DejaVuSans-31\"/>\n       <use xlink:href=\"#DejaVuSans-2e\" x=\"63.623047\"/>\n       <use xlink:href=\"#DejaVuSans-35\" x=\"95.410156\"/>\n      </g>\n     </g>\n    </g>\n    <g id=\"xtick_5\">\n     <g id=\"line2d_5\">\n      <g>\n       <use xlink:href=\"#mb5ef2817e0\" x=\"166.665625\" y=\"145.8\" style=\"stroke: #000000; stroke-width: 0.8\"/>\n      </g>\n     </g>\n     <g id=\"text_5\">\n      <!-- 2.0 -->\n      <g transform=\"translate(158.714062 160.398438) scale(0.1 -0.1)\">\n       <defs>\n        <path id=\"DejaVuSans-32\" d=\"M 1228 531 \nL 3431 531 \nL 3431 0 \nL 469 0 \nL 469 531 \nQ 828 903 1448 1529 \nQ 2069 2156 2228 2338 \nQ 2531 2678 2651 2914 \nQ 2772 3150 2772 3378 \nQ 2772 3750 2511 3984 \nQ 2250 4219 1831 4219 \nQ 1534 4219 1204 4116 \nQ 875 4013 500 3803 \nL 500 4441 \nQ 881 4594 1212 4672 \nQ 1544 4750 1819 4750 \nQ 2544 4750 2975 4387 \nQ 3406 4025 3406 3419 \nQ 3406 3131 3298 2873 \nQ 3191 2616 2906 2266 \nQ 2828 2175 2409 1742 \nQ 1991 1309 1228 531 \nz\n\" transform=\"scale(0.015625)\"/>\n       </defs>\n       <use xlink:href=\"#DejaVuSans-32\"/>\n       <use xlink:href=\"#DejaVuSans-2e\" x=\"63.623047\"/>\n       <use xlink:href=\"#DejaVuSans-30\" x=\"95.410156\"/>\n      </g>\n     </g>\n    </g>\n    <g id=\"xtick_6\">\n     <g id=\"line2d_6\">\n      <g>\n       <use xlink:href=\"#mb5ef2817e0\" x=\"199.215625\" y=\"145.8\" style=\"stroke: #000000; stroke-width: 0.8\"/>\n      </g>\n     </g>\n     <g id=\"text_6\">\n      <!-- 2.5 -->\n      <g transform=\"translate(191.264062 160.398438) scale(0.1 -0.1)\">\n       <use xlink:href=\"#DejaVuSans-32\"/>\n       <use xlink:href=\"#DejaVuSans-2e\" x=\"63.623047\"/>\n       <use xlink:href=\"#DejaVuSans-35\" x=\"95.410156\"/>\n      </g>\n     </g>\n    </g>\n    <g id=\"xtick_7\">\n     <g id=\"line2d_7\">\n      <g>\n       <use xlink:href=\"#mb5ef2817e0\" x=\"231.765625\" y=\"145.8\" style=\"stroke: #000000; stroke-width: 0.8\"/>\n      </g>\n     </g>\n     <g id=\"text_7\">\n      <!-- 3.0 -->\n      <g transform=\"translate(223.814063 160.398438) scale(0.1 -0.1)\">\n       <defs>\n        <path id=\"DejaVuSans-33\" d=\"M 2597 2516 \nQ 3050 2419 3304 2112 \nQ 3559 1806 3559 1356 \nQ 3559 666 3084 287 \nQ 2609 -91 1734 -91 \nQ 1441 -91 1130 -33 \nQ 819 25 488 141 \nL 488 750 \nQ 750 597 1062 519 \nQ 1375 441 1716 441 \nQ 2309 441 2620 675 \nQ 2931 909 2931 1356 \nQ 2931 1769 2642 2001 \nQ 2353 2234 1838 2234 \nL 1294 2234 \nL 1294 2753 \nL 1863 2753 \nQ 2328 2753 2575 2939 \nQ 2822 3125 2822 3475 \nQ 2822 3834 2567 4026 \nQ 2313 4219 1838 4219 \nQ 1578 4219 1281 4162 \nQ 984 4106 628 3988 \nL 628 4550 \nQ 988 4650 1302 4700 \nQ 1616 4750 1894 4750 \nQ 2613 4750 3031 4423 \nQ 3450 4097 3450 3541 \nQ 3450 3153 3228 2886 \nQ 3006 2619 2597 2516 \nz\n\" transform=\"scale(0.015625)\"/>\n       </defs>\n       <use xlink:href=\"#DejaVuSans-33\"/>\n       <use xlink:href=\"#DejaVuSans-2e\" x=\"63.623047\"/>\n       <use xlink:href=\"#DejaVuSans-30\" x=\"95.410156\"/>\n      </g>\n     </g>\n    </g>\n    <g id=\"text_8\">\n     <!-- epoch -->\n     <g transform=\"translate(118.8875 174.076563) scale(0.1 -0.1)\">\n      <defs>\n       <path id=\"DejaVuSans-65\" d=\"M 3597 1894 \nL 3597 1613 \nL 953 1613 \nQ 991 1019 1311 708 \nQ 1631 397 2203 397 \nQ 2534 397 2845 478 \nQ 3156 559 3463 722 \nL 3463 178 \nQ 3153 47 2828 -22 \nQ 2503 -91 2169 -91 \nQ 1331 -91 842 396 \nQ 353 884 353 1716 \nQ 353 2575 817 3079 \nQ 1281 3584 2069 3584 \nQ 2775 3584 3186 3129 \nQ 3597 2675 3597 1894 \nz\nM 3022 2063 \nQ 3016 2534 2758 2815 \nQ 2500 3097 2075 3097 \nQ 1594 3097 1305 2825 \nQ 1016 2553 972 2059 \nL 3022 2063 \nz\n\" transform=\"scale(0.015625)\"/>\n       <path id=\"DejaVuSans-70\" d=\"M 1159 525 \nL 1159 -1331 \nL 581 -1331 \nL 581 3500 \nL 1159 3500 \nL 1159 2969 \nQ 1341 3281 1617 3432 \nQ 1894 3584 2278 3584 \nQ 2916 3584 3314 3078 \nQ 3713 2572 3713 1747 \nQ 3713 922 3314 415 \nQ 2916 -91 2278 -91 \nQ 1894 -91 1617 61 \nQ 1341 213 1159 525 \nz\nM 3116 1747 \nQ 3116 2381 2855 2742 \nQ 2594 3103 2138 3103 \nQ 1681 3103 1420 2742 \nQ 1159 2381 1159 1747 \nQ 1159 1113 1420 752 \nQ 1681 391 2138 391 \nQ 2594 391 2855 752 \nQ 3116 1113 3116 1747 \nz\n\" transform=\"scale(0.015625)\"/>\n       <path id=\"DejaVuSans-6f\" d=\"M 1959 3097 \nQ 1497 3097 1228 2736 \nQ 959 2375 959 1747 \nQ 959 1119 1226 758 \nQ 1494 397 1959 397 \nQ 2419 397 2687 759 \nQ 2956 1122 2956 1747 \nQ 2956 2369 2687 2733 \nQ 2419 3097 1959 3097 \nz\nM 1959 3584 \nQ 2709 3584 3137 3096 \nQ 3566 2609 3566 1747 \nQ 3566 888 3137 398 \nQ 2709 -91 1959 -91 \nQ 1206 -91 779 398 \nQ 353 888 353 1747 \nQ 353 2609 779 3096 \nQ 1206 3584 1959 3584 \nz\n\" transform=\"scale(0.015625)\"/>\n       <path id=\"DejaVuSans-63\" d=\"M 3122 3366 \nL 3122 2828 \nQ 2878 2963 2633 3030 \nQ 2388 3097 2138 3097 \nQ 1578 3097 1268 2742 \nQ 959 2388 959 1747 \nQ 959 1106 1268 751 \nQ 1578 397 2138 397 \nQ 2388 397 2633 464 \nQ 2878 531 3122 666 \nL 3122 134 \nQ 2881 22 2623 -34 \nQ 2366 -91 2075 -91 \nQ 1284 -91 818 406 \nQ 353 903 353 1747 \nQ 353 2603 823 3093 \nQ 1294 3584 2113 3584 \nQ 2378 3584 2631 3529 \nQ 2884 3475 3122 3366 \nz\n\" transform=\"scale(0.015625)\"/>\n       <path id=\"DejaVuSans-68\" d=\"M 3513 2113 \nL 3513 0 \nL 2938 0 \nL 2938 2094 \nQ 2938 2591 2744 2837 \nQ 2550 3084 2163 3084 \nQ 1697 3084 1428 2787 \nQ 1159 2491 1159 1978 \nL 1159 0 \nL 581 0 \nL 581 4863 \nL 1159 4863 \nL 1159 2956 \nQ 1366 3272 1645 3428 \nQ 1925 3584 2291 3584 \nQ 2894 3584 3203 3211 \nQ 3513 2838 3513 2113 \nz\n\" transform=\"scale(0.015625)\"/>\n      </defs>\n      <use xlink:href=\"#DejaVuSans-65\"/>\n      <use xlink:href=\"#DejaVuSans-70\" x=\"61.523438\"/>\n      <use xlink:href=\"#DejaVuSans-6f\" x=\"125\"/>\n      <use xlink:href=\"#DejaVuSans-63\" x=\"186.181641\"/>\n      <use xlink:href=\"#DejaVuSans-68\" x=\"241.162109\"/>\n     </g>\n    </g>\n   </g>\n   <g id=\"matplotlib.axis_2\">\n    <g id=\"ytick_1\">\n     <g id=\"line2d_8\">\n      <defs>\n       <path id=\"m645f0e131b\" d=\"M 0 0 \nL -3.5 0 \n\" style=\"stroke: #000000; stroke-width: 0.8\"/>\n      </defs>\n      <g>\n       <use xlink:href=\"#m645f0e131b\" x=\"36.465625\" y=\"140.007962\" style=\"stroke: #000000; stroke-width: 0.8\"/>\n      </g>\n     </g>\n     <g id=\"text_9\">\n      <!-- 0.0 -->\n      <g transform=\"translate(13.5625 143.807181) scale(0.1 -0.1)\">\n       <use xlink:href=\"#DejaVuSans-30\"/>\n       <use xlink:href=\"#DejaVuSans-2e\" x=\"63.623047\"/>\n       <use xlink:href=\"#DejaVuSans-30\" x=\"95.410156\"/>\n      </g>\n     </g>\n    </g>\n    <g id=\"ytick_2\">\n     <g id=\"line2d_9\">\n      <g>\n       <use xlink:href=\"#m645f0e131b\" x=\"36.465625\" y=\"111.594853\" style=\"stroke: #000000; stroke-width: 0.8\"/>\n      </g>\n     </g>\n     <g id=\"text_10\">\n      <!-- 2.5 -->\n      <g transform=\"translate(13.5625 115.394072) scale(0.1 -0.1)\">\n       <use xlink:href=\"#DejaVuSans-32\"/>\n       <use xlink:href=\"#DejaVuSans-2e\" x=\"63.623047\"/>\n       <use xlink:href=\"#DejaVuSans-35\" x=\"95.410156\"/>\n      </g>\n     </g>\n    </g>\n    <g id=\"ytick_3\">\n     <g id=\"line2d_10\">\n      <g>\n       <use xlink:href=\"#m645f0e131b\" x=\"36.465625\" y=\"83.181744\" style=\"stroke: #000000; stroke-width: 0.8\"/>\n      </g>\n     </g>\n     <g id=\"text_11\">\n      <!-- 5.0 -->\n      <g transform=\"translate(13.5625 86.980963) scale(0.1 -0.1)\">\n       <use xlink:href=\"#DejaVuSans-35\"/>\n       <use xlink:href=\"#DejaVuSans-2e\" x=\"63.623047\"/>\n       <use xlink:href=\"#DejaVuSans-30\" x=\"95.410156\"/>\n      </g>\n     </g>\n    </g>\n    <g id=\"ytick_4\">\n     <g id=\"line2d_11\">\n      <g>\n       <use xlink:href=\"#m645f0e131b\" x=\"36.465625\" y=\"54.768635\" style=\"stroke: #000000; stroke-width: 0.8\"/>\n      </g>\n     </g>\n     <g id=\"text_12\">\n      <!-- 7.5 -->\n      <g transform=\"translate(13.5625 58.567854) scale(0.1 -0.1)\">\n       <defs>\n        <path id=\"DejaVuSans-37\" d=\"M 525 4666 \nL 3525 4666 \nL 3525 4397 \nL 1831 0 \nL 1172 0 \nL 2766 4134 \nL 525 4134 \nL 525 4666 \nz\n\" transform=\"scale(0.015625)\"/>\n       </defs>\n       <use xlink:href=\"#DejaVuSans-37\"/>\n       <use xlink:href=\"#DejaVuSans-2e\" x=\"63.623047\"/>\n       <use xlink:href=\"#DejaVuSans-35\" x=\"95.410156\"/>\n      </g>\n     </g>\n    </g>\n    <g id=\"ytick_5\">\n     <g id=\"line2d_12\">\n      <g>\n       <use xlink:href=\"#m645f0e131b\" x=\"36.465625\" y=\"26.355527\" style=\"stroke: #000000; stroke-width: 0.8\"/>\n      </g>\n     </g>\n     <g id=\"text_13\">\n      <!-- 10.0 -->\n      <g transform=\"translate(7.2 30.154745) scale(0.1 -0.1)\">\n       <use xlink:href=\"#DejaVuSans-31\"/>\n       <use xlink:href=\"#DejaVuSans-30\" x=\"63.623047\"/>\n       <use xlink:href=\"#DejaVuSans-2e\" x=\"127.246094\"/>\n       <use xlink:href=\"#DejaVuSans-30\" x=\"159.033203\"/>\n      </g>\n     </g>\n    </g>\n   </g>\n   <g id=\"line2d_13\">\n    <path d=\"M 51.723438 13.5 \n\" clip-path=\"url(#pd42d455fc8)\" style=\"fill: none; stroke: #1f77b4; stroke-width: 1.5; stroke-linecap: square\"/>\n   </g>\n   <g id=\"line2d_14\">\n    <path d=\"M 51.723438 13.5 \nL 84.273438 93.545666 \n\" clip-path=\"url(#pd42d455fc8)\" style=\"fill: none; stroke: #1f77b4; stroke-width: 1.5; stroke-linecap: square\"/>\n   </g>\n   <g id=\"line2d_15\">\n    <path d=\"M 51.723438 13.5 \nL 84.273438 93.545666 \n\" clip-path=\"url(#pd42d455fc8)\" style=\"fill: none; stroke: #1f77b4; stroke-width: 1.5; stroke-linecap: square\"/>\n   </g>\n   <g id=\"line2d_16\">\n    <path d=\"M 101.565625 114.282564 \n\" clip-path=\"url(#pd42d455fc8)\" style=\"fill: none; stroke-dasharray: 5.55,2.4; stroke-dashoffset: 0; stroke: #ff7f0e; stroke-width: 1.5\"/>\n   </g>\n   <g id=\"line2d_17\">\n    <path d=\"M 51.723438 13.5 \nL 84.273438 93.545666 \nL 116.823437 123.498797 \n\" clip-path=\"url(#pd42d455fc8)\" style=\"fill: none; stroke: #1f77b4; stroke-width: 1.5; stroke-linecap: square\"/>\n   </g>\n   <g id=\"line2d_18\">\n    <path d=\"M 101.565625 114.282564 \n\" clip-path=\"url(#pd42d455fc8)\" style=\"fill: none; stroke-dasharray: 5.55,2.4; stroke-dashoffset: 0; stroke: #ff7f0e; stroke-width: 1.5\"/>\n   </g>\n   <g id=\"line2d_19\">\n    <path d=\"M 51.723438 13.5 \nL 84.273438 93.545666 \nL 116.823437 123.498797 \nL 149.373437 133.15837 \n\" clip-path=\"url(#pd42d455fc8)\" style=\"fill: none; stroke: #1f77b4; stroke-width: 1.5; stroke-linecap: square\"/>\n   </g>\n   <g id=\"line2d_20\">\n    <path d=\"M 101.565625 114.282564 \n\" clip-path=\"url(#pd42d455fc8)\" style=\"fill: none; stroke-dasharray: 5.55,2.4; stroke-dashoffset: 0; stroke: #ff7f0e; stroke-width: 1.5\"/>\n   </g>\n   <g id=\"line2d_21\">\n    <path d=\"M 51.723438 13.5 \nL 84.273438 93.545666 \nL 116.823437 123.498797 \nL 149.373437 133.15837 \n\" clip-path=\"url(#pd42d455fc8)\" style=\"fill: none; stroke: #1f77b4; stroke-width: 1.5; stroke-linecap: square\"/>\n   </g>\n   <g id=\"line2d_22\">\n    <path d=\"M 101.565625 114.282564 \nL 166.665625 136.335277 \n\" clip-path=\"url(#pd42d455fc8)\" style=\"fill: none; stroke-dasharray: 5.55,2.4; stroke-dashoffset: 0; stroke: #ff7f0e; stroke-width: 1.5\"/>\n   </g>\n   <g id=\"line2d_23\">\n    <path d=\"M 51.723438 13.5 \nL 84.273438 93.545666 \nL 116.823437 123.498797 \nL 149.373437 133.15837 \nL 181.923437 137.545354 \n\" clip-path=\"url(#pd42d455fc8)\" style=\"fill: none; stroke: #1f77b4; stroke-width: 1.5; stroke-linecap: square\"/>\n   </g>\n   <g id=\"line2d_24\">\n    <path d=\"M 101.565625 114.282564 \nL 166.665625 136.335277 \n\" clip-path=\"url(#pd42d455fc8)\" style=\"fill: none; stroke-dasharray: 5.55,2.4; stroke-dashoffset: 0; stroke: #ff7f0e; stroke-width: 1.5\"/>\n   </g>\n   <g id=\"line2d_25\">\n    <path d=\"M 51.723438 13.5 \nL 84.273438 93.545666 \nL 116.823437 123.498797 \nL 149.373437 133.15837 \nL 181.923437 137.545354 \nL 214.473437 139.118716 \n\" clip-path=\"url(#pd42d455fc8)\" style=\"fill: none; stroke: #1f77b4; stroke-width: 1.5; stroke-linecap: square\"/>\n   </g>\n   <g id=\"line2d_26\">\n    <path d=\"M 101.565625 114.282564 \nL 166.665625 136.335277 \n\" clip-path=\"url(#pd42d455fc8)\" style=\"fill: none; stroke-dasharray: 5.55,2.4; stroke-dashoffset: 0; stroke: #ff7f0e; stroke-width: 1.5\"/>\n   </g>\n   <g id=\"line2d_27\">\n    <path d=\"M 51.723438 13.5 \nL 84.273438 93.545666 \nL 116.823437 123.498797 \nL 149.373437 133.15837 \nL 181.923437 137.545354 \nL 214.473437 139.118716 \n\" clip-path=\"url(#pd42d455fc8)\" style=\"fill: none; stroke: #1f77b4; stroke-width: 1.5; stroke-linecap: square\"/>\n   </g>\n   <g id=\"line2d_28\">\n    <path d=\"M 101.565625 114.282564 \nL 166.665625 136.335277 \nL 231.765625 139.5 \n\" clip-path=\"url(#pd42d455fc8)\" style=\"fill: none; stroke-dasharray: 5.55,2.4; stroke-dashoffset: 0; stroke: #ff7f0e; stroke-width: 1.5\"/>\n   </g>\n   <g id=\"patch_3\">\n    <path d=\"M 36.465625 145.8 \nL 36.465625 7.2 \n\" style=\"fill: none; stroke: #000000; stroke-width: 0.8; stroke-linejoin: miter; stroke-linecap: square\"/>\n   </g>\n   <g id=\"patch_4\">\n    <path d=\"M 231.765625 145.8 \nL 231.765625 7.2 \n\" style=\"fill: none; stroke: #000000; stroke-width: 0.8; stroke-linejoin: miter; stroke-linecap: square\"/>\n   </g>\n   <g id=\"patch_5\">\n    <path d=\"M 36.465625 145.8 \nL 231.765625 145.8 \n\" style=\"fill: none; stroke: #000000; stroke-width: 0.8; stroke-linejoin: miter; stroke-linecap: square\"/>\n   </g>\n   <g id=\"patch_6\">\n    <path d=\"M 36.465625 7.2 \nL 231.765625 7.2 \n\" style=\"fill: none; stroke: #000000; stroke-width: 0.8; stroke-linejoin: miter; stroke-linecap: square\"/>\n   </g>\n   <g id=\"legend_1\">\n    <g id=\"patch_7\">\n     <path d=\"M 145.175 45.1125 \nL 224.765625 45.1125 \nQ 226.765625 45.1125 226.765625 43.1125 \nL 226.765625 14.2 \nQ 226.765625 12.2 224.765625 12.2 \nL 145.175 12.2 \nQ 143.175 12.2 143.175 14.2 \nL 143.175 43.1125 \nQ 143.175 45.1125 145.175 45.1125 \nz\n\" style=\"fill: #ffffff; opacity: 0.8; stroke: #cccccc; stroke-linejoin: miter\"/>\n    </g>\n    <g id=\"line2d_29\">\n     <path d=\"M 147.175 20.298438 \nL 157.175 20.298438 \nL 167.175 20.298438 \n\" style=\"fill: none; stroke: #1f77b4; stroke-width: 1.5; stroke-linecap: square\"/>\n    </g>\n    <g id=\"text_14\">\n     <!-- train_loss -->\n     <g transform=\"translate(175.175 23.798438) scale(0.1 -0.1)\">\n      <defs>\n       <path id=\"DejaVuSans-74\" d=\"M 1172 4494 \nL 1172 3500 \nL 2356 3500 \nL 2356 3053 \nL 1172 3053 \nL 1172 1153 \nQ 1172 725 1289 603 \nQ 1406 481 1766 481 \nL 2356 481 \nL 2356 0 \nL 1766 0 \nQ 1100 0 847 248 \nQ 594 497 594 1153 \nL 594 3053 \nL 172 3053 \nL 172 3500 \nL 594 3500 \nL 594 4494 \nL 1172 4494 \nz\n\" transform=\"scale(0.015625)\"/>\n       <path id=\"DejaVuSans-72\" d=\"M 2631 2963 \nQ 2534 3019 2420 3045 \nQ 2306 3072 2169 3072 \nQ 1681 3072 1420 2755 \nQ 1159 2438 1159 1844 \nL 1159 0 \nL 581 0 \nL 581 3500 \nL 1159 3500 \nL 1159 2956 \nQ 1341 3275 1631 3429 \nQ 1922 3584 2338 3584 \nQ 2397 3584 2469 3576 \nQ 2541 3569 2628 3553 \nL 2631 2963 \nz\n\" transform=\"scale(0.015625)\"/>\n       <path id=\"DejaVuSans-61\" d=\"M 2194 1759 \nQ 1497 1759 1228 1600 \nQ 959 1441 959 1056 \nQ 959 750 1161 570 \nQ 1363 391 1709 391 \nQ 2188 391 2477 730 \nQ 2766 1069 2766 1631 \nL 2766 1759 \nL 2194 1759 \nz\nM 3341 1997 \nL 3341 0 \nL 2766 0 \nL 2766 531 \nQ 2569 213 2275 61 \nQ 1981 -91 1556 -91 \nQ 1019 -91 701 211 \nQ 384 513 384 1019 \nQ 384 1609 779 1909 \nQ 1175 2209 1959 2209 \nL 2766 2209 \nL 2766 2266 \nQ 2766 2663 2505 2880 \nQ 2244 3097 1772 3097 \nQ 1472 3097 1187 3025 \nQ 903 2953 641 2809 \nL 641 3341 \nQ 956 3463 1253 3523 \nQ 1550 3584 1831 3584 \nQ 2591 3584 2966 3190 \nQ 3341 2797 3341 1997 \nz\n\" transform=\"scale(0.015625)\"/>\n       <path id=\"DejaVuSans-69\" d=\"M 603 3500 \nL 1178 3500 \nL 1178 0 \nL 603 0 \nL 603 3500 \nz\nM 603 4863 \nL 1178 4863 \nL 1178 4134 \nL 603 4134 \nL 603 4863 \nz\n\" transform=\"scale(0.015625)\"/>\n       <path id=\"DejaVuSans-6e\" d=\"M 3513 2113 \nL 3513 0 \nL 2938 0 \nL 2938 2094 \nQ 2938 2591 2744 2837 \nQ 2550 3084 2163 3084 \nQ 1697 3084 1428 2787 \nQ 1159 2491 1159 1978 \nL 1159 0 \nL 581 0 \nL 581 3500 \nL 1159 3500 \nL 1159 2956 \nQ 1366 3272 1645 3428 \nQ 1925 3584 2291 3584 \nQ 2894 3584 3203 3211 \nQ 3513 2838 3513 2113 \nz\n\" transform=\"scale(0.015625)\"/>\n       <path id=\"DejaVuSans-5f\" d=\"M 3263 -1063 \nL 3263 -1509 \nL -63 -1509 \nL -63 -1063 \nL 3263 -1063 \nz\n\" transform=\"scale(0.015625)\"/>\n       <path id=\"DejaVuSans-6c\" d=\"M 603 4863 \nL 1178 4863 \nL 1178 0 \nL 603 0 \nL 603 4863 \nz\n\" transform=\"scale(0.015625)\"/>\n       <path id=\"DejaVuSans-73\" d=\"M 2834 3397 \nL 2834 2853 \nQ 2591 2978 2328 3040 \nQ 2066 3103 1784 3103 \nQ 1356 3103 1142 2972 \nQ 928 2841 928 2578 \nQ 928 2378 1081 2264 \nQ 1234 2150 1697 2047 \nL 1894 2003 \nQ 2506 1872 2764 1633 \nQ 3022 1394 3022 966 \nQ 3022 478 2636 193 \nQ 2250 -91 1575 -91 \nQ 1294 -91 989 -36 \nQ 684 19 347 128 \nL 347 722 \nQ 666 556 975 473 \nQ 1284 391 1588 391 \nQ 1994 391 2212 530 \nQ 2431 669 2431 922 \nQ 2431 1156 2273 1281 \nQ 2116 1406 1581 1522 \nL 1381 1569 \nQ 847 1681 609 1914 \nQ 372 2147 372 2553 \nQ 372 3047 722 3315 \nQ 1072 3584 1716 3584 \nQ 2034 3584 2315 3537 \nQ 2597 3491 2834 3397 \nz\n\" transform=\"scale(0.015625)\"/>\n      </defs>\n      <use xlink:href=\"#DejaVuSans-74\"/>\n      <use xlink:href=\"#DejaVuSans-72\" x=\"39.208984\"/>\n      <use xlink:href=\"#DejaVuSans-61\" x=\"80.322266\"/>\n      <use xlink:href=\"#DejaVuSans-69\" x=\"141.601562\"/>\n      <use xlink:href=\"#DejaVuSans-6e\" x=\"169.384766\"/>\n      <use xlink:href=\"#DejaVuSans-5f\" x=\"232.763672\"/>\n      <use xlink:href=\"#DejaVuSans-6c\" x=\"282.763672\"/>\n      <use xlink:href=\"#DejaVuSans-6f\" x=\"310.546875\"/>\n      <use xlink:href=\"#DejaVuSans-73\" x=\"371.728516\"/>\n      <use xlink:href=\"#DejaVuSans-73\" x=\"423.828125\"/>\n     </g>\n    </g>\n    <g id=\"line2d_30\">\n     <path d=\"M 147.175 35.254688 \nL 157.175 35.254688 \nL 167.175 35.254688 \n\" style=\"fill: none; stroke-dasharray: 5.55,2.4; stroke-dashoffset: 0; stroke: #ff7f0e; stroke-width: 1.5\"/>\n    </g>\n    <g id=\"text_15\">\n     <!-- val_loss -->\n     <g transform=\"translate(175.175 38.754688) scale(0.1 -0.1)\">\n      <defs>\n       <path id=\"DejaVuSans-76\" d=\"M 191 3500 \nL 800 3500 \nL 1894 563 \nL 2988 3500 \nL 3597 3500 \nL 2284 0 \nL 1503 0 \nL 191 3500 \nz\n\" transform=\"scale(0.015625)\"/>\n      </defs>\n      <use xlink:href=\"#DejaVuSans-76\"/>\n      <use xlink:href=\"#DejaVuSans-61\" x=\"59.179688\"/>\n      <use xlink:href=\"#DejaVuSans-6c\" x=\"120.458984\"/>\n      <use xlink:href=\"#DejaVuSans-5f\" x=\"148.242188\"/>\n      <use xlink:href=\"#DejaVuSans-6c\" x=\"198.242188\"/>\n      <use xlink:href=\"#DejaVuSans-6f\" x=\"226.025391\"/>\n      <use xlink:href=\"#DejaVuSans-73\" x=\"287.207031\"/>\n      <use xlink:href=\"#DejaVuSans-73\" x=\"339.306641\"/>\n     </g>\n    </g>\n   </g>\n  </g>\n </g>\n <defs>\n  <clipPath id=\"pd42d455fc8\">\n   <rect x=\"36.465625\" y=\"7.2\" width=\"195.3\" height=\"138.6\"/>\n  </clipPath>\n </defs>\n</svg>\n"
          },
          "metadata": {}
        }
      ]
    },
    {
      "cell_type": "code",
      "source": [
        "with torch.no_grad():\n",
        "    print(f'error in estimating w: {data.w - model.w.reshape(data.w.shape)}')\n",
        "    print(f'error in estimating b: {data.b - model.b}')"
      ],
      "metadata": {
        "colab": {
          "base_uri": "https://localhost:8080/"
        },
        "id": "iGnykiRJ-fkx",
        "outputId": "35c46481-cdbb-4ccb-cf3a-e021c4ab77f8"
      },
      "execution_count": null,
      "outputs": [
        {
          "output_type": "stream",
          "name": "stdout",
          "text": [
            "error in estimating w: tensor([ 0.1226, -0.1776])\n",
            "error in estimating b: tensor([0.2062])\n"
          ]
        }
      ]
    },
    {
      "cell_type": "markdown",
      "source": [
        "## 4.1. Softmax Regression"
      ],
      "metadata": {
        "id": "sP8iZFT9A-OP"
      }
    },
    {
      "cell_type": "markdown",
      "source": [
        "### 4.1 Memo\n",
        "- Softmax regression extends linear regression to classification problems by converting the output into probabilities for multiple classes using the softmax function.\n",
        "- Many deep learning papers use intuition and terms from information theory. To make sense of them, we need some common language. This is a survival guide. Information theory deals with the problem of encoding, decoding, transmitting, and manipulating information (also known as data)."
      ],
      "metadata": {
        "id": "RS7bjdy1Wdf3"
      }
    },
    {
      "cell_type": "markdown",
      "source": [
        "- The Softmax\n",
        "$$\n",
        "\\hat{\\mathbf{y}} = \\text{softmax}(\\mathbf{o}) \\quad \\text{where} \\quad \\hat{y}_i = \\frac{\\exp(o_i)}{\\sum_j \\exp(o_j)}\n",
        "$$\n",
        "\n",
        "- Vectorization\n",
        "$$\n",
        "\\mathbf{O} = \\mathbf{XW} + \\mathbf{b},\n",
        "$$\n",
        "\n",
        "$$\n",
        "\\hat{\\mathbf{Y}} = \\text{softmax}(\\mathbf{O}).\n",
        "$$\n",
        "\n",
        "- Loss Function, $ l $\n",
        "$$\n",
        "l(\\mathbf{y}, \\hat{\\mathbf{y}}) = - \\sum_{j=1}^{q} y_j \\log \\hat{y}_j.\n",
        "$$\n",
        "\n",
        "- Cross-Entropy Loss\n",
        "$$\n",
        "\\frac{\\partial l(\\mathbf{y}, \\hat{\\mathbf{y}})}{\\partial o_j} = \\frac{\\exp(o_j)}{\\sum_{k=1}^{q} \\exp(o_k)} - y_j = \\text{softmax}(\\mathbf{o})_j - y_j.\n",
        "$$\n",
        "\n",
        "- Entropy\n",
        "$$\n",
        "H[P] = \\sum_j -P(j) \\log P(j).\n",
        "$$\n"
      ],
      "metadata": {
        "id": "7PVXNMLvVzJf"
      }
    },
    {
      "cell_type": "markdown",
      "source": [
        "## 4.2. The Image Classification Dataset"
      ],
      "metadata": {
        "id": "Vqfs973BBCwt"
      }
    },
    {
      "cell_type": "markdown",
      "source": [
        "### 4.2 Memo\n",
        "- Fashion-MNIST is an apparel classification dataset consisting of images representing 10 categories. We will use this dataset in subsequent sections and chapters to evaluate various network designs, from a simple linear model to advanced residual networks\n",
        "- Data iterators are a key component for efficient performance. For instance, we might use GPUs for efficient image decompression, video transcoding, or other preprocessing."
      ],
      "metadata": {
        "id": "_k-56zDIWuu-"
      }
    },
    {
      "cell_type": "code",
      "source": [
        "%matplotlib inline\n",
        "import time\n",
        "import torch\n",
        "import torchvision\n",
        "from torchvision import transforms\n",
        "from d2l import torch as d2l\n",
        "\n",
        "d2l.use_svg_display()"
      ],
      "metadata": {
        "id": "7YBz1bOI-zUq"
      },
      "execution_count": null,
      "outputs": []
    },
    {
      "cell_type": "markdown",
      "source": [
        "### 4.2.1. Loading the Dataset"
      ],
      "metadata": {
        "id": "yS5HMVNJ-1S0"
      }
    },
    {
      "cell_type": "code",
      "source": [
        "class FashionMNIST(d2l.DataModule):\n",
        "    \"\"\"The Fashion-MNIST dataset.\"\"\"\n",
        "    def __init__(self, batch_size=64, resize=(28, 28)):\n",
        "        super().__init__()\n",
        "        self.save_hyperparameters()\n",
        "        trans = transforms.Compose([transforms.Resize(resize),\n",
        "                                    transforms.ToTensor()])\n",
        "        self.train = torchvision.datasets.FashionMNIST(\n",
        "            root=self.root, train=True, transform=trans, download=True)\n",
        "        self.val = torchvision.datasets.FashionMNIST(\n",
        "            root=self.root, train=False, transform=trans, download=True)"
      ],
      "metadata": {
        "id": "8mXIDmq_-29a"
      },
      "execution_count": null,
      "outputs": []
    },
    {
      "cell_type": "code",
      "source": [
        "data = FashionMNIST(resize=(32, 32))\n",
        "len(data.train), len(data.val)"
      ],
      "metadata": {
        "colab": {
          "base_uri": "https://localhost:8080/"
        },
        "id": "02IB-clL-5ft",
        "outputId": "271bab09-eb97-4467-cd77-759df34db8e8"
      },
      "execution_count": null,
      "outputs": [
        {
          "output_type": "stream",
          "name": "stdout",
          "text": [
            "Downloading http://fashion-mnist.s3-website.eu-central-1.amazonaws.com/train-images-idx3-ubyte.gz\n",
            "Downloading http://fashion-mnist.s3-website.eu-central-1.amazonaws.com/train-images-idx3-ubyte.gz to ../data/FashionMNIST/raw/train-images-idx3-ubyte.gz\n"
          ]
        },
        {
          "output_type": "stream",
          "name": "stderr",
          "text": [
            "100%|██████████| 26.4M/26.4M [00:02<00:00, 10.9MB/s]\n"
          ]
        },
        {
          "output_type": "stream",
          "name": "stdout",
          "text": [
            "Extracting ../data/FashionMNIST/raw/train-images-idx3-ubyte.gz to ../data/FashionMNIST/raw\n",
            "\n",
            "Downloading http://fashion-mnist.s3-website.eu-central-1.amazonaws.com/train-labels-idx1-ubyte.gz\n",
            "Downloading http://fashion-mnist.s3-website.eu-central-1.amazonaws.com/train-labels-idx1-ubyte.gz to ../data/FashionMNIST/raw/train-labels-idx1-ubyte.gz\n"
          ]
        },
        {
          "output_type": "stream",
          "name": "stderr",
          "text": [
            "100%|██████████| 29.5k/29.5k [00:00<00:00, 209kB/s]\n"
          ]
        },
        {
          "output_type": "stream",
          "name": "stdout",
          "text": [
            "Extracting ../data/FashionMNIST/raw/train-labels-idx1-ubyte.gz to ../data/FashionMNIST/raw\n",
            "\n",
            "Downloading http://fashion-mnist.s3-website.eu-central-1.amazonaws.com/t10k-images-idx3-ubyte.gz\n",
            "Downloading http://fashion-mnist.s3-website.eu-central-1.amazonaws.com/t10k-images-idx3-ubyte.gz to ../data/FashionMNIST/raw/t10k-images-idx3-ubyte.gz\n"
          ]
        },
        {
          "output_type": "stream",
          "name": "stderr",
          "text": [
            "100%|██████████| 4.42M/4.42M [00:01<00:00, 3.93MB/s]\n"
          ]
        },
        {
          "output_type": "stream",
          "name": "stdout",
          "text": [
            "Extracting ../data/FashionMNIST/raw/t10k-images-idx3-ubyte.gz to ../data/FashionMNIST/raw\n",
            "\n",
            "Downloading http://fashion-mnist.s3-website.eu-central-1.amazonaws.com/t10k-labels-idx1-ubyte.gz\n",
            "Downloading http://fashion-mnist.s3-website.eu-central-1.amazonaws.com/t10k-labels-idx1-ubyte.gz to ../data/FashionMNIST/raw/t10k-labels-idx1-ubyte.gz\n"
          ]
        },
        {
          "output_type": "stream",
          "name": "stderr",
          "text": [
            "100%|██████████| 5.15k/5.15k [00:00<00:00, 9.99MB/s]"
          ]
        },
        {
          "output_type": "stream",
          "name": "stdout",
          "text": [
            "Extracting ../data/FashionMNIST/raw/t10k-labels-idx1-ubyte.gz to ../data/FashionMNIST/raw\n",
            "\n"
          ]
        },
        {
          "output_type": "stream",
          "name": "stderr",
          "text": [
            "\n"
          ]
        },
        {
          "output_type": "execute_result",
          "data": {
            "text/plain": [
              "(60000, 10000)"
            ]
          },
          "metadata": {},
          "execution_count": 103
        }
      ]
    },
    {
      "cell_type": "code",
      "source": [
        "data.train[0][0].shape"
      ],
      "metadata": {
        "colab": {
          "base_uri": "https://localhost:8080/"
        },
        "id": "QYn00KW3_LQr",
        "outputId": "7d106756-1c03-4813-fd1b-89e12386abeb"
      },
      "execution_count": null,
      "outputs": [
        {
          "output_type": "execute_result",
          "data": {
            "text/plain": [
              "torch.Size([1, 32, 32])"
            ]
          },
          "metadata": {},
          "execution_count": 104
        }
      ]
    },
    {
      "cell_type": "code",
      "source": [
        "@d2l.add_to_class(FashionMNIST)\n",
        "def text_labels(self, indices):\n",
        "    \"\"\"Return text labels.\"\"\"\n",
        "    labels = ['t-shirt', 'trouser', 'pullover', 'dress', 'coat',\n",
        "              'sandal', 'shirt', 'sneaker', 'bag', 'ankle boot']\n",
        "    return [labels[int(i)] for i in indices]"
      ],
      "metadata": {
        "id": "3CW6u2Ed_Noi"
      },
      "execution_count": null,
      "outputs": []
    },
    {
      "cell_type": "markdown",
      "source": [
        "###4.2.2. Reading a Minibatch"
      ],
      "metadata": {
        "id": "XTr9I-dL_apM"
      }
    },
    {
      "cell_type": "code",
      "source": [
        "@d2l.add_to_class(FashionMNIST)\n",
        "def get_dataloader(self, train):\n",
        "    data = self.train if train else self.val\n",
        "    return torch.utils.data.DataLoader(data, self.batch_size, shuffle=train,\n",
        "                                       num_workers=self.num_workers)"
      ],
      "metadata": {
        "id": "TEqlgPQy_eRt"
      },
      "execution_count": null,
      "outputs": []
    },
    {
      "cell_type": "code",
      "source": [
        "X, y = next(iter(data.train_dataloader()))\n",
        "print(X.shape, X.dtype, y.shape, y.dtype)"
      ],
      "metadata": {
        "colab": {
          "base_uri": "https://localhost:8080/"
        },
        "id": "7sQGB5lG_hYB",
        "outputId": "63d64469-dee0-4f75-a2fd-9cdd3d547aa6"
      },
      "execution_count": null,
      "outputs": [
        {
          "output_type": "stream",
          "name": "stderr",
          "text": [
            "/usr/local/lib/python3.10/dist-packages/torch/utils/data/dataloader.py:617: UserWarning: This DataLoader will create 4 worker processes in total. Our suggested max number of worker in current system is 2, which is smaller than what this DataLoader is going to create. Please be aware that excessive worker creation might get DataLoader running slow or even freeze, lower the worker number to avoid potential slowness/freeze if necessary.\n",
            "  warnings.warn(\n"
          ]
        },
        {
          "output_type": "stream",
          "name": "stdout",
          "text": [
            "torch.Size([64, 1, 32, 32]) torch.float32 torch.Size([64]) torch.int64\n"
          ]
        }
      ]
    },
    {
      "cell_type": "code",
      "source": [
        "tic = time.time()\n",
        "for X, y in data.train_dataloader():\n",
        "    continue\n",
        "f'{time.time() - tic:.2f} sec'"
      ],
      "metadata": {
        "colab": {
          "base_uri": "https://localhost:8080/",
          "height": 36
        },
        "id": "-jCdG9zG_1iS",
        "outputId": "e754da5a-145e-4683-f0cb-ae8a435ea6db"
      },
      "execution_count": null,
      "outputs": [
        {
          "output_type": "execute_result",
          "data": {
            "text/plain": [
              "'11.92 sec'"
            ],
            "application/vnd.google.colaboratory.intrinsic+json": {
              "type": "string"
            }
          },
          "metadata": {},
          "execution_count": 108
        }
      ]
    },
    {
      "cell_type": "markdown",
      "source": [
        "### 4.2.3. Visualization"
      ],
      "metadata": {
        "id": "yz3Cl9pF_5Ht"
      }
    },
    {
      "cell_type": "code",
      "source": [
        "def show_images(imgs, num_rows, num_cols, titles=None, scale=1.5):\n",
        "  \"\"\"Plot a list of images.\"\"\"\n",
        "  raise NotImplemented"
      ],
      "metadata": {
        "id": "bFuCXilt_9cM"
      },
      "execution_count": null,
      "outputs": []
    },
    {
      "cell_type": "code",
      "source": [
        "@d2l.add_to_class(FashionMNIST)\n",
        "def visualize(self, batch, nrows=1, ncols=8, labels=[]):\n",
        "    X, y = batch\n",
        "    if not labels:\n",
        "        labels = self.text_labels(y)\n",
        "    d2l.show_images(X.squeeze(1), nrows, ncols, titles=labels)\n",
        "batch = next(iter(data.val_dataloader()))\n",
        "data.visualize(batch)"
      ],
      "metadata": {
        "id": "sSt78t6zAHKx"
      },
      "execution_count": null,
      "outputs": []
    },
    {
      "cell_type": "markdown",
      "source": [
        "## 4.3. The Base Classification Model"
      ],
      "metadata": {
        "id": "l-OU4_oBBKZD"
      }
    },
    {
      "cell_type": "markdown",
      "source": [
        "### 4.3 Memo\n",
        "- Of central importance in classification is the **accuracy** of the classifier.\n",
        "- While we often care primarily about accuracy, we train classifiers to optimize a variety of other objectives for statistical and computational reasons. However, regardless of which loss function was minimized during training, it is useful to have a convenience method for assessing the **accuracy** of our classifier empirically."
      ],
      "metadata": {
        "id": "j07vEOkvXCgg"
      }
    },
    {
      "cell_type": "code",
      "source": [
        "import torch\n",
        "from d2l import torch as d2l"
      ],
      "metadata": {
        "id": "7aaHwdPTAO-T"
      },
      "execution_count": null,
      "outputs": []
    },
    {
      "cell_type": "markdown",
      "source": [
        "### 4.3.1. The Classifier Class"
      ],
      "metadata": {
        "id": "7-lwKrh2AQ6u"
      }
    },
    {
      "cell_type": "code",
      "source": [
        "class Classifier(d2l.Module):\n",
        "    \"\"\"The base class of classification models.\"\"\"\n",
        "    def validation_step(self, batch):\n",
        "        Y_hat = self(*batch[:-1])\n",
        "        self.plot('loss', self.loss(Y_hat, batch[-1]), train=False)\n",
        "        self.plot('acc', self.accuracy(Y_hat, batch[-1]), train=False)"
      ],
      "metadata": {
        "id": "mtWQ8lEBATKf"
      },
      "execution_count": null,
      "outputs": []
    },
    {
      "cell_type": "code",
      "source": [
        "@d2l.add_to_class(d2l.Module)\n",
        "def configure_optimizers(self):\n",
        "    return torch.optim.SGD(self.parameters(), lr=self.lr)"
      ],
      "metadata": {
        "id": "urwMb05QAV_y"
      },
      "execution_count": null,
      "outputs": []
    },
    {
      "cell_type": "markdown",
      "source": [
        "### 4.3.2. Accuracy"
      ],
      "metadata": {
        "id": "-eBgcQJ2AZbE"
      }
    },
    {
      "cell_type": "code",
      "source": [
        "@d2l.add_to_class(Classifier)\n",
        "def accuracy(self, Y_hat, Y, averaged=True):\n",
        "    \"\"\"Compute the number of correct predictions.\"\"\"\n",
        "    Y_hat = Y_hat.reshape((-1, Y_hat.shape[-1]))\n",
        "    preds = Y_hat.argmax(axis=1).type(Y.dtype)\n",
        "    compare = (preds == Y.reshape(-1)).type(torch.float32)\n",
        "    return compare.mean() if averaged else compare"
      ],
      "metadata": {
        "id": "D54-H3HyAcb1"
      },
      "execution_count": null,
      "outputs": []
    },
    {
      "cell_type": "markdown",
      "source": [
        "##4.4. Softmax Regression Implementation from Scratch"
      ],
      "metadata": {
        "id": "AuVirDAOBPAF"
      }
    },
    {
      "cell_type": "markdown",
      "source": [
        "### 4.4 Memo\n",
        "- We have reached what would arguably be the state of the art of 1960–1970s of statistical modeling."
      ],
      "metadata": {
        "id": "m5WGuoNcXnkO"
      }
    },
    {
      "cell_type": "code",
      "source": [
        "import torch\n",
        "from d2l import torch as d2l"
      ],
      "metadata": {
        "id": "Td_5Xih0EkBt"
      },
      "execution_count": null,
      "outputs": []
    },
    {
      "cell_type": "markdown",
      "source": [
        "### 4.4.1. The Softmax"
      ],
      "metadata": {
        "id": "gTBlfg2wE3P0"
      }
    },
    {
      "cell_type": "code",
      "source": [
        "X = torch.tensor([[1.0, 2.0, 3.0], [4.0, 5.0, 6.0]])\n",
        "X.sum(0, keepdims=True), X.sum(1, keepdims=True)"
      ],
      "metadata": {
        "id": "rzpx4jdUE8Jk"
      },
      "execution_count": null,
      "outputs": []
    },
    {
      "cell_type": "code",
      "source": [
        "def softmax(X):\n",
        "    X_exp = torch.exp(X)\n",
        "    partition = X_exp.sum(1, keepdims=True)\n",
        "    return X_exp / partition"
      ],
      "metadata": {
        "id": "LKEMlWU_FEuZ"
      },
      "execution_count": null,
      "outputs": []
    },
    {
      "cell_type": "code",
      "source": [
        "X = torch.rand((2, 5))\n",
        "X_prob = softmax(X)\n",
        "X_prob, X_prob.sum(1)"
      ],
      "metadata": {
        "id": "U8-GerN2FPgP"
      },
      "execution_count": null,
      "outputs": []
    },
    {
      "cell_type": "markdown",
      "source": [
        "### 4.4.2. The Model"
      ],
      "metadata": {
        "id": "xWyLkRkWFSfD"
      }
    },
    {
      "cell_type": "code",
      "source": [
        "class SoftmaxRegressionScratch(d2l.Classifier):\n",
        "    def __init__(self, num_inputs, num_outputs, lr, sigma=0.01):\n",
        "        super().__init__()\n",
        "        self.save_hyperparameters()\n",
        "        self.W = torch.normal(0, sigma, size=(num_inputs, num_outputs),\n",
        "                              requires_grad=True)\n",
        "        self.b = torch.zeros(num_outputs, requires_grad=True)\n",
        "\n",
        "    def parameters(self):\n",
        "        return [self.W, self.b]"
      ],
      "metadata": {
        "id": "f2ykixtMFUsm"
      },
      "execution_count": null,
      "outputs": []
    },
    {
      "cell_type": "code",
      "source": [
        "@d2l.add_to_class(SoftmaxRegressionScratch)\n",
        "def forward(self, X):\n",
        "    X = X.reshape((-1, self.W.shape[0]))\n",
        "    return softmax(torch.matmul(X, self.W) + self.b)"
      ],
      "metadata": {
        "id": "T3rMjqiLFV-r"
      },
      "execution_count": null,
      "outputs": []
    },
    {
      "cell_type": "markdown",
      "source": [
        "### 4.4.3. The Cross-Entropy Loss"
      ],
      "metadata": {
        "id": "ZKITCGl1FeZt"
      }
    },
    {
      "cell_type": "code",
      "source": [
        "y = torch.tensor([0, 2])\n",
        "y_hat = torch.tensor([[0.1, 0.3, 0.6], [0.3, 0.2, 0.5]])\n",
        "y_hat[[0, 1], y]"
      ],
      "metadata": {
        "id": "z99Zng2iFgg8"
      },
      "execution_count": null,
      "outputs": []
    },
    {
      "cell_type": "code",
      "source": [
        "def cross_entropy(y_hat, y):\n",
        "    return -torch.log(y_hat[list(range(len(y_hat))), y]).mean()\n",
        "\n",
        "cross_entropy(y_hat, y)"
      ],
      "metadata": {
        "id": "6IXhXjXqFidS"
      },
      "execution_count": null,
      "outputs": []
    },
    {
      "cell_type": "code",
      "source": [
        "@d2l.add_to_class(SoftmaxRegressionScratch)\n",
        "def loss(self, y_hat, y):\n",
        "    return cross_entropy(y_hat, y)"
      ],
      "metadata": {
        "id": "QT4VJpr2Fj1_"
      },
      "execution_count": null,
      "outputs": []
    },
    {
      "cell_type": "markdown",
      "source": [
        "### 4.4.4. Training"
      ],
      "metadata": {
        "id": "8DKZr_ujFnf1"
      }
    },
    {
      "cell_type": "code",
      "source": [
        "data = d2l.FashionMNIST(batch_size=256)\n",
        "model = SoftmaxRegressionScratch(num_inputs=784, num_outputs=10, lr=0.1)\n",
        "trainer = d2l.Trainer(max_epochs=10)\n",
        "trainer.fit(model, data)"
      ],
      "metadata": {
        "id": "VNNNQzq5FpN8"
      },
      "execution_count": null,
      "outputs": []
    },
    {
      "cell_type": "markdown",
      "source": [
        "### 4.4.5. Prediction"
      ],
      "metadata": {
        "id": "ANg-c_aDFtGI"
      }
    },
    {
      "cell_type": "code",
      "source": [
        "X, y = next(iter(data.val_dataloader()))\n",
        "preds = model(X).argmax(axis=1)\n",
        "preds.shape"
      ],
      "metadata": {
        "id": "drLmBP1OFu_B"
      },
      "execution_count": null,
      "outputs": []
    },
    {
      "cell_type": "code",
      "source": [
        "wrong = preds.type(y.dtype) != y\n",
        "X, y, preds = X[wrong], y[wrong], preds[wrong]\n",
        "labels = [a+'\\n'+b for a, b in zip(\n",
        "    data.text_labels(y), data.text_labels(preds))]\n",
        "data.visualize([X, y], labels=labels)"
      ],
      "metadata": {
        "id": "luBV-onuGB47"
      },
      "execution_count": null,
      "outputs": []
    },
    {
      "cell_type": "markdown",
      "metadata": {
        "id": "i-v4ASrifGMR"
      },
      "source": [
        "## 5.1 Multilayer Perceptrons"
      ]
    },
    {
      "cell_type": "code",
      "execution_count": null,
      "metadata": {
        "id": "vSkST0AzfJML"
      },
      "outputs": [],
      "source": [
        "%matplotlib inline\n",
        "import torch\n",
        "from d2l import torch as d2l"
      ]
    },
    {
      "cell_type": "markdown",
      "source": [
        "### 5.1.1.1 Memo\n",
        "1. Universal Approximators\n",
        "- A single-hidden-layer network, given enough nodes (possibly absurdly many), and the right set of weights, we can model any function.\n",
        "- Kernel methods are way more effective, since they are capable of solving the problem exactly even in **infinite dimensional spaces** (Kimeldorf and Wahba, 1971, Schölkopf et al., 2001). \"Universal Approximation Theorem\"\n",
        "- We can approximate many functions much more **compactly** by using deeper (rather than wider) networks (Simonyan and Zisserman, 2014)."
      ],
      "metadata": {
        "id": "EqhdLNZS7XBu"
      }
    },
    {
      "cell_type": "markdown",
      "source": [
        "$$ \\text{ReLU}(x) = \\max(x,0) $$"
      ],
      "metadata": {
        "id": "pCPzel-wFeU6"
      }
    },
    {
      "cell_type": "code",
      "source": [
        "x = torch.arange(-8.0, 8.0, 0.1, requires_grad=True)\n",
        "y = torch.relu(x)\n",
        "d2l.plot(x.detach(), y.detach(), 'x', 'relu(x)', figsize=(5, 2.5))"
      ],
      "metadata": {
        "id": "mEuD2L3y7Tw5"
      },
      "execution_count": null,
      "outputs": []
    },
    {
      "cell_type": "code",
      "source": [
        "y.backward(torch.ones_like(x), retain_graph=True)\n",
        "d2l.plot(x.detach(), x.grad, 'x', 'grad of relu', figsize=(5, 2.5))"
      ],
      "metadata": {
        "id": "EC8XmAvaF9C0"
      },
      "execution_count": null,
      "outputs": []
    },
    {
      "cell_type": "markdown",
      "source": [
        "### 5.1.2 Activation Function\n",
        "$ \\text{pReLU}(x) = \\max(0,x) + \\alpha \\min(0,x) $"
      ],
      "metadata": {
        "id": "dSiJzIIrGPKP"
      }
    },
    {
      "cell_type": "code",
      "source": [
        "pReLU = lambda x, a: torch.max(torch.tensor(0), x + a * torch.min(torch.tensor(0), x))"
      ],
      "metadata": {
        "id": "74bUTkTXGCJZ"
      },
      "execution_count": null,
      "outputs": []
    },
    {
      "cell_type": "code",
      "source": [
        "y = pReLU(x = x, a = 0.1)\n",
        "d2l.plot(x.detach(), y.detach(), 'x', 'pReLU(x)', figsize=(5, 2.5))"
      ],
      "metadata": {
        "id": "p-TSl3PHMF9L"
      },
      "execution_count": null,
      "outputs": []
    },
    {
      "cell_type": "code",
      "source": [
        "x.grad.data.zero_()\n",
        "y.backward(torch.ones_like(x), retain_graph=True)\n",
        "d2l.plot(x.detach(), x.grad, 'x', 'grad of pReLU', figsize=(5, 2.5))"
      ],
      "metadata": {
        "id": "FzQTGBqjMTiN"
      },
      "execution_count": null,
      "outputs": []
    },
    {
      "cell_type": "markdown",
      "source": [
        "Continued"
      ],
      "metadata": {
        "id": "pqQN_ONzNdav"
      }
    },
    {
      "cell_type": "code",
      "source": [
        "y = torch.sigmoid(x)\n",
        "d2l.plot(x.detach(), y.detach(), 'x', 'sigmoid(x)', figsize=(5, 2.5))"
      ],
      "metadata": {
        "id": "nWOsm8K_NCws"
      },
      "execution_count": null,
      "outputs": []
    },
    {
      "cell_type": "code",
      "source": [
        "x.grad.data.zero_()\n",
        "y.backward(torch.ones_like(x), retain_graph=True)\n",
        "d2l.plot(x.detach(), x.grad, 'x', 'grad of sigmoid', figsize=(5, 2.5))"
      ],
      "metadata": {
        "id": "txVJgsgtNmUl"
      },
      "execution_count": null,
      "outputs": []
    },
    {
      "cell_type": "markdown",
      "source": [
        "* Gradient Vanishing Problem ~ Backpropagation / Activation functions"
      ],
      "metadata": {
        "id": "Pr4OtnUkNvsW"
      }
    },
    {
      "cell_type": "markdown",
      "source": [
        "### 5.1.2.3 Tanh Function (Discussion)\n",
        "* $ \\tanh(x) = \\frac{1 - \\exp(-2x)} {1 + \\exp(-2x)} = \\frac{ \\exp(x) - \\exp(-x)} { \\exp(x) + \\exp(-x)} $  "
      ],
      "metadata": {
        "id": "j5r01fzSN5hR"
      }
    },
    {
      "cell_type": "code",
      "source": [
        "y = torch.tanh(x)\n",
        "d2l.plot(x.detach(), y.detach(), 'x', 'tanh(x)', figsize=(5, 2.5))"
      ],
      "metadata": {
        "id": "a8z9zYWgRxd3"
      },
      "execution_count": null,
      "outputs": []
    },
    {
      "cell_type": "code",
      "source": [
        "x.grad.data.zero_()\n",
        "y.backward(torch.ones_like(x), retain_graph=True)\n",
        "d2l.plot(x.detach(), x.grad, 'x', 'grad of tanh', figsize=(5, 2.5))"
      ],
      "metadata": {
        "id": "kXTDh-aJRz3C"
      },
      "execution_count": null,
      "outputs": []
    },
    {
      "cell_type": "markdown",
      "source": [
        "## 5.2. Implementation of Multilayer Perceptrons"
      ],
      "metadata": {
        "id": "EJvJ_9ptBZin"
      }
    },
    {
      "cell_type": "markdown",
      "source": [
        "### 5.2 Memo\n",
        "- Multilayer perceptrons (MLPs) are not much more complex to implement than simple linear models. The key conceptual difference is that we now concatenate multiple layers.\n",
        "- In particular, we can reuse the training algorithm and data loader. Note, though, that implementing MLPs from scratch is nonetheless messy: naming and keeping track of the model parameters makes it difficult to extend models."
      ],
      "metadata": {
        "id": "E4iifAU6X48V"
      }
    },
    {
      "cell_type": "code",
      "source": [
        "import torch\n",
        "from torch import nn\n",
        "from d2l import torch as d2l"
      ],
      "metadata": {
        "id": "bOGck7J_HpFz"
      },
      "execution_count": null,
      "outputs": []
    },
    {
      "cell_type": "markdown",
      "source": [
        "### 5.2.1. Implementation from Scratch"
      ],
      "metadata": {
        "id": "J2m7bfyaHudt"
      }
    },
    {
      "cell_type": "markdown",
      "source": [
        "#### 5.2.1.1. Initializing Model Parameters"
      ],
      "metadata": {
        "id": "xDrWBM8wH3hg"
      }
    },
    {
      "cell_type": "code",
      "source": [
        "class MLPScratch(d2l.Classifier):\n",
        "    def __init__(self, num_inputs, num_outputs, num_hiddens, lr, sigma=0.01):\n",
        "        super().__init__()\n",
        "        self.save_hyperparameters()\n",
        "        self.W1 = nn.Parameter(torch.randn(num_inputs, num_hiddens) * sigma)\n",
        "        self.b1 = nn.Parameter(torch.zeros(num_hiddens))\n",
        "        self.W2 = nn.Parameter(torch.randn(num_hiddens, num_outputs) * sigma)\n",
        "        self.b2 = nn.Parameter(torch.zeros(num_outputs))"
      ],
      "metadata": {
        "id": "_H5cXwEGHxFS"
      },
      "execution_count": null,
      "outputs": []
    },
    {
      "cell_type": "markdown",
      "source": [
        "#### 5.2.1.2. Model"
      ],
      "metadata": {
        "id": "eMYk2OHFIAi0"
      }
    },
    {
      "cell_type": "code",
      "source": [
        "def relu(X):\n",
        "    a = torch.zeros_like(X)\n",
        "    return torch.max(X, a)"
      ],
      "metadata": {
        "id": "Xm9C9L7lIC5O"
      },
      "execution_count": null,
      "outputs": []
    },
    {
      "cell_type": "code",
      "source": [
        "@d2l.add_to_class(MLPScratch)\n",
        "def forward(self, X):\n",
        "    X = X.reshape((-1, self.num_inputs))\n",
        "    H = relu(torch.matmul(X, self.W1) + self.b1)\n",
        "    return torch.matmul(H, self.W2) + self.b2"
      ],
      "metadata": {
        "id": "UZbLAHKFIEew"
      },
      "execution_count": null,
      "outputs": []
    },
    {
      "cell_type": "markdown",
      "source": [
        "#### 5.2.1.3. Training"
      ],
      "metadata": {
        "id": "bBC9_YoxIGtZ"
      }
    },
    {
      "cell_type": "code",
      "source": [
        "model = MLPScratch(num_inputs=784, num_outputs=10, num_hiddens=256, lr=0.1)\n",
        "data = d2l.FashionMNIST(batch_size=256)\n",
        "trainer = d2l.Trainer(max_epochs=10)\n",
        "trainer.fit(model, data)"
      ],
      "metadata": {
        "id": "77USbC4AIIwO"
      },
      "execution_count": null,
      "outputs": []
    },
    {
      "cell_type": "markdown",
      "source": [
        "### 5.2.2. Concise Implementation"
      ],
      "metadata": {
        "id": "omaEbngRISgI"
      }
    },
    {
      "cell_type": "markdown",
      "source": [
        "#### 5.2.2.1. Model"
      ],
      "metadata": {
        "id": "x4NS9qewIUse"
      }
    },
    {
      "cell_type": "code",
      "source": [
        "class MLP(d2l.Classifier):\n",
        "    def __init__(self, num_outputs, num_hiddens, lr):\n",
        "        super().__init__()\n",
        "        self.save_hyperparameters()\n",
        "        self.net = nn.Sequential(nn.Flatten(), nn.LazyLinear(num_hiddens),\n",
        "                                 nn.ReLU(), nn.LazyLinear(num_outputs))"
      ],
      "metadata": {
        "id": "tnYcT4gTIZL5"
      },
      "execution_count": null,
      "outputs": []
    },
    {
      "cell_type": "markdown",
      "source": [
        "#### 5.2.2.2. Training"
      ],
      "metadata": {
        "id": "8AfnWYlmIcAz"
      }
    },
    {
      "cell_type": "code",
      "source": [
        "model = MLP(num_outputs=10, num_hiddens=256, lr=0.1)\n",
        "trainer.fit(model, data)"
      ],
      "metadata": {
        "id": "OfWzHYUHIgAl"
      },
      "execution_count": null,
      "outputs": []
    },
    {
      "cell_type": "markdown",
      "source": [
        "## 5.3. Forward Propagation, Backward Propagation, and Computational"
      ],
      "metadata": {
        "id": "oHYM7UaMBfJl"
      }
    },
    {
      "cell_type": "markdown",
      "source": [
        "### 5.3 Memo\n",
        "- This chapter delves deeper into how data flows through a neural network during training. It explains how forward propagation computes predictions, and backward propagation calculates gradients.\n",
        "- Forward propagation sequentially calculates and stores intermediate variables within the computational graph defined by the neural network.\n",
        "- Backpropagation sequentially calculates and stores the gradients of intermediate variables and parameters within the neural network in the reversed order.\n",
        "- Forward propagation and backpropagation are interdependent, and training requires significantly more memory than prediction."
      ],
      "metadata": {
        "id": "AsIr8mL8YOxh"
      }
    },
    {
      "cell_type": "markdown",
      "source": [
        "### 5.3.1. Forward Propagation\n",
        "- the model’s regularized loss on a given data\n",
        "$$ J = L + s $$"
      ],
      "metadata": {
        "id": "OU2LuPNOJL-Y"
      }
    },
    {
      "cell_type": "markdown",
      "source": [
        "### 5.3.3. Backpropagation\n",
        "-  Traverses the network in reverse order, from the output to the input layer, according to the chain rule from calculus.\n",
        "$$\n",
        "\\frac{\\partial \\mathbf{Z}}{\\partial \\mathbf{X}} = \\text{prod} \\left( \\frac{\\partial \\mathbf{Z}}{\\partial \\mathbf{Y}}, \\frac{\\partial \\mathbf{Y}}{\\partial \\mathbf{X}} \\right).\n",
        "$$\n"
      ],
      "metadata": {
        "id": "wDOIM_RyK11a"
      }
    },
    {
      "cell_type": "markdown",
      "source": [
        "## Exercises"
      ],
      "metadata": {
        "id": "ng2nxIit9H_w"
      }
    },
    {
      "cell_type": "markdown",
      "source": [
        "### 2.1 Exercises"
      ],
      "metadata": {
        "id": "irRoGAeV9OkX"
      }
    },
    {
      "cell_type": "markdown",
      "source": [
        "#### Run the code in this section. Change the conditional statement X == Y to X < Y or X > Y, and then see what kind of tensor you can get.**bold text**"
      ],
      "metadata": {
        "id": "DzdphSXO9Yqh"
      }
    },
    {
      "cell_type": "code",
      "source": [
        "import torch\n",
        "\n",
        "# Define tensors\n",
        "x = torch.arange(12, dtype=torch.float32).reshape((3, 4))\n",
        "y = torch.tensor([[2.0, 1, 4, 3], [1, 2, 3, 4], [4, 3, 2, 1]])\n",
        "\n",
        "# Perform element-wise comparisons\n",
        "equal = x == y\n",
        "less_than = x < y\n",
        "greater_than = x > y\n",
        "\n",
        "# Print results\n",
        "print(\"x:\\n\", x)\n",
        "print(\"y:\\n\", y)\n",
        "print(\"x == y:\\n\", equal)\n",
        "print(\"x < y:\\n\", less_than)\n",
        "print(\"x > y:\\n\", greater_than)\n"
      ],
      "metadata": {
        "id": "0uuXzplH-79K"
      },
      "execution_count": null,
      "outputs": []
    },
    {
      "cell_type": "markdown",
      "source": [
        "#### Replace the two tensors that operate by element in the broadcasting mechanism with other shapes, e.g., 3-dimensional tensors. Is the result the same as expected?"
      ],
      "metadata": {
        "id": "E0-OzOuT-WQO"
      }
    },
    {
      "cell_type": "code",
      "source": [
        "X = torch.arange(8).reshape(4, 2, 1)\n",
        "Y = torch.arange(8).reshape(1, 2 ,4)\n",
        "\n",
        "print(f\"{X}, \\n\\n\\n{Y}, \\n\\n\\n{X + Y}\")"
      ],
      "metadata": {
        "id": "MDuEVb_x_fYl"
      },
      "execution_count": null,
      "outputs": []
    },
    {
      "cell_type": "markdown",
      "source": [
        "### 2.5 Exercises"
      ],
      "metadata": {
        "id": "YT_Xk3fzBuyu"
      }
    },
    {
      "cell_type": "markdown",
      "source": [
        "#### Let $ f(x) = (\\log(x^2) \\cdot \\sin(x)) + x^{-1} $. Write out a dependency graph tracing results from $ x $ to $ f(x) $"
      ],
      "metadata": {
        "id": "pIaUc_2EByFE"
      }
    },
    {
      "cell_type": "code",
      "source": [
        "import torch\n",
        "import numpy as np\n",
        "from d2l import torch as d2l\n",
        "\n",
        "# Creating x tensor and enabling gradients\n",
        "x = np.linspace(-np.pi, np.pi, 100)\n",
        "x = torch.tensor(x, requires_grad=True)\n",
        "\n",
        "# Calculating y = sin(x)\n",
        "y = torch.sin(x)\n",
        "\n",
        "# Calculating gradients using backward\n",
        "for i in range(100):\n",
        "    y[i].backward(retain_graph=True)\n",
        "\n",
        "# Plotting sin(x) and its gradient with respect to x\n",
        "d2l.plot(x.detach().numpy(), (y.detach().numpy(), x.grad.numpy()), legend=('sin(x)', 'grad w.r.t x'))\n"
      ],
      "metadata": {
        "id": "On2uaj_DBcuU"
      },
      "execution_count": null,
      "outputs": []
    },
    {
      "cell_type": "markdown",
      "source": [
        "#### When might you want to use forward, and when backward, differentiation? Hint: consider the amount of intermediate data needed, the ability to parallelize steps, and the size of matrices and vectors involved."
      ],
      "metadata": {
        "id": "at3TXSlVCvbb"
      }
    },
    {
      "cell_type": "code",
      "source": [
        "import torch\n",
        "import matplotlib.pyplot as plt\n",
        "import numpy as np\n",
        "import math\n",
        "\n",
        "x = torch.arange(0, 2*math.pi, 0.1)\n",
        "x.requires_grad_(True)\n",
        "\n",
        "# Calculating the sum of sin(x) and backpropagation\n",
        "y = torch.sin(x).sum()\n",
        "y.backward()\n",
        "\n",
        "dy_dx = x.grad\n",
        "\n",
        "x = x.detach().numpy()\n",
        "y = np.sin(x)\n",
        "dy_dx = dy_dx.numpy()\n",
        "\n",
        "fig = plt.figure()\n",
        "plt.plot(x, y, '-', label='y = sin(x)')\n",
        "plt.plot(x, dy_dx, '--', label='dy_dx = cos(x)')\n",
        "plt.axis('equal')\n",
        "plt.legend()\n",
        "plt.show()\n"
      ],
      "metadata": {
        "id": "9iZpiWEEBzJa"
      },
      "execution_count": null,
      "outputs": []
    }
  ],
  "metadata": {
    "colab": {
      "provenance": []
    },
    "kernelspec": {
      "display_name": "Python 3",
      "name": "python3"
    },
    "language_info": {
      "name": "python"
    }
  },
  "nbformat": 4,
  "nbformat_minor": 0
}